{
 "cells": [
  {
   "cell_type": "code",
   "execution_count": 1,
   "id": "14f67182",
   "metadata": {},
   "outputs": [
    {
     "name": "stdout",
     "output_type": "stream",
     "text": [
      "[PhysicalDevice(name='/physical_device:GPU:0', device_type='GPU')]\n",
      "2.10.1\n"
     ]
    }
   ],
   "source": [
    "import os\n",
    "os.environ['TF_CPP_MIN_LOG_LEVEL'] = '1'\n",
    "\n",
    "if False: # if True: turn off GPU\n",
    "    os.environ[\"CUDA_VISIBLE_DEVICES\"] = \"-1\"\n",
    "    gpu = False\n",
    "else:\n",
    "    gpu = True\n",
    "\n",
    "from tensorflow import keras\n",
    "from copy import deepcopy\n",
    "import tensorflow as tf\n",
    "from glob import glob\n",
    "import numpy as np\n",
    "import random\n",
    "\n",
    "\n",
    "from utils.cityscapesSequence import CitySequence, labels\n",
    "import utils.dataUtils as dataUtils\n",
    "from modelclass import DeeplabV3\n",
    "\n",
    "if gpu:\n",
    "    gpus = tf.config.experimental.list_physical_devices('GPU')\n",
    "    tf.config.experimental.set_virtual_device_configuration(\n",
    "        gpus[0], [tf.config.experimental.VirtualDeviceConfiguration(memory_limit=(1024 * 8))])\n",
    "\n",
    "print(tf.config.list_physical_devices('GPU'))\n",
    "print(tf.__version__)"
   ]
  },
  {
   "cell_type": "code",
   "execution_count": 2,
   "id": "9914fe32",
   "metadata": {},
   "outputs": [],
   "source": [
    "DATA_DIR = os.path.join(\"..\", \"cityscapes\", \"allData\")\n",
    "\n",
    "batchSize = 8\n",
    "imageSize = 256\n",
    "lrs = [5e-4, 1e-4, 5e-5, 1e-5, 5e-6]\n",
    "alphas = [1., 0.9, 0.8, 0.7, 0.6]\n"
   ]
  },
  {
   "cell_type": "markdown",
   "id": "ba5774ef",
   "metadata": {},
   "source": [
    "##### Dataset\n"
   ]
  },
  {
   "cell_type": "code",
   "execution_count": 3,
   "id": "1e9d2599",
   "metadata": {},
   "outputs": [
    {
     "name": "stdout",
     "output_type": "stream",
     "text": [
      "Getting data from: ..\\cityscapes\\allData\n",
      "Getting train data from: ..\\cityscapes\\allData\\leftImg8bit\\train\\*\\*_leftImg8bit.png\n",
      "Getting val data from: ..\\cityscapes\\allData\\leftImg8bit\\val\\*\\*_leftImg8bit.png\n",
      "Getting test data from: ..\\cityscapes\\allData\\leftImg8bit\\test\\*\\*_leftImg8bit.png\n",
      "TrainVal:  3475 Test:  1525\n"
     ]
    }
   ],
   "source": [
    "def getData(path=\"\", type=\"gtFine\", extra=False, nSplits=5, seed=0):\n",
    "    # Load data\n",
    "    xTrainVal, yTrainVal, xTest, yTest = dataUtils.getXY(path=path, extra=extra, type=type)\n",
    "    print(\"TrainVal: \", len(xTrainVal), \"Test: \", len(yTest))\n",
    "\n",
    "    # Split the data in train and validation folds\n",
    "    return dataUtils.splitTrainValFolds(xTrainVal, yTrainVal, nSplits=nSplits, seed=seed)\n",
    "\n",
    "\n",
    "def createDatasetObject(trainValFolds, imageSize=imageSize, batchSize=1, remap=\"binary\"):\n",
    "    for i, (xTrain, yTrain, xVal, yVal) in enumerate(trainValFolds):\n",
    "        print(\"Fold\", i, \"Train: \", len(xTrain), \"Val: \", len(xVal))\n",
    "\n",
    "        dataUtils.dataShuffle(xData=xTrain, yData=yTrain)\n",
    "\n",
    "        # Create the dataset\n",
    "        trainDataset = CitySequence(xTrain, yTrain, batchSize=batchSize, imageSize=imageSize, remap=remap, blur=0, crop=True, horizontalFlip=True, verticalFlip=True, brightness=0.1)\n",
    "        valDataset = CitySequence(xVal, yVal, batchSize=batchSize, imageSize=imageSize, remap=remap, blur=0, crop=True, horizontalFlip=False, verticalFlip=False, brightness=0)\n",
    "\n",
    "        yield trainDataset, valDataset, trainDataset.nClasses\n",
    "\n",
    "\n",
    "kf = getData(path=DATA_DIR, type=\"gtFine\", extra=False, nSplits=5, seed=13)\n",
    "data = createDatasetObject(kf, imageSize=imageSize, batchSize=batchSize, remap=\"binary\")"
   ]
  },
  {
   "cell_type": "markdown",
   "id": "cc951be4",
   "metadata": {},
   "source": [
    "##### Train"
   ]
  },
  {
   "cell_type": "code",
   "execution_count": 4,
   "id": "e802cd72",
   "metadata": {},
   "outputs": [
    {
     "name": "stdout",
     "output_type": "stream",
     "text": [
      "Fold 0 Train:  2780 Val:  695\n",
      "Fold: 0 learning rate: 0.0005 alpha: 1.0\n",
      "WARNING:tensorflow:`input_shape` is undefined or non-square, or `rows` is not in [96, 128, 160, 192, 224]. Weights for input shape (224, 224) will be loaded as the default.\n",
      "Epoch 1/1000\n",
      "348/348 [==============================] - ETA: 0s - loss: 57.3811 - diceAccuracy: 0.9060 - jaccardDistance: 1.6425\n",
      "Epoch 1: val_loss improved from inf to 8.45420, saving model to model-saved\\deeplabv3plus_fold_0_lr_0.0005_alpha_1.0_binary256\n"
     ]
    },
    {
     "name": "stderr",
     "output_type": "stream",
     "text": [
      "WARNING:absl:Found untraced functions such as _jit_compiled_convolution_op, _jit_compiled_convolution_op, _jit_compiled_convolution_op, _jit_compiled_convolution_op, _jit_compiled_convolution_op while saving (showing 5 of 45). These functions will not be directly callable after loading.\n"
     ]
    },
    {
     "name": "stdout",
     "output_type": "stream",
     "text": [
      "INFO:tensorflow:Assets written to: model-saved\\deeplabv3plus_fold_0_lr_0.0005_alpha_1.0_binary256\\assets\n"
     ]
    },
    {
     "name": "stderr",
     "output_type": "stream",
     "text": [
      "INFO:tensorflow:Assets written to: model-saved\\deeplabv3plus_fold_0_lr_0.0005_alpha_1.0_binary256\\assets\n"
     ]
    },
    {
     "name": "stdout",
     "output_type": "stream",
     "text": [
      "348/348 [==============================] - 402s 1s/step - loss: 57.3811 - diceAccuracy: 0.9060 - jaccardDistance: 1.6425 - val_loss: 8.4542 - val_diceAccuracy: 0.5075 - val_jaccardDistance: 6.5977 - lr: 5.0000e-04\n",
      "Epoch 2/1000\n",
      "348/348 [==============================] - ETA: 0s - loss: 2.2428 - diceAccuracy: 0.9298 - jaccardDistance: 1.2837\n",
      "Epoch 2: val_loss improved from 8.45420 to 0.47994, saving model to model-saved\\deeplabv3plus_fold_0_lr_0.0005_alpha_1.0_binary256\n"
     ]
    },
    {
     "name": "stderr",
     "output_type": "stream",
     "text": [
      "WARNING:absl:Found untraced functions such as _jit_compiled_convolution_op, _jit_compiled_convolution_op, _jit_compiled_convolution_op, _jit_compiled_convolution_op, _jit_compiled_convolution_op while saving (showing 5 of 45). These functions will not be directly callable after loading.\n"
     ]
    },
    {
     "name": "stdout",
     "output_type": "stream",
     "text": [
      "INFO:tensorflow:Assets written to: model-saved\\deeplabv3plus_fold_0_lr_0.0005_alpha_1.0_binary256\\assets\n"
     ]
    },
    {
     "name": "stderr",
     "output_type": "stream",
     "text": [
      "INFO:tensorflow:Assets written to: model-saved\\deeplabv3plus_fold_0_lr_0.0005_alpha_1.0_binary256\\assets\n"
     ]
    },
    {
     "name": "stdout",
     "output_type": "stream",
     "text": [
      "348/348 [==============================] - 376s 1s/step - loss: 2.2428 - diceAccuracy: 0.9298 - jaccardDistance: 1.2837 - val_loss: 0.4799 - val_diceAccuracy: 0.5329 - val_jaccardDistance: 6.3591 - lr: 5.0000e-04\n",
      "Epoch 3/1000\n",
      "348/348 [==============================] - ETA: 0s - loss: 0.2637 - diceAccuracy: 0.9357 - jaccardDistance: 1.1859\n",
      "Epoch 3: val_loss improved from 0.47994 to 0.43064, saving model to model-saved\\deeplabv3plus_fold_0_lr_0.0005_alpha_1.0_binary256\n"
     ]
    },
    {
     "name": "stderr",
     "output_type": "stream",
     "text": [
      "WARNING:absl:Found untraced functions such as _jit_compiled_convolution_op, _jit_compiled_convolution_op, _jit_compiled_convolution_op, _jit_compiled_convolution_op, _jit_compiled_convolution_op while saving (showing 5 of 45). These functions will not be directly callable after loading.\n"
     ]
    },
    {
     "name": "stdout",
     "output_type": "stream",
     "text": [
      "INFO:tensorflow:Assets written to: model-saved\\deeplabv3plus_fold_0_lr_0.0005_alpha_1.0_binary256\\assets\n"
     ]
    },
    {
     "name": "stderr",
     "output_type": "stream",
     "text": [
      "INFO:tensorflow:Assets written to: model-saved\\deeplabv3plus_fold_0_lr_0.0005_alpha_1.0_binary256\\assets\n"
     ]
    },
    {
     "name": "stdout",
     "output_type": "stream",
     "text": [
      "348/348 [==============================] - 374s 1s/step - loss: 0.2637 - diceAccuracy: 0.9357 - jaccardDistance: 1.1859 - val_loss: 0.4306 - val_diceAccuracy: 0.8916 - val_jaccardDistance: 1.9117 - lr: 5.0000e-04\n",
      "Epoch 4/1000\n",
      "348/348 [==============================] - ETA: 0s - loss: 0.2562 - diceAccuracy: 0.9382 - jaccardDistance: 1.1496\n",
      "Epoch 4: val_loss did not improve from 0.43064\n",
      "348/348 [==============================] - 346s 995ms/step - loss: 0.2562 - diceAccuracy: 0.9382 - jaccardDistance: 1.1496 - val_loss: 0.4629 - val_diceAccuracy: 0.5302 - val_jaccardDistance: 6.3534 - lr: 5.0000e-04\n",
      "Epoch 5/1000\n",
      "348/348 [==============================] - ETA: 0s - loss: 0.4896 - diceAccuracy: 0.9301 - jaccardDistance: 1.2379\n",
      "Epoch 5: val_loss did not improve from 0.43064\n",
      "348/348 [==============================] - 345s 993ms/step - loss: 0.4896 - diceAccuracy: 0.9301 - jaccardDistance: 1.2379 - val_loss: 1.3630 - val_diceAccuracy: 0.4760 - val_jaccardDistance: 6.8471 - lr: 5.0000e-04\n",
      "Epoch 6/1000\n",
      "348/348 [==============================] - ETA: 0s - loss: 0.4040 - diceAccuracy: 0.9388 - jaccardDistance: 1.1392\n",
      "Epoch 6: val_loss did not improve from 0.43064\n",
      "348/348 [==============================] - 345s 993ms/step - loss: 0.4040 - diceAccuracy: 0.9388 - jaccardDistance: 1.1392 - val_loss: 0.5778 - val_diceAccuracy: 0.5265 - val_jaccardDistance: 6.3881 - lr: 5.0000e-04\n",
      "Epoch 7/1000\n",
      "348/348 [==============================] - ETA: 0s - loss: 0.2258 - diceAccuracy: 0.9407 - jaccardDistance: 1.1066\n",
      "Epoch 7: val_loss improved from 0.43064 to 0.42962, saving model to model-saved\\deeplabv3plus_fold_0_lr_0.0005_alpha_1.0_binary256\n"
     ]
    },
    {
     "name": "stderr",
     "output_type": "stream",
     "text": [
      "WARNING:absl:Found untraced functions such as _jit_compiled_convolution_op, _jit_compiled_convolution_op, _jit_compiled_convolution_op, _jit_compiled_convolution_op, _jit_compiled_convolution_op while saving (showing 5 of 45). These functions will not be directly callable after loading.\n"
     ]
    },
    {
     "name": "stdout",
     "output_type": "stream",
     "text": [
      "INFO:tensorflow:Assets written to: model-saved\\deeplabv3plus_fold_0_lr_0.0005_alpha_1.0_binary256\\assets\n"
     ]
    },
    {
     "name": "stderr",
     "output_type": "stream",
     "text": [
      "INFO:tensorflow:Assets written to: model-saved\\deeplabv3plus_fold_0_lr_0.0005_alpha_1.0_binary256\\assets\n"
     ]
    },
    {
     "name": "stdout",
     "output_type": "stream",
     "text": [
      "348/348 [==============================] - 375s 1s/step - loss: 0.2258 - diceAccuracy: 0.9407 - jaccardDistance: 1.1066 - val_loss: 0.4296 - val_diceAccuracy: 0.5798 - val_jaccardDistance: 5.8787 - lr: 5.0000e-04\n",
      "Epoch 8/1000\n",
      "348/348 [==============================] - ETA: 0s - loss: 0.2574 - diceAccuracy: 0.9401 - jaccardDistance: 1.1130\n",
      "Epoch 8: val_loss did not improve from 0.42962\n",
      "348/348 [==============================] - 347s 997ms/step - loss: 0.2574 - diceAccuracy: 0.9401 - jaccardDistance: 1.1130 - val_loss: 0.5363 - val_diceAccuracy: 0.9018 - val_jaccardDistance: 1.7586 - lr: 5.0000e-04\n",
      "Epoch 9/1000\n",
      "348/348 [==============================] - ETA: 0s - loss: 0.2061 - diceAccuracy: 0.9417 - jaccardDistance: 1.0876\n",
      "Epoch 9: val_loss improved from 0.42962 to 0.20997, saving model to model-saved\\deeplabv3plus_fold_0_lr_0.0005_alpha_1.0_binary256\n"
     ]
    },
    {
     "name": "stderr",
     "output_type": "stream",
     "text": [
      "WARNING:absl:Found untraced functions such as _jit_compiled_convolution_op, _jit_compiled_convolution_op, _jit_compiled_convolution_op, _jit_compiled_convolution_op, _jit_compiled_convolution_op while saving (showing 5 of 45). These functions will not be directly callable after loading.\n"
     ]
    },
    {
     "name": "stdout",
     "output_type": "stream",
     "text": [
      "INFO:tensorflow:Assets written to: model-saved\\deeplabv3plus_fold_0_lr_0.0005_alpha_1.0_binary256\\assets\n"
     ]
    },
    {
     "name": "stderr",
     "output_type": "stream",
     "text": [
      "INFO:tensorflow:Assets written to: model-saved\\deeplabv3plus_fold_0_lr_0.0005_alpha_1.0_binary256\\assets\n"
     ]
    },
    {
     "name": "stdout",
     "output_type": "stream",
     "text": [
      "348/348 [==============================] - 376s 1s/step - loss: 0.2061 - diceAccuracy: 0.9417 - jaccardDistance: 1.0876 - val_loss: 0.2100 - val_diceAccuracy: 0.8961 - val_jaccardDistance: 1.8614 - lr: 5.0000e-04\n",
      "Epoch 10/1000\n",
      "348/348 [==============================] - ETA: 0s - loss: 0.3119 - diceAccuracy: 0.9424 - jaccardDistance: 1.0754\n",
      "Epoch 10: val_loss did not improve from 0.20997\n",
      "348/348 [==============================] - 349s 1s/step - loss: 0.3119 - diceAccuracy: 0.9424 - jaccardDistance: 1.0754 - val_loss: 0.4462 - val_diceAccuracy: 0.5361 - val_jaccardDistance: 6.2967 - lr: 5.0000e-04\n",
      "Epoch 11/1000\n",
      "348/348 [==============================] - ETA: 0s - loss: 0.1993 - diceAccuracy: 0.9417 - jaccardDistance: 1.0874\n",
      "Epoch 11: val_loss did not improve from 0.20997\n",
      "348/348 [==============================] - 349s 1s/step - loss: 0.1993 - diceAccuracy: 0.9417 - jaccardDistance: 1.0874 - val_loss: 0.2445 - val_diceAccuracy: 0.8953 - val_jaccardDistance: 1.8178 - lr: 5.0000e-04\n",
      "Epoch 12/1000\n",
      "348/348 [==============================] - ETA: 0s - loss: 0.2710 - diceAccuracy: 0.9409 - jaccardDistance: 1.1006\n",
      "Epoch 12: val_loss did not improve from 0.20997\n",
      "348/348 [==============================] - 346s 994ms/step - loss: 0.2710 - diceAccuracy: 0.9409 - jaccardDistance: 1.1006 - val_loss: 0.4767 - val_diceAccuracy: 0.5241 - val_jaccardDistance: 6.4101 - lr: 5.0000e-04\n",
      "Epoch 13/1000\n",
      "348/348 [==============================] - ETA: 0s - loss: 0.2439 - diceAccuracy: 0.9416 - jaccardDistance: 1.0890\n",
      "Epoch 13: val_loss did not improve from 0.20997\n",
      "348/348 [==============================] - 343s 986ms/step - loss: 0.2439 - diceAccuracy: 0.9416 - jaccardDistance: 1.0890 - val_loss: 0.4552 - val_diceAccuracy: 0.5245 - val_jaccardDistance: 6.4053 - lr: 5.0000e-04\n",
      "Epoch 14/1000\n",
      "348/348 [==============================] - ETA: 0s - loss: 0.5483 - diceAccuracy: 0.9405 - jaccardDistance: 1.1072\n",
      "Epoch 14: val_loss did not improve from 0.20997\n",
      "348/348 [==============================] - 346s 995ms/step - loss: 0.5483 - diceAccuracy: 0.9405 - jaccardDistance: 1.1072 - val_loss: 0.7057 - val_diceAccuracy: 0.5299 - val_jaccardDistance: 6.3535 - lr: 5.0000e-04\n",
      "Epoch 15/1000\n",
      "348/348 [==============================] - ETA: 0s - loss: 0.2652 - diceAccuracy: 0.9429 - jaccardDistance: 1.0678\n",
      "Epoch 15: val_loss did not improve from 0.20997\n",
      "348/348 [==============================] - 345s 992ms/step - loss: 0.2652 - diceAccuracy: 0.9429 - jaccardDistance: 1.0678 - val_loss: 1.0521 - val_diceAccuracy: 0.8677 - val_jaccardDistance: 2.3117 - lr: 5.0000e-04\n",
      "Epoch 16/1000\n",
      "348/348 [==============================] - ETA: 0s - loss: 0.4055 - diceAccuracy: 0.9416 - jaccardDistance: 1.0903\n",
      "Epoch 16: val_loss did not improve from 0.20997\n",
      "348/348 [==============================] - 346s 993ms/step - loss: 0.4055 - diceAccuracy: 0.9416 - jaccardDistance: 1.0903 - val_loss: 0.4690 - val_diceAccuracy: 0.5236 - val_jaccardDistance: 6.4151 - lr: 5.0000e-04\n",
      "Epoch 17/1000\n",
      "348/348 [==============================] - ETA: 0s - loss: 1.1056 - diceAccuracy: 0.9400 - jaccardDistance: 1.1111\n",
      "Epoch 17: val_loss did not improve from 0.20997\n",
      "348/348 [==============================] - 345s 990ms/step - loss: 1.1056 - diceAccuracy: 0.9400 - jaccardDistance: 1.1111 - val_loss: 0.6832 - val_diceAccuracy: 0.5243 - val_jaccardDistance: 6.4092 - lr: 5.0000e-04\n",
      "Epoch 18/1000\n",
      "348/348 [==============================] - ETA: 0s - loss: 0.2752 - diceAccuracy: 0.9433 - jaccardDistance: 1.0597\n",
      "Epoch 18: val_loss did not improve from 0.20997\n",
      "348/348 [==============================] - 345s 993ms/step - loss: 0.2752 - diceAccuracy: 0.9433 - jaccardDistance: 1.0597 - val_loss: 0.4837 - val_diceAccuracy: 0.5216 - val_jaccardDistance: 6.4330 - lr: 5.0000e-04\n",
      "Epoch 19/1000\n",
      "348/348 [==============================] - ETA: 0s - loss: 0.2280 - diceAccuracy: 0.9425 - jaccardDistance: 1.0740\n",
      "Epoch 19: val_loss did not improve from 0.20997\n",
      "348/348 [==============================] - 346s 995ms/step - loss: 0.2280 - diceAccuracy: 0.9425 - jaccardDistance: 1.0740 - val_loss: 0.6800 - val_diceAccuracy: 0.4423 - val_jaccardDistance: 7.1323 - lr: 5.0000e-04\n",
      "Epoch 20/1000\n",
      "348/348 [==============================] - ETA: 0s - loss: 0.2605 - diceAccuracy: 0.9439 - jaccardDistance: 1.0499\n",
      "Epoch 20: val_loss did not improve from 0.20997\n",
      "348/348 [==============================] - 344s 989ms/step - loss: 0.2605 - diceAccuracy: 0.9439 - jaccardDistance: 1.0499 - val_loss: 0.3208 - val_diceAccuracy: 0.7450 - val_jaccardDistance: 4.0339 - lr: 5.0000e-04\n",
      "Epoch 21/1000\n",
      "348/348 [==============================] - ETA: 0s - loss: 0.5137 - diceAccuracy: 0.9412 - jaccardDistance: 1.0926\n",
      "Epoch 21: val_loss did not improve from 0.20997\n",
      "348/348 [==============================] - 348s 1000ms/step - loss: 0.5137 - diceAccuracy: 0.9412 - jaccardDistance: 1.0926 - val_loss: 0.4925 - val_diceAccuracy: 0.5249 - val_jaccardDistance: 6.4023 - lr: 5.0000e-04\n",
      "Epoch 22/1000\n",
      "348/348 [==============================] - ETA: 0s - loss: 0.2072 - diceAccuracy: 0.9433 - jaccardDistance: 1.0591\n",
      "Epoch 22: val_loss did not improve from 0.20997\n",
      "348/348 [==============================] - 346s 996ms/step - loss: 0.2072 - diceAccuracy: 0.9433 - jaccardDistance: 1.0591 - val_loss: 0.4609 - val_diceAccuracy: 0.5264 - val_jaccardDistance: 6.3878 - lr: 5.0000e-04\n",
      "Epoch 23/1000\n",
      "348/348 [==============================] - ETA: 0s - loss: 0.1687 - diceAccuracy: 0.9442 - jaccardDistance: 1.0443\n",
      "Epoch 23: val_loss did not improve from 0.20997\n",
      "348/348 [==============================] - 346s 994ms/step - loss: 0.1687 - diceAccuracy: 0.9442 - jaccardDistance: 1.0443 - val_loss: 0.4211 - val_diceAccuracy: 0.5587 - val_jaccardDistance: 6.0814 - lr: 5.0000e-04\n",
      "Epoch 24/1000\n",
      "348/348 [==============================] - ETA: 0s - loss: 0.9309 - diceAccuracy: 0.9419 - jaccardDistance: 1.0728\n",
      "Epoch 24: val_loss did not improve from 0.20997\n",
      "348/348 [==============================] - 346s 995ms/step - loss: 0.9309 - diceAccuracy: 0.9419 - jaccardDistance: 1.0728 - val_loss: 0.3293 - val_diceAccuracy: 0.9216 - val_jaccardDistance: 1.4283 - lr: 5.0000e-04\n",
      "Epoch 25/1000\n",
      "348/348 [==============================] - ETA: 0s - loss: 0.2615 - diceAccuracy: 0.9436 - jaccardDistance: 1.0549\n",
      "Epoch 25: val_loss did not improve from 0.20997\n",
      "348/348 [==============================] - 345s 991ms/step - loss: 0.2615 - diceAccuracy: 0.9436 - jaccardDistance: 1.0549 - val_loss: 0.4645 - val_diceAccuracy: 0.5921 - val_jaccardDistance: 5.7746 - lr: 5.0000e-04\n",
      "Epoch 26/1000\n",
      "348/348 [==============================] - ETA: 0s - loss: 0.2137 - diceAccuracy: 0.9441 - jaccardDistance: 1.0452\n",
      "Epoch 26: val_loss improved from 0.20997 to 0.20749, saving model to model-saved\\deeplabv3plus_fold_0_lr_0.0005_alpha_1.0_binary256\n"
     ]
    },
    {
     "name": "stderr",
     "output_type": "stream",
     "text": [
      "WARNING:absl:Found untraced functions such as _jit_compiled_convolution_op, _jit_compiled_convolution_op, _jit_compiled_convolution_op, _jit_compiled_convolution_op, _jit_compiled_convolution_op while saving (showing 5 of 45). These functions will not be directly callable after loading.\n"
     ]
    },
    {
     "name": "stdout",
     "output_type": "stream",
     "text": [
      "INFO:tensorflow:Assets written to: model-saved\\deeplabv3plus_fold_0_lr_0.0005_alpha_1.0_binary256\\assets\n"
     ]
    },
    {
     "name": "stderr",
     "output_type": "stream",
     "text": [
      "INFO:tensorflow:Assets written to: model-saved\\deeplabv3plus_fold_0_lr_0.0005_alpha_1.0_binary256\\assets\n"
     ]
    },
    {
     "name": "stdout",
     "output_type": "stream",
     "text": [
      "348/348 [==============================] - 376s 1s/step - loss: 0.2137 - diceAccuracy: 0.9441 - jaccardDistance: 1.0452 - val_loss: 0.2075 - val_diceAccuracy: 0.9376 - val_jaccardDistance: 1.1499 - lr: 5.0000e-04\n",
      "Epoch 27/1000\n",
      "348/348 [==============================] - ETA: 0s - loss: 0.4245 - diceAccuracy: 0.9428 - jaccardDistance: 1.0631\n",
      "Epoch 27: val_loss did not improve from 0.20749\n",
      "348/348 [==============================] - 344s 990ms/step - loss: 0.4245 - diceAccuracy: 0.9428 - jaccardDistance: 1.0631 - val_loss: 0.5607 - val_diceAccuracy: 0.4407 - val_jaccardDistance: 7.1445 - lr: 5.0000e-04\n",
      "Epoch 28/1000\n",
      "348/348 [==============================] - ETA: 0s - loss: 0.2547 - diceAccuracy: 0.9453 - jaccardDistance: 1.0252\n",
      "Epoch 28: val_loss did not improve from 0.20749\n",
      "348/348 [==============================] - 348s 1s/step - loss: 0.2547 - diceAccuracy: 0.9453 - jaccardDistance: 1.0252 - val_loss: 0.5058 - val_diceAccuracy: 0.4419 - val_jaccardDistance: 7.1354 - lr: 5.0000e-04\n",
      "Epoch 29/1000\n",
      "348/348 [==============================] - ETA: 0s - loss: 0.2905 - diceAccuracy: 0.9445 - jaccardDistance: 1.0378\n",
      "Epoch 29: val_loss did not improve from 0.20749\n",
      "348/348 [==============================] - 725s 2s/step - loss: 0.2905 - diceAccuracy: 0.9445 - jaccardDistance: 1.0378 - val_loss: 0.4766 - val_diceAccuracy: 0.5250 - val_jaccardDistance: 6.4017 - lr: 5.0000e-04\n",
      "Epoch 30/1000\n",
      "348/348 [==============================] - ETA: 0s - loss: 0.1960 - diceAccuracy: 0.9456 - jaccardDistance: 1.0179\n",
      "Epoch 30: val_loss did not improve from 0.20749\n",
      "348/348 [==============================] - 327s 938ms/step - loss: 0.1960 - diceAccuracy: 0.9456 - jaccardDistance: 1.0179 - val_loss: 0.3273 - val_diceAccuracy: 0.9243 - val_jaccardDistance: 1.3784 - lr: 5.0000e-04\n",
      "Epoch 31/1000\n",
      "348/348 [==============================] - ETA: 0s - loss: 0.2009 - diceAccuracy: 0.9458 - jaccardDistance: 1.0158\n",
      "Epoch 31: val_loss did not improve from 0.20749\n",
      "348/348 [==============================] - 317s 912ms/step - loss: 0.2009 - diceAccuracy: 0.9458 - jaccardDistance: 1.0158 - val_loss: 0.4403 - val_diceAccuracy: 0.5325 - val_jaccardDistance: 6.3302 - lr: 5.0000e-04\n",
      "Epoch 32/1000\n",
      "348/348 [==============================] - ETA: 0s - loss: 0.3075 - diceAccuracy: 0.9426 - jaccardDistance: 1.0671\n",
      "Epoch 32: val_loss did not improve from 0.20749\n",
      "348/348 [==============================] - 299s 858ms/step - loss: 0.3075 - diceAccuracy: 0.9426 - jaccardDistance: 1.0671 - val_loss: 1.0271 - val_diceAccuracy: 0.8878 - val_jaccardDistance: 1.9835 - lr: 5.0000e-04\n",
      "Epoch 33/1000\n",
      "348/348 [==============================] - ETA: 0s - loss: 1.0114 - diceAccuracy: 0.9418 - jaccardDistance: 1.0801\n",
      "Epoch 33: val_loss did not improve from 0.20749\n",
      "348/348 [==============================] - 297s 853ms/step - loss: 1.0114 - diceAccuracy: 0.9418 - jaccardDistance: 1.0801 - val_loss: 0.8390 - val_diceAccuracy: 0.5217 - val_jaccardDistance: 6.4288 - lr: 5.0000e-04\n",
      "Epoch 34/1000\n",
      "348/348 [==============================] - ETA: 0s - loss: 0.3666 - diceAccuracy: 0.9459 - jaccardDistance: 1.0142  \n",
      "Epoch 34: val_loss did not improve from 0.20749\n",
      "348/348 [==============================] - 54210s 156s/step - loss: 0.3666 - diceAccuracy: 0.9459 - jaccardDistance: 1.0142 - val_loss: 0.5466 - val_diceAccuracy: 0.5248 - val_jaccardDistance: 6.4028 - lr: 5.0000e-04\n",
      "Epoch 35/1000\n",
      "348/348 [==============================] - ETA: 0s - loss: 0.2447 - diceAccuracy: 0.9453 - jaccardDistance: 1.0244\n",
      "Epoch 35: val_loss did not improve from 0.20749\n",
      "348/348 [==============================] - 346s 993ms/step - loss: 0.2447 - diceAccuracy: 0.9453 - jaccardDistance: 1.0244 - val_loss: 0.4198 - val_diceAccuracy: 0.6110 - val_jaccardDistance: 5.5650 - lr: 5.0000e-04\n",
      "Epoch 36/1000\n",
      "348/348 [==============================] - ETA: 0s - loss: 0.1972 - diceAccuracy: 0.9459 - jaccardDistance: 1.0142\n",
      "Epoch 36: val_loss improved from 0.20749 to 0.20285, saving model to model-saved\\deeplabv3plus_fold_0_lr_0.0005_alpha_1.0_binary256\n"
     ]
    },
    {
     "name": "stderr",
     "output_type": "stream",
     "text": [
      "WARNING:absl:Found untraced functions such as _jit_compiled_convolution_op, _jit_compiled_convolution_op, _jit_compiled_convolution_op, _jit_compiled_convolution_op, _jit_compiled_convolution_op while saving (showing 5 of 45). These functions will not be directly callable after loading.\n"
     ]
    },
    {
     "name": "stdout",
     "output_type": "stream",
     "text": [
      "INFO:tensorflow:Assets written to: model-saved\\deeplabv3plus_fold_0_lr_0.0005_alpha_1.0_binary256\\assets\n"
     ]
    },
    {
     "name": "stderr",
     "output_type": "stream",
     "text": [
      "INFO:tensorflow:Assets written to: model-saved\\deeplabv3plus_fold_0_lr_0.0005_alpha_1.0_binary256\\assets\n"
     ]
    },
    {
     "name": "stdout",
     "output_type": "stream",
     "text": [
      "348/348 [==============================] - 375s 1s/step - loss: 0.1972 - diceAccuracy: 0.9459 - jaccardDistance: 1.0142 - val_loss: 0.2028 - val_diceAccuracy: 0.9199 - val_jaccardDistance: 1.4703 - lr: 5.0000e-04\n",
      "Epoch 37/1000\n",
      "348/348 [==============================] - ETA: 0s - loss: 0.1888 - diceAccuracy: 0.9464 - jaccardDistance: 1.0045\n",
      "Epoch 37: val_loss did not improve from 0.20285\n",
      "348/348 [==============================] - 344s 989ms/step - loss: 0.1888 - diceAccuracy: 0.9464 - jaccardDistance: 1.0045 - val_loss: 0.2080 - val_diceAccuracy: 0.9162 - val_jaccardDistance: 1.5175 - lr: 5.0000e-04\n",
      "Epoch 38/1000\n",
      "280/348 [=======================>......] - ETA: 55s - loss: 0.1849 - diceAccuracy: 0.9462 - jaccardDistance: 1.0079"
     ]
    }
   ],
   "source": [
    "losses = {}\n",
    "\n",
    "for i, (trainDataset, valDataset, nClasses) in enumerate(data):\n",
    "    for lr in lrs:\n",
    "        for alpha in alphas:\n",
    "            print(\"Fold:\", i, \"learning rate:\", lr, \"alpha:\", alpha)\n",
    "            \n",
    "            MODEL_NAME = \"deeplabv3plus_fold_\" + str(i) + \"_lr_\" + str(lr) + \"_alpha_\" + str(alpha) + \"_binary\" + str(imageSize)\n",
    "\n",
    "            model = DeeplabV3(imageSize=imageSize, nClasses=nClasses, alpha=alpha, modelName=MODEL_NAME)\n",
    "            \n",
    "            model.run(trainDataset, valDataset, epochs=1000, learningRate=lr, batchSize=batchSize, monitor=\"val_loss\", log=True)\n",
    "\n",
    "            # Evaluate the model\n",
    "            losses[MODEL_NAME] = model.evaluate(valDataset)\n",
    "            print(\"losses\", losses)"
   ]
  },
  {
   "cell_type": "code",
   "execution_count": null,
   "id": "37b318f7",
   "metadata": {},
   "outputs": [
    {
     "data": {
      "text/plain": [
       "{}"
      ]
     },
     "execution_count": 5,
     "metadata": {},
     "output_type": "execute_result"
    }
   ],
   "source": [
    "losses"
   ]
  },
  {
   "cell_type": "markdown",
   "id": "615a50ac",
   "metadata": {},
   "source": [
    "##### TFLITE Converter\n"
   ]
  },
  {
   "cell_type": "code",
   "execution_count": null,
   "id": "8212d9aa",
   "metadata": {},
   "outputs": [],
   "source": [
    "from utils.imageUtils import representativeDatasetGen\n",
    "\n",
    "representativeData = representativeDatasetGen(path=\"../cityscapes/alldata\")"
   ]
  },
  {
   "cell_type": "code",
   "execution_count": null,
   "id": "5571200f",
   "metadata": {},
   "outputs": [],
   "source": [
    "MODEL_NAME = \"binary_rain_fog.hdf5\"\n",
    "MODEL_PATH = os.path.join(\"model-saved\", MODEL_NAME)\n",
    "\n",
    "import models\n",
    "importlib.reload(models)\n",
    "\n",
    "image_size = 256\n",
    "num_classes = 2\n",
    "alpha = 1\n",
    "\n",
    "model = models.DeeplabV3(image_size, num_classes, alpha, modelName=MODEL_NAME)\n",
    "model.load_weights(MODEL_PATH)\n",
    "\n",
    "model.toTFlite(representative_dataset_gen=representativeData, supported_ops=[tf.lite.OpsSet.TFLITE_BUILTINS])\n",
    "\n",
    "MODEL_NAME = \"binary_rain_fog.hdf5\"\n",
    "MODEL_PATH = os.path.join(\"model-saved\", MODEL_NAME)\n",
    "\n",
    "model = models.DeeplabV3(image_size, num_classes, alpha, modelName=MODEL_NAME)\n",
    "model.load_weights(MODEL_PATH)\n",
    "\n",
    "model.toTFlite(representative_dataset_gen=representativeData)"
   ]
  },
  {
   "cell_type": "code",
   "execution_count": null,
   "id": "5bc8b5cd",
   "metadata": {},
   "outputs": [],
   "source": [
    "MODEL_NAME = \"binary_rain_fog.hdf5\"\n",
    "MODEL_PATH = os.path.join(\"model-saved\", MODEL_NAME)\n",
    "\n",
    "import models\n",
    "importlib.reload(models)\n",
    "\n",
    "image_size = 256\n",
    "num_classes = 2\n",
    "alpha = 1\n",
    "\n",
    "model = models.DeeplabV3(image_size, num_classes, alpha, modelName=MODEL_NAME)\n",
    "\n",
    "model.load_weights(MODEL_PATH)\n",
    "\n"
   ]
  },
  {
   "cell_type": "code",
   "execution_count": null,
   "id": "2cd184ff",
   "metadata": {},
   "outputs": [],
   "source": []
  }
 ],
 "metadata": {
  "kernelspec": {
   "display_name": "Python 3.9.12 ('tf_gpu')",
   "language": "python",
   "name": "python3"
  },
  "language_info": {
   "codemirror_mode": {
    "name": "ipython",
    "version": 3
   },
   "file_extension": ".py",
   "mimetype": "text/x-python",
   "name": "python",
   "nbconvert_exporter": "python",
   "pygments_lexer": "ipython3",
   "version": "3.9.12"
  },
  "vscode": {
   "interpreter": {
    "hash": "23e7a0b0a1ade771721f510eeefb26c42b77578caec684a32e14f7e5228bf389"
   }
  }
 },
 "nbformat": 4,
 "nbformat_minor": 5
}
