{
 "cells": [
  {
   "cell_type": "code",
   "execution_count": 1,
   "id": "14f67182",
   "metadata": {},
   "outputs": [
    {
     "name": "stdout",
     "output_type": "stream",
     "text": [
      "[PhysicalDevice(name='/physical_device:GPU:0', device_type='GPU')]\n",
      "2.10.1\n"
     ]
    }
   ],
   "source": [
    "import os\n",
    "os.environ['TF_CPP_MIN_LOG_LEVEL'] = '1'\n",
    "\n",
    "if False: # if True: turn off GPU\n",
    "    os.environ[\"CUDA_VISIBLE_DEVICES\"] = \"-1\"\n",
    "    gpu = False\n",
    "else:\n",
    "    gpu = True\n",
    "\n",
    "from tensorflow import keras\n",
    "from copy import deepcopy\n",
    "import tensorflow as tf\n",
    "from glob import glob\n",
    "import numpy as np\n",
    "import random\n",
    "\n",
    "\n",
    "from utils.cityscapesSequence import CitySequence, labels\n",
    "import utils.dataUtils as dataUtils\n",
    "from modelclass import DeeplabV3\n",
    "\n",
    "if gpu:\n",
    "    gpus = tf.config.experimental.list_physical_devices('GPU')\n",
    "    tf.config.experimental.set_virtual_device_configuration(\n",
    "        gpus[0], [tf.config.experimental.VirtualDeviceConfiguration(memory_limit=(1024 * 8))])\n",
    "\n",
    "print(tf.config.list_physical_devices('GPU'))\n",
    "print(tf.__version__)"
   ]
  },
  {
   "cell_type": "code",
   "execution_count": 2,
   "id": "9914fe32",
   "metadata": {},
   "outputs": [],
   "source": [
    "DATA_DIR = os.path.join(\"..\", \"cityscapes\", \"allData\")\n",
    "\n",
    "batchSize = 32\n",
    "imageSize = 256\n",
    "lrs = [5e-4, 1e-4, 5e-5, 1e-5, 5e-6]\n",
    "alphas = [0.35, 0.50, 0.75, 1.0, 1.3, 1.4]\n"
   ]
  },
  {
   "cell_type": "markdown",
   "id": "ba5774ef",
   "metadata": {},
   "source": [
    "##### Dataset\n"
   ]
  },
  {
   "cell_type": "code",
   "execution_count": 3,
   "id": "1e9d2599",
   "metadata": {},
   "outputs": [
    {
     "name": "stdout",
     "output_type": "stream",
     "text": [
      "Getting data from: ..\\cityscapes\\allData\n",
      "Getting train data from: ..\\cityscapes\\allData\\leftImg8bit\\train\\*\\*_leftImg8bit.png\n",
      "Getting val data from: ..\\cityscapes\\allData\\leftImg8bit\\val\\*\\*_leftImg8bit.png\n",
      "Getting test data from: ..\\cityscapes\\allData\\leftImg8bit\\test\\*\\*_leftImg8bit.png\n",
      "TrainVal:  3475 Test:  1525\n"
     ]
    }
   ],
   "source": [
    "def getData(path=\"\", type=\"gtFine\", extra=False, nSplits=5, seed=0):\n",
    "    # Load data\n",
    "    xTrainVal, yTrainVal, xTest, yTest = dataUtils.getXY(path=path, extra=extra, type=type)\n",
    "    print(\"TrainVal: \", len(xTrainVal), \"Test: \", len(yTest))\n",
    "\n",
    "    # Split the data in train and validation folds\n",
    "    return dataUtils.splitTrainValFolds(xTrainVal, yTrainVal, nSplits=nSplits, seed=seed)\n",
    "\n",
    "\n",
    "def createDatasetObject(trainValFolds, imageSize=imageSize, batchSize=1, remap=\"binary\"):\n",
    "    for i, (xTrain, yTrain, xVal, yVal) in enumerate(trainValFolds):\n",
    "        print(\"Fold\", i, \"Train: \", len(xTrain), \"Val: \", len(xVal))\n",
    "\n",
    "        dataUtils.dataShuffle(xData=xTrain, yData=yTrain)\n",
    "\n",
    "        # Create the dataset\n",
    "        trainDataset = CitySequence(xTrain, yTrain, batchSize=batchSize, imageSize=imageSize, remap=remap, blur=0, crop=True, horizontalFlip=True, verticalFlip=True, brightness=0.1)\n",
    "        valDataset = CitySequence(xVal, yVal, batchSize=batchSize, imageSize=imageSize, remap=remap, blur=0, crop=True, horizontalFlip=False, verticalFlip=False, brightness=0)\n",
    "\n",
    "        yield trainDataset, valDataset, trainDataset.nClasses\n",
    "\n",
    "\n",
    "kf = getData(path=DATA_DIR, type=\"gtFine\", extra=False, nSplits=5, seed=13)\n",
    "data = createDatasetObject(kf, imageSize=imageSize, batchSize=batchSize, remap=\"binary\")"
   ]
  },
  {
   "cell_type": "markdown",
   "id": "cc951be4",
   "metadata": {},
   "source": [
    "##### Train"
   ]
  },
  {
   "cell_type": "code",
   "execution_count": 4,
   "id": "e802cd72",
   "metadata": {},
   "outputs": [
    {
     "name": "stdout",
     "output_type": "stream",
     "text": [
      "Fold 0 Train:  2780 Val:  695\n",
      "Fold: 0 learning rate: 0.0005 alpha: 0.35\n",
      "WARNING:tensorflow:`input_shape` is undefined or non-square, or `rows` is not in [96, 128, 160, 192, 224]. Weights for input shape (224, 224) will be loaded as the default.\n",
      "Epoch 1/1000\n",
      "348/348 [==============================] - ETA: 0s - loss: 52.1352 - diceAccuracy: 0.8846 - jaccardDistance: 1.9902\n",
      "Epoch 1: val_loss improved from inf to 14.46461, saving model to model-saved\\deeplabv3plus_fold_0_lr_0.0005_alpha_0.35_binary_256x256_deeplayer_6\n"
     ]
    },
    {
     "name": "stderr",
     "output_type": "stream",
     "text": [
      "WARNING:absl:Found untraced functions such as _jit_compiled_convolution_op, _jit_compiled_convolution_op, _jit_compiled_convolution_op, _jit_compiled_convolution_op, _jit_compiled_convolution_op while saving (showing 5 of 28). These functions will not be directly callable after loading.\n"
     ]
    },
    {
     "name": "stdout",
     "output_type": "stream",
     "text": [
      "INFO:tensorflow:Assets written to: model-saved\\deeplabv3plus_fold_0_lr_0.0005_alpha_0.35_binary_256x256_deeplayer_6\\assets\n"
     ]
    },
    {
     "name": "stderr",
     "output_type": "stream",
     "text": [
      "INFO:tensorflow:Assets written to: model-saved\\deeplabv3plus_fold_0_lr_0.0005_alpha_0.35_binary_256x256_deeplayer_6\\assets\n"
     ]
    },
    {
     "name": "stdout",
     "output_type": "stream",
     "text": [
      "348/348 [==============================] - 405s 1s/step - loss: 52.1352 - diceAccuracy: 0.8846 - jaccardDistance: 1.9902 - val_loss: 14.4646 - val_diceAccuracy: 0.4885 - val_jaccardDistance: 6.7660 - lr: 5.0000e-04\n",
      "Epoch 2/1000\n",
      "348/348 [==============================] - ETA: 0s - loss: 8.8318 - diceAccuracy: 0.9221 - jaccardDistance: 1.4111\n",
      "Epoch 2: val_loss improved from 14.46461 to 5.00204, saving model to model-saved\\deeplabv3plus_fold_0_lr_0.0005_alpha_0.35_binary_256x256_deeplayer_6\n"
     ]
    },
    {
     "name": "stderr",
     "output_type": "stream",
     "text": [
      "WARNING:absl:Found untraced functions such as _jit_compiled_convolution_op, _jit_compiled_convolution_op, _jit_compiled_convolution_op, _jit_compiled_convolution_op, _jit_compiled_convolution_op while saving (showing 5 of 28). These functions will not be directly callable after loading.\n"
     ]
    },
    {
     "name": "stdout",
     "output_type": "stream",
     "text": [
      "INFO:tensorflow:Assets written to: model-saved\\deeplabv3plus_fold_0_lr_0.0005_alpha_0.35_binary_256x256_deeplayer_6\\assets\n"
     ]
    },
    {
     "name": "stderr",
     "output_type": "stream",
     "text": [
      "INFO:tensorflow:Assets written to: model-saved\\deeplabv3plus_fold_0_lr_0.0005_alpha_0.35_binary_256x256_deeplayer_6\\assets\n"
     ]
    },
    {
     "name": "stdout",
     "output_type": "stream",
     "text": [
      "348/348 [==============================] - 375s 1s/step - loss: 8.8318 - diceAccuracy: 0.9221 - jaccardDistance: 1.4111 - val_loss: 5.0020 - val_diceAccuracy: 0.5247 - val_jaccardDistance: 6.4205 - lr: 5.0000e-04\n",
      "Epoch 3/1000\n",
      "348/348 [==============================] - ETA: 0s - loss: 2.5589 - diceAccuracy: 0.9285 - jaccardDistance: 1.3021\n",
      "Epoch 3: val_loss improved from 5.00204 to 1.33473, saving model to model-saved\\deeplabv3plus_fold_0_lr_0.0005_alpha_0.35_binary_256x256_deeplayer_6\n"
     ]
    },
    {
     "name": "stderr",
     "output_type": "stream",
     "text": [
      "WARNING:absl:Found untraced functions such as _jit_compiled_convolution_op, _jit_compiled_convolution_op, _jit_compiled_convolution_op, _jit_compiled_convolution_op, _jit_compiled_convolution_op while saving (showing 5 of 28). These functions will not be directly callable after loading.\n"
     ]
    },
    {
     "name": "stdout",
     "output_type": "stream",
     "text": [
      "INFO:tensorflow:Assets written to: model-saved\\deeplabv3plus_fold_0_lr_0.0005_alpha_0.35_binary_256x256_deeplayer_6\\assets\n"
     ]
    },
    {
     "name": "stderr",
     "output_type": "stream",
     "text": [
      "INFO:tensorflow:Assets written to: model-saved\\deeplabv3plus_fold_0_lr_0.0005_alpha_0.35_binary_256x256_deeplayer_6\\assets\n"
     ]
    },
    {
     "name": "stdout",
     "output_type": "stream",
     "text": [
      "348/348 [==============================] - 373s 1s/step - loss: 2.5589 - diceAccuracy: 0.9285 - jaccardDistance: 1.3021 - val_loss: 1.3347 - val_diceAccuracy: 0.5247 - val_jaccardDistance: 6.4029 - lr: 5.0000e-04\n",
      "Epoch 4/1000\n",
      "348/348 [==============================] - ETA: 0s - loss: 0.5576 - diceAccuracy: 0.9305 - jaccardDistance: 1.2696\n",
      "Epoch 4: val_loss improved from 1.33473 to 0.56481, saving model to model-saved\\deeplabv3plus_fold_0_lr_0.0005_alpha_0.35_binary_256x256_deeplayer_6\n"
     ]
    },
    {
     "name": "stderr",
     "output_type": "stream",
     "text": [
      "WARNING:absl:Found untraced functions such as _jit_compiled_convolution_op, _jit_compiled_convolution_op, _jit_compiled_convolution_op, _jit_compiled_convolution_op, _jit_compiled_convolution_op while saving (showing 5 of 28). These functions will not be directly callable after loading.\n"
     ]
    },
    {
     "name": "stdout",
     "output_type": "stream",
     "text": [
      "INFO:tensorflow:Assets written to: model-saved\\deeplabv3plus_fold_0_lr_0.0005_alpha_0.35_binary_256x256_deeplayer_6\\assets\n"
     ]
    },
    {
     "name": "stderr",
     "output_type": "stream",
     "text": [
      "INFO:tensorflow:Assets written to: model-saved\\deeplabv3plus_fold_0_lr_0.0005_alpha_0.35_binary_256x256_deeplayer_6\\assets\n"
     ]
    },
    {
     "name": "stdout",
     "output_type": "stream",
     "text": [
      "348/348 [==============================] - 400s 1s/step - loss: 0.5576 - diceAccuracy: 0.9305 - jaccardDistance: 1.2696 - val_loss: 0.5648 - val_diceAccuracy: 0.5441 - val_jaccardDistance: 6.2238 - lr: 5.0000e-04\n",
      "Epoch 5/1000\n",
      "348/348 [==============================] - ETA: 0s - loss: 0.2698 - diceAccuracy: 0.9320 - jaccardDistance: 1.2439\n",
      "Epoch 5: val_loss improved from 0.56481 to 0.48435, saving model to model-saved\\deeplabv3plus_fold_0_lr_0.0005_alpha_0.35_binary_256x256_deeplayer_6\n"
     ]
    },
    {
     "name": "stderr",
     "output_type": "stream",
     "text": [
      "WARNING:absl:Found untraced functions such as _jit_compiled_convolution_op, _jit_compiled_convolution_op, _jit_compiled_convolution_op, _jit_compiled_convolution_op, _jit_compiled_convolution_op while saving (showing 5 of 28). These functions will not be directly callable after loading.\n"
     ]
    },
    {
     "name": "stdout",
     "output_type": "stream",
     "text": [
      "INFO:tensorflow:Assets written to: model-saved\\deeplabv3plus_fold_0_lr_0.0005_alpha_0.35_binary_256x256_deeplayer_6\\assets\n"
     ]
    },
    {
     "name": "stderr",
     "output_type": "stream",
     "text": [
      "INFO:tensorflow:Assets written to: model-saved\\deeplabv3plus_fold_0_lr_0.0005_alpha_0.35_binary_256x256_deeplayer_6\\assets\n"
     ]
    },
    {
     "name": "stdout",
     "output_type": "stream",
     "text": [
      "348/348 [==============================] - 362s 1s/step - loss: 0.2698 - diceAccuracy: 0.9320 - jaccardDistance: 1.2439 - val_loss: 0.4844 - val_diceAccuracy: 0.6028 - val_jaccardDistance: 5.6323 - lr: 5.0000e-04\n",
      "Epoch 6/1000\n",
      "348/348 [==============================] - ETA: 0s - loss: 0.2816 - diceAccuracy: 0.9331 - jaccardDistance: 1.2241\n",
      "Epoch 6: val_loss improved from 0.48435 to 0.32480, saving model to model-saved\\deeplabv3plus_fold_0_lr_0.0005_alpha_0.35_binary_256x256_deeplayer_6\n"
     ]
    },
    {
     "name": "stderr",
     "output_type": "stream",
     "text": [
      "WARNING:absl:Found untraced functions such as _jit_compiled_convolution_op, _jit_compiled_convolution_op, _jit_compiled_convolution_op, _jit_compiled_convolution_op, _jit_compiled_convolution_op while saving (showing 5 of 28). These functions will not be directly callable after loading.\n"
     ]
    },
    {
     "name": "stdout",
     "output_type": "stream",
     "text": [
      "INFO:tensorflow:Assets written to: model-saved\\deeplabv3plus_fold_0_lr_0.0005_alpha_0.35_binary_256x256_deeplayer_6\\assets\n"
     ]
    },
    {
     "name": "stderr",
     "output_type": "stream",
     "text": [
      "INFO:tensorflow:Assets written to: model-saved\\deeplabv3plus_fold_0_lr_0.0005_alpha_0.35_binary_256x256_deeplayer_6\\assets\n"
     ]
    },
    {
     "name": "stdout",
     "output_type": "stream",
     "text": [
      "348/348 [==============================] - 378s 1s/step - loss: 0.2816 - diceAccuracy: 0.9331 - jaccardDistance: 1.2241 - val_loss: 0.3248 - val_diceAccuracy: 0.8119 - val_jaccardDistance: 3.0903 - lr: 5.0000e-04\n",
      "Epoch 7/1000\n",
      "348/348 [==============================] - ETA: 0s - loss: 0.2346 - diceAccuracy: 0.9336 - jaccardDistance: 1.2163\n",
      "Epoch 7: val_loss improved from 0.32480 to 0.28512, saving model to model-saved\\deeplabv3plus_fold_0_lr_0.0005_alpha_0.35_binary_256x256_deeplayer_6\n"
     ]
    },
    {
     "name": "stderr",
     "output_type": "stream",
     "text": [
      "WARNING:absl:Found untraced functions such as _jit_compiled_convolution_op, _jit_compiled_convolution_op, _jit_compiled_convolution_op, _jit_compiled_convolution_op, _jit_compiled_convolution_op while saving (showing 5 of 28). These functions will not be directly callable after loading.\n"
     ]
    },
    {
     "name": "stdout",
     "output_type": "stream",
     "text": [
      "INFO:tensorflow:Assets written to: model-saved\\deeplabv3plus_fold_0_lr_0.0005_alpha_0.35_binary_256x256_deeplayer_6\\assets\n"
     ]
    },
    {
     "name": "stderr",
     "output_type": "stream",
     "text": [
      "INFO:tensorflow:Assets written to: model-saved\\deeplabv3plus_fold_0_lr_0.0005_alpha_0.35_binary_256x256_deeplayer_6\\assets\n"
     ]
    },
    {
     "name": "stdout",
     "output_type": "stream",
     "text": [
      "348/348 [==============================] - 368s 1s/step - loss: 0.2346 - diceAccuracy: 0.9336 - jaccardDistance: 1.2163 - val_loss: 0.2851 - val_diceAccuracy: 0.8396 - val_jaccardDistance: 2.7189 - lr: 5.0000e-04\n",
      "Epoch 8/1000\n",
      "348/348 [==============================] - ETA: 0s - loss: 0.1906 - diceAccuracy: 0.9357 - jaccardDistance: 1.1872\n",
      "Epoch 8: val_loss did not improve from 0.28512\n",
      "348/348 [==============================] - 349s 1s/step - loss: 0.1906 - diceAccuracy: 0.9357 - jaccardDistance: 1.1872 - val_loss: 0.4279 - val_diceAccuracy: 0.5551 - val_jaccardDistance: 6.1243 - lr: 5.0000e-04\n",
      "Epoch 9/1000\n",
      "348/348 [==============================] - ETA: 0s - loss: 0.2690 - diceAccuracy: 0.9344 - jaccardDistance: 1.2040\n",
      "Epoch 9: val_loss did not improve from 0.28512\n",
      "348/348 [==============================] - 350s 1s/step - loss: 0.2690 - diceAccuracy: 0.9344 - jaccardDistance: 1.2040 - val_loss: 0.5599 - val_diceAccuracy: 0.6155 - val_jaccardDistance: 5.4712 - lr: 5.0000e-04\n",
      "Epoch 10/1000\n",
      "348/348 [==============================] - ETA: 0s - loss: 0.3087 - diceAccuracy: 0.9349 - jaccardDistance: 1.2019\n",
      "Epoch 10: val_loss did not improve from 0.28512\n",
      "348/348 [==============================] - 340s 976ms/step - loss: 0.3087 - diceAccuracy: 0.9349 - jaccardDistance: 1.2019 - val_loss: 0.4426 - val_diceAccuracy: 0.5253 - val_jaccardDistance: 6.3980 - lr: 5.0000e-04\n",
      "Epoch 11/1000\n",
      "348/348 [==============================] - ETA: 0s - loss: 0.1800 - diceAccuracy: 0.9376 - jaccardDistance: 1.1568\n",
      "Epoch 11: val_loss improved from 0.28512 to 0.19071, saving model to model-saved\\deeplabv3plus_fold_0_lr_0.0005_alpha_0.35_binary_256x256_deeplayer_6\n"
     ]
    },
    {
     "name": "stderr",
     "output_type": "stream",
     "text": [
      "WARNING:absl:Found untraced functions such as _jit_compiled_convolution_op, _jit_compiled_convolution_op, _jit_compiled_convolution_op, _jit_compiled_convolution_op, _jit_compiled_convolution_op while saving (showing 5 of 28). These functions will not be directly callable after loading.\n"
     ]
    },
    {
     "name": "stdout",
     "output_type": "stream",
     "text": [
      "INFO:tensorflow:Assets written to: model-saved\\deeplabv3plus_fold_0_lr_0.0005_alpha_0.35_binary_256x256_deeplayer_6\\assets\n"
     ]
    },
    {
     "name": "stderr",
     "output_type": "stream",
     "text": [
      "INFO:tensorflow:Assets written to: model-saved\\deeplabv3plus_fold_0_lr_0.0005_alpha_0.35_binary_256x256_deeplayer_6\\assets\n"
     ]
    },
    {
     "name": "stdout",
     "output_type": "stream",
     "text": [
      "348/348 [==============================] - 360s 1s/step - loss: 0.1800 - diceAccuracy: 0.9376 - jaccardDistance: 1.1568 - val_loss: 0.1907 - val_diceAccuracy: 0.8995 - val_jaccardDistance: 1.7995 - lr: 5.0000e-04\n",
      "Epoch 12/1000\n",
      "348/348 [==============================] - ETA: 0s - loss: 0.1927 - diceAccuracy: 0.9377 - jaccardDistance: 1.1544\n",
      "Epoch 12: val_loss did not improve from 0.19071\n",
      "348/348 [==============================] - 356s 1s/step - loss: 0.1927 - diceAccuracy: 0.9377 - jaccardDistance: 1.1544 - val_loss: 0.2411 - val_diceAccuracy: 0.9246 - val_jaccardDistance: 1.3778 - lr: 5.0000e-04\n",
      "Epoch 13/1000\n",
      "348/348 [==============================] - ETA: 0s - loss: 0.1821 - diceAccuracy: 0.9379 - jaccardDistance: 1.1516\n",
      "Epoch 13: val_loss did not improve from 0.19071\n",
      "348/348 [==============================] - 358s 1s/step - loss: 0.1821 - diceAccuracy: 0.9379 - jaccardDistance: 1.1516 - val_loss: 0.2029 - val_diceAccuracy: 0.8945 - val_jaccardDistance: 1.8702 - lr: 5.0000e-04\n",
      "Epoch 14/1000\n",
      "348/348 [==============================] - ETA: 0s - loss: 0.1845 - diceAccuracy: 0.9397 - jaccardDistance: 1.1222\n",
      "Epoch 14: val_loss did not improve from 0.19071\n",
      "348/348 [==============================] - 359s 1s/step - loss: 0.1845 - diceAccuracy: 0.9397 - jaccardDistance: 1.1222 - val_loss: 0.2026 - val_diceAccuracy: 0.9161 - val_jaccardDistance: 1.5174 - lr: 5.0000e-04\n",
      "Epoch 15/1000\n",
      "348/348 [==============================] - ETA: 0s - loss: 0.1893 - diceAccuracy: 0.9394 - jaccardDistance: 1.1274\n",
      "Epoch 15: val_loss did not improve from 0.19071\n",
      "348/348 [==============================] - 359s 1s/step - loss: 0.1893 - diceAccuracy: 0.9394 - jaccardDistance: 1.1274 - val_loss: 0.2078 - val_diceAccuracy: 0.8872 - val_jaccardDistance: 1.9950 - lr: 5.0000e-04\n",
      "Epoch 16/1000\n",
      "348/348 [==============================] - ETA: 0s - loss: 0.1891 - diceAccuracy: 0.9390 - jaccardDistance: 1.1340\n",
      "Epoch 16: val_loss did not improve from 0.19071\n",
      "348/348 [==============================] - 354s 1s/step - loss: 0.1891 - diceAccuracy: 0.9390 - jaccardDistance: 1.1340 - val_loss: 0.4115 - val_diceAccuracy: 0.7911 - val_jaccardDistance: 3.1670 - lr: 5.0000e-04\n",
      "Epoch 17/1000\n",
      "348/348 [==============================] - ETA: 0s - loss: 0.2154 - diceAccuracy: 0.9396 - jaccardDistance: 1.1221\n",
      "Epoch 17: val_loss did not improve from 0.19071\n",
      "348/348 [==============================] - 361s 1s/step - loss: 0.2154 - diceAccuracy: 0.9396 - jaccardDistance: 1.1221 - val_loss: 0.4380 - val_diceAccuracy: 0.5344 - val_jaccardDistance: 6.3173 - lr: 5.0000e-04\n",
      "Epoch 18/1000\n",
      "348/348 [==============================] - ETA: 0s - loss: 0.2031 - diceAccuracy: 0.9403 - jaccardDistance: 1.1103\n",
      "Epoch 18: val_loss did not improve from 0.19071\n",
      "348/348 [==============================] - 351s 1s/step - loss: 0.2031 - diceAccuracy: 0.9403 - jaccardDistance: 1.1103 - val_loss: 0.3751 - val_diceAccuracy: 0.6299 - val_jaccardDistance: 5.3658 - lr: 5.0000e-04\n",
      "Epoch 19/1000\n",
      "348/348 [==============================] - ETA: 0s - loss: 0.1935 - diceAccuracy: 0.9385 - jaccardDistance: 1.1380\n",
      "Epoch 19: val_loss did not improve from 0.19071\n",
      "348/348 [==============================] - 343s 985ms/step - loss: 0.1935 - diceAccuracy: 0.9385 - jaccardDistance: 1.1380 - val_loss: 0.1955 - val_diceAccuracy: 0.9080 - val_jaccardDistance: 1.6507 - lr: 5.0000e-04\n",
      "Epoch 20/1000\n",
      "348/348 [==============================] - ETA: 0s - loss: 0.1796 - diceAccuracy: 0.9398 - jaccardDistance: 1.1200\n",
      "Epoch 20: val_loss did not improve from 0.19071\n",
      "348/348 [==============================] - 345s 991ms/step - loss: 0.1796 - diceAccuracy: 0.9398 - jaccardDistance: 1.1200 - val_loss: 0.3227 - val_diceAccuracy: 0.7104 - val_jaccardDistance: 4.4414 - lr: 5.0000e-04\n",
      "Epoch 21/1000\n",
      "348/348 [==============================] - ETA: 0s - loss: 0.1791 - diceAccuracy: 0.9409 - jaccardDistance: 1.1000\n",
      "Epoch 21: val_loss improved from 0.19071 to 0.16939, saving model to model-saved\\deeplabv3plus_fold_0_lr_0.0005_alpha_0.35_binary_256x256_deeplayer_6\n"
     ]
    },
    {
     "name": "stderr",
     "output_type": "stream",
     "text": [
      "WARNING:absl:Found untraced functions such as _jit_compiled_convolution_op, _jit_compiled_convolution_op, _jit_compiled_convolution_op, _jit_compiled_convolution_op, _jit_compiled_convolution_op while saving (showing 5 of 28). These functions will not be directly callable after loading.\n"
     ]
    },
    {
     "name": "stdout",
     "output_type": "stream",
     "text": [
      "INFO:tensorflow:Assets written to: model-saved\\deeplabv3plus_fold_0_lr_0.0005_alpha_0.35_binary_256x256_deeplayer_6\\assets\n"
     ]
    },
    {
     "name": "stderr",
     "output_type": "stream",
     "text": [
      "INFO:tensorflow:Assets written to: model-saved\\deeplabv3plus_fold_0_lr_0.0005_alpha_0.35_binary_256x256_deeplayer_6\\assets\n"
     ]
    },
    {
     "name": "stdout",
     "output_type": "stream",
     "text": [
      "348/348 [==============================] - 366s 1s/step - loss: 0.1791 - diceAccuracy: 0.9409 - jaccardDistance: 1.1000 - val_loss: 0.1694 - val_diceAccuracy: 0.9343 - val_jaccardDistance: 1.2056 - lr: 5.0000e-04\n",
      "Epoch 22/1000\n",
      "348/348 [==============================] - ETA: 0s - loss: 0.1992 - diceAccuracy: 0.9402 - jaccardDistance: 1.1128\n",
      "Epoch 22: val_loss did not improve from 0.16939\n",
      "348/348 [==============================] - 353s 1s/step - loss: 0.1992 - diceAccuracy: 0.9402 - jaccardDistance: 1.1128 - val_loss: 0.1825 - val_diceAccuracy: 0.9310 - val_jaccardDistance: 1.2620 - lr: 5.0000e-04\n",
      "Epoch 23/1000\n",
      "348/348 [==============================] - ETA: 0s - loss: 0.2175 - diceAccuracy: 0.9397 - jaccardDistance: 1.1180\n",
      "Epoch 23: val_loss did not improve from 0.16939\n",
      "348/348 [==============================] - 346s 995ms/step - loss: 0.2175 - diceAccuracy: 0.9397 - jaccardDistance: 1.1180 - val_loss: 0.2671 - val_diceAccuracy: 0.9288 - val_jaccardDistance: 1.2952 - lr: 5.0000e-04\n",
      "Epoch 24/1000\n",
      "348/348 [==============================] - ETA: 0s - loss: 0.1868 - diceAccuracy: 0.9410 - jaccardDistance: 1.0974\n",
      "Epoch 24: val_loss did not improve from 0.16939\n",
      "348/348 [==============================] - 346s 993ms/step - loss: 0.1868 - diceAccuracy: 0.9410 - jaccardDistance: 1.0974 - val_loss: 0.4469 - val_diceAccuracy: 0.5569 - val_jaccardDistance: 6.1130 - lr: 5.0000e-04\n",
      "Epoch 25/1000\n",
      "348/348 [==============================] - ETA: 0s - loss: 0.2015 - diceAccuracy: 0.9404 - jaccardDistance: 1.1053\n",
      "Epoch 25: val_loss did not improve from 0.16939\n",
      "348/348 [==============================] - 348s 999ms/step - loss: 0.2015 - diceAccuracy: 0.9404 - jaccardDistance: 1.1053 - val_loss: 0.1898 - val_diceAccuracy: 0.9065 - val_jaccardDistance: 1.6743 - lr: 5.0000e-04\n",
      "Epoch 26/1000\n",
      "348/348 [==============================] - ETA: 0s - loss: 0.1871 - diceAccuracy: 0.9415 - jaccardDistance: 1.0895\n",
      "Epoch 26: val_loss did not improve from 0.16939\n",
      "348/348 [==============================] - 349s 1s/step - loss: 0.1871 - diceAccuracy: 0.9415 - jaccardDistance: 1.0895 - val_loss: 0.1991 - val_diceAccuracy: 0.9385 - val_jaccardDistance: 1.1297 - lr: 5.0000e-04\n",
      "Epoch 27/1000\n",
      "348/348 [==============================] - ETA: 0s - loss: 0.2941 - diceAccuracy: 0.9402 - jaccardDistance: 1.1045\n",
      "Epoch 27: val_loss did not improve from 0.16939\n",
      "348/348 [==============================] - 352s 1s/step - loss: 0.2941 - diceAccuracy: 0.9402 - jaccardDistance: 1.1045 - val_loss: 0.3505 - val_diceAccuracy: 0.7414 - val_jaccardDistance: 4.0618 - lr: 5.0000e-04\n",
      "Epoch 28/1000\n",
      "348/348 [==============================] - ETA: 0s - loss: 0.1894 - diceAccuracy: 0.9422 - jaccardDistance: 1.0782\n",
      "Epoch 28: val_loss did not improve from 0.16939\n",
      "348/348 [==============================] - 333s 958ms/step - loss: 0.1894 - diceAccuracy: 0.9422 - jaccardDistance: 1.0782 - val_loss: 0.2447 - val_diceAccuracy: 0.8417 - val_jaccardDistance: 2.6588 - lr: 5.0000e-04\n",
      "Epoch 29/1000\n",
      "348/348 [==============================] - ETA: 0s - loss: 0.1909 - diceAccuracy: 0.9415 - jaccardDistance: 1.0898\n",
      "Epoch 29: val_loss did not improve from 0.16939\n",
      "348/348 [==============================] - 331s 951ms/step - loss: 0.1909 - diceAccuracy: 0.9415 - jaccardDistance: 1.0898 - val_loss: 0.2224 - val_diceAccuracy: 0.8560 - val_jaccardDistance: 2.4930 - lr: 5.0000e-04\n",
      "Epoch 30/1000\n",
      "348/348 [==============================] - ETA: 0s - loss: 0.3171 - diceAccuracy: 0.9405 - jaccardDistance: 1.1053\n",
      "Epoch 30: val_loss did not improve from 0.16939\n",
      "348/348 [==============================] - 331s 953ms/step - loss: 0.3171 - diceAccuracy: 0.9405 - jaccardDistance: 1.1053 - val_loss: 0.2285 - val_diceAccuracy: 0.8611 - val_jaccardDistance: 2.4004 - lr: 5.0000e-04\n",
      "Epoch 31/1000\n",
      "348/348 [==============================] - ETA: 0s - loss: 0.2000 - diceAccuracy: 0.9419 - jaccardDistance: 1.0813\n",
      "Epoch 31: val_loss did not improve from 0.16939\n",
      "348/348 [==============================] - 332s 954ms/step - loss: 0.2000 - diceAccuracy: 0.9419 - jaccardDistance: 1.0813 - val_loss: 0.4420 - val_diceAccuracy: 0.5290 - val_jaccardDistance: 6.3631 - lr: 5.0000e-04\n",
      "Epoch 32/1000\n",
      "348/348 [==============================] - ETA: 0s - loss: 0.1668 - diceAccuracy: 0.9418 - jaccardDistance: 1.0840\n",
      "Epoch 32: val_loss did not improve from 0.16939\n",
      "348/348 [==============================] - 329s 944ms/step - loss: 0.1668 - diceAccuracy: 0.9418 - jaccardDistance: 1.0840 - val_loss: 0.3515 - val_diceAccuracy: 0.9263 - val_jaccardDistance: 1.3440 - lr: 5.0000e-04\n",
      "Epoch 33/1000\n",
      "348/348 [==============================] - ETA: 0s - loss: 0.1953 - diceAccuracy: 0.9405 - jaccardDistance: 1.1018\n",
      "Epoch 33: val_loss did not improve from 0.16939\n",
      "348/348 [==============================] - 331s 952ms/step - loss: 0.1953 - diceAccuracy: 0.9405 - jaccardDistance: 1.1018 - val_loss: 0.3109 - val_diceAccuracy: 0.9261 - val_jaccardDistance: 1.3440 - lr: 5.0000e-04\n",
      "Epoch 34/1000\n",
      "348/348 [==============================] - ETA: 0s - loss: 0.1858 - diceAccuracy: 0.9427 - jaccardDistance: 1.0682\n",
      "Epoch 34: val_loss did not improve from 0.16939\n",
      "348/348 [==============================] - 334s 959ms/step - loss: 0.1858 - diceAccuracy: 0.9427 - jaccardDistance: 1.0682 - val_loss: 0.1819 - val_diceAccuracy: 0.9214 - val_jaccardDistance: 1.4256 - lr: 5.0000e-04\n",
      "Epoch 35/1000\n",
      "348/348 [==============================] - ETA: 0s - loss: 0.2344 - diceAccuracy: 0.9418 - jaccardDistance: 1.0845\n",
      "Epoch 35: val_loss did not improve from 0.16939\n",
      "348/348 [==============================] - 332s 954ms/step - loss: 0.2344 - diceAccuracy: 0.9418 - jaccardDistance: 1.0845 - val_loss: 0.1942 - val_diceAccuracy: 0.9410 - val_jaccardDistance: 1.0980 - lr: 5.0000e-04\n",
      "Epoch 36/1000\n",
      "348/348 [==============================] - ETA: 0s - loss: 0.1674 - diceAccuracy: 0.9426 - jaccardDistance: 1.0711\n",
      "Epoch 36: val_loss did not improve from 0.16939\n",
      "348/348 [==============================] - 332s 953ms/step - loss: 0.1674 - diceAccuracy: 0.9426 - jaccardDistance: 1.0711 - val_loss: 0.4616 - val_diceAccuracy: 0.5412 - val_jaccardDistance: 6.2404 - lr: 5.0000e-04\n",
      "Epoch 37/1000\n",
      "348/348 [==============================] - ETA: 0s - loss: 0.2352 - diceAccuracy: 0.9428 - jaccardDistance: 1.0648\n",
      "Epoch 37: val_loss did not improve from 0.16939\n",
      "348/348 [==============================] - 330s 948ms/step - loss: 0.2352 - diceAccuracy: 0.9428 - jaccardDistance: 1.0648 - val_loss: 0.2812 - val_diceAccuracy: 0.9326 - val_jaccardDistance: 1.2355 - lr: 5.0000e-04\n",
      "Epoch 38/1000\n",
      "348/348 [==============================] - ETA: 0s - loss: 0.1970 - diceAccuracy: 0.9430 - jaccardDistance: 1.0631\n",
      "Epoch 38: val_loss did not improve from 0.16939\n",
      "348/348 [==============================] - 329s 945ms/step - loss: 0.1970 - diceAccuracy: 0.9430 - jaccardDistance: 1.0631 - val_loss: 0.1838 - val_diceAccuracy: 0.9323 - val_jaccardDistance: 1.2398 - lr: 5.0000e-04\n",
      "Epoch 39/1000\n",
      "348/348 [==============================] - ETA: 0s - loss: 0.2213 - diceAccuracy: 0.9404 - jaccardDistance: 1.1033\n",
      "Epoch 39: val_loss did not improve from 0.16939\n",
      "348/348 [==============================] - 329s 946ms/step - loss: 0.2213 - diceAccuracy: 0.9404 - jaccardDistance: 1.1033 - val_loss: 0.7410 - val_diceAccuracy: 0.9087 - val_jaccardDistance: 1.6509 - lr: 5.0000e-04\n",
      "Epoch 40/1000\n",
      "348/348 [==============================] - ETA: 0s - loss: 0.2748 - diceAccuracy: 0.9418 - jaccardDistance: 1.0840\n",
      "Epoch 40: val_loss did not improve from 0.16939\n",
      "348/348 [==============================] - 329s 945ms/step - loss: 0.2748 - diceAccuracy: 0.9418 - jaccardDistance: 1.0840 - val_loss: 0.2082 - val_diceAccuracy: 0.8766 - val_jaccardDistance: 2.1737 - lr: 5.0000e-04\n",
      "Epoch 41/1000\n",
      "348/348 [==============================] - ETA: 0s - loss: 0.1672 - diceAccuracy: 0.9434 - jaccardDistance: 1.0557\n",
      "Epoch 41: val_loss improved from 0.16939 to 0.16294, saving model to model-saved\\deeplabv3plus_fold_0_lr_0.0005_alpha_0.35_binary_256x256_deeplayer_6\n"
     ]
    },
    {
     "name": "stderr",
     "output_type": "stream",
     "text": [
      "WARNING:absl:Found untraced functions such as _jit_compiled_convolution_op, _jit_compiled_convolution_op, _jit_compiled_convolution_op, _jit_compiled_convolution_op, _jit_compiled_convolution_op while saving (showing 5 of 28). These functions will not be directly callable after loading.\n"
     ]
    },
    {
     "name": "stdout",
     "output_type": "stream",
     "text": [
      "INFO:tensorflow:Assets written to: model-saved\\deeplabv3plus_fold_0_lr_0.0005_alpha_0.35_binary_256x256_deeplayer_6\\assets\n"
     ]
    },
    {
     "name": "stderr",
     "output_type": "stream",
     "text": [
      "INFO:tensorflow:Assets written to: model-saved\\deeplabv3plus_fold_0_lr_0.0005_alpha_0.35_binary_256x256_deeplayer_6\\assets\n"
     ]
    },
    {
     "name": "stdout",
     "output_type": "stream",
     "text": [
      "348/348 [==============================] - 347s 997ms/step - loss: 0.1672 - diceAccuracy: 0.9434 - jaccardDistance: 1.0557 - val_loss: 0.1629 - val_diceAccuracy: 0.9399 - val_jaccardDistance: 1.1172 - lr: 5.0000e-04\n",
      "Epoch 42/1000\n",
      "348/348 [==============================] - ETA: 0s - loss: 0.1738 - diceAccuracy: 0.9433 - jaccardDistance: 1.0578\n",
      "Epoch 42: val_loss did not improve from 0.16294\n",
      "348/348 [==============================] - 328s 941ms/step - loss: 0.1738 - diceAccuracy: 0.9433 - jaccardDistance: 1.0578 - val_loss: 0.1718 - val_diceAccuracy: 0.9359 - val_jaccardDistance: 1.1792 - lr: 5.0000e-04\n",
      "Epoch 43/1000\n",
      "348/348 [==============================] - ETA: 0s - loss: 0.3104 - diceAccuracy: 0.9383 - jaccardDistance: 1.1436\n",
      "Epoch 43: val_loss did not improve from 0.16294\n",
      "348/348 [==============================] - 331s 951ms/step - loss: 0.3104 - diceAccuracy: 0.9383 - jaccardDistance: 1.1436 - val_loss: 0.4503 - val_diceAccuracy: 0.5251 - val_jaccardDistance: 6.4009 - lr: 5.0000e-04\n",
      "Epoch 44/1000\n",
      "348/348 [==============================] - ETA: 0s - loss: 0.1822 - diceAccuracy: 0.9432 - jaccardDistance: 1.0610\n",
      "Epoch 44: val_loss did not improve from 0.16294\n",
      "348/348 [==============================] - 329s 946ms/step - loss: 0.1822 - diceAccuracy: 0.9432 - jaccardDistance: 1.0610 - val_loss: 0.4285 - val_diceAccuracy: 0.5504 - val_jaccardDistance: 6.1672 - lr: 5.0000e-04\n",
      "Epoch 45/1000\n",
      "348/348 [==============================] - ETA: 0s - loss: 0.1950 - diceAccuracy: 0.9431 - jaccardDistance: 1.0615\n",
      "Epoch 45: val_loss did not improve from 0.16294\n",
      "348/348 [==============================] - 329s 946ms/step - loss: 0.1950 - diceAccuracy: 0.9431 - jaccardDistance: 1.0615 - val_loss: 0.4032 - val_diceAccuracy: 0.9289 - val_jaccardDistance: 1.2976 - lr: 5.0000e-04\n",
      "Epoch 46/1000\n",
      "348/348 [==============================] - ETA: 0s - loss: 0.2232 - diceAccuracy: 0.9432 - jaccardDistance: 1.0600\n",
      "Epoch 46: val_loss did not improve from 0.16294\n",
      "348/348 [==============================] - 329s 946ms/step - loss: 0.2232 - diceAccuracy: 0.9432 - jaccardDistance: 1.0600 - val_loss: 0.5169 - val_diceAccuracy: 0.4661 - val_jaccardDistance: 6.9346 - lr: 5.0000e-04\n",
      "Epoch 47/1000\n",
      "348/348 [==============================] - ETA: 0s - loss: 0.1958 - diceAccuracy: 0.9437 - jaccardDistance: 1.0512\n",
      "Epoch 47: val_loss did not improve from 0.16294\n",
      "348/348 [==============================] - 330s 948ms/step - loss: 0.1958 - diceAccuracy: 0.9437 - jaccardDistance: 1.0512 - val_loss: 0.3254 - val_diceAccuracy: 0.9219 - val_jaccardDistance: 1.4265 - lr: 5.0000e-04\n",
      "Epoch 48/1000\n",
      "348/348 [==============================] - ETA: 0s - loss: 0.1911 - diceAccuracy: 0.9434 - jaccardDistance: 1.0568\n",
      "Epoch 48: val_loss did not improve from 0.16294\n",
      "348/348 [==============================] - 329s 945ms/step - loss: 0.1911 - diceAccuracy: 0.9434 - jaccardDistance: 1.0568 - val_loss: 0.1718 - val_diceAccuracy: 0.9332 - val_jaccardDistance: 1.2229 - lr: 5.0000e-04\n",
      "Epoch 49/1000\n",
      "348/348 [==============================] - ETA: 0s - loss: 0.2024 - diceAccuracy: 0.9433 - jaccardDistance: 1.0580\n",
      "Epoch 49: val_loss did not improve from 0.16294\n",
      "348/348 [==============================] - 329s 946ms/step - loss: 0.2024 - diceAccuracy: 0.9433 - jaccardDistance: 1.0580 - val_loss: 0.1865 - val_diceAccuracy: 0.9303 - val_jaccardDistance: 1.2747 - lr: 5.0000e-04\n",
      "Epoch 50/1000\n",
      "348/348 [==============================] - ETA: 0s - loss: 0.1686 - diceAccuracy: 0.9434 - jaccardDistance: 1.0565\n",
      "Epoch 50: val_loss did not improve from 0.16294\n",
      "348/348 [==============================] - 331s 950ms/step - loss: 0.1686 - diceAccuracy: 0.9434 - jaccardDistance: 1.0565 - val_loss: 0.2105 - val_diceAccuracy: 0.8668 - val_jaccardDistance: 2.3069 - lr: 5.0000e-04\n",
      "Epoch 51/1000\n",
      "348/348 [==============================] - ETA: 0s - loss: 0.2418 - diceAccuracy: 0.9427 - jaccardDistance: 1.0693\n",
      "Epoch 51: val_loss did not improve from 0.16294\n",
      "348/348 [==============================] - 329s 944ms/step - loss: 0.2418 - diceAccuracy: 0.9427 - jaccardDistance: 1.0693 - val_loss: 0.3340 - val_diceAccuracy: 0.7103 - val_jaccardDistance: 4.4639 - lr: 5.0000e-04\n",
      "Epoch 52/1000\n",
      "348/348 [==============================] - ETA: 0s - loss: 0.1838 - diceAccuracy: 0.9436 - jaccardDistance: 1.0536\n",
      "Epoch 52: val_loss did not improve from 0.16294\n",
      "348/348 [==============================] - 331s 951ms/step - loss: 0.1838 - diceAccuracy: 0.9436 - jaccardDistance: 1.0536 - val_loss: 0.3279 - val_diceAccuracy: 0.7000 - val_jaccardDistance: 4.5685 - lr: 5.0000e-04\n",
      "Epoch 53/1000\n",
      "348/348 [==============================] - ETA: 0s - loss: 0.1877 - diceAccuracy: 0.9439 - jaccardDistance: 1.0482\n",
      "Epoch 53: val_loss did not improve from 0.16294\n",
      "348/348 [==============================] - 329s 944ms/step - loss: 0.1877 - diceAccuracy: 0.9439 - jaccardDistance: 1.0482 - val_loss: 0.1905 - val_diceAccuracy: 0.9045 - val_jaccardDistance: 1.7112 - lr: 5.0000e-04\n",
      "Epoch 54/1000\n",
      "348/348 [==============================] - ETA: 0s - loss: 0.1796 - diceAccuracy: 0.9443 - jaccardDistance: 1.0404\n",
      "Epoch 54: val_loss did not improve from 0.16294\n",
      "348/348 [==============================] - 331s 951ms/step - loss: 0.1796 - diceAccuracy: 0.9443 - jaccardDistance: 1.0404 - val_loss: 0.2786 - val_diceAccuracy: 0.8526 - val_jaccardDistance: 2.5349 - lr: 5.0000e-04\n",
      "Epoch 55/1000\n",
      "348/348 [==============================] - ETA: 0s - loss: 0.3385 - diceAccuracy: 0.9426 - jaccardDistance: 1.0685\n",
      "Epoch 55: val_loss did not improve from 0.16294\n",
      "348/348 [==============================] - 330s 948ms/step - loss: 0.3385 - diceAccuracy: 0.9426 - jaccardDistance: 1.0685 - val_loss: 0.4336 - val_diceAccuracy: 0.9149 - val_jaccardDistance: 1.5371 - lr: 5.0000e-04\n",
      "Epoch 56/1000\n",
      "348/348 [==============================] - ETA: 0s - loss: 0.2362 - diceAccuracy: 0.9439 - jaccardDistance: 1.0483\n",
      "Epoch 56: val_loss did not improve from 0.16294\n",
      "348/348 [==============================] - 327s 940ms/step - loss: 0.2362 - diceAccuracy: 0.9439 - jaccardDistance: 1.0483 - val_loss: 0.2373 - val_diceAccuracy: 0.8410 - val_jaccardDistance: 2.7038 - lr: 5.0000e-04\n",
      "Epoch 57/1000\n",
      "348/348 [==============================] - ETA: 0s - loss: 0.1600 - diceAccuracy: 0.9438 - jaccardDistance: 1.0500\n",
      "Epoch 57: val_loss did not improve from 0.16294\n",
      "348/348 [==============================] - 328s 943ms/step - loss: 0.1600 - diceAccuracy: 0.9438 - jaccardDistance: 1.0500 - val_loss: 0.1805 - val_diceAccuracy: 0.9093 - val_jaccardDistance: 1.6284 - lr: 5.0000e-04\n",
      "Epoch 58/1000\n",
      "348/348 [==============================] - ETA: 0s - loss: 0.2255 - diceAccuracy: 0.9412 - jaccardDistance: 1.0816\n",
      "Epoch 58: val_loss did not improve from 0.16294\n",
      "348/348 [==============================] - 328s 943ms/step - loss: 0.2255 - diceAccuracy: 0.9412 - jaccardDistance: 1.0816 - val_loss: 0.2385 - val_diceAccuracy: 0.8594 - val_jaccardDistance: 2.3999 - lr: 5.0000e-04\n",
      "Epoch 59/1000\n",
      "348/348 [==============================] - ETA: 0s - loss: 0.1679 - diceAccuracy: 0.9440 - jaccardDistance: 1.0468\n",
      "Epoch 59: val_loss did not improve from 0.16294\n",
      "348/348 [==============================] - 327s 939ms/step - loss: 0.1679 - diceAccuracy: 0.9440 - jaccardDistance: 1.0468 - val_loss: 0.2198 - val_diceAccuracy: 0.8792 - val_jaccardDistance: 2.0712 - lr: 5.0000e-04\n",
      "Epoch 60/1000\n",
      "348/348 [==============================] - ETA: 0s - loss: 0.1669 - diceAccuracy: 0.9441 - jaccardDistance: 1.0444\n",
      "Epoch 60: val_loss did not improve from 0.16294\n",
      "348/348 [==============================] - 328s 941ms/step - loss: 0.1669 - diceAccuracy: 0.9441 - jaccardDistance: 1.0444 - val_loss: 0.2789 - val_diceAccuracy: 0.7674 - val_jaccardDistance: 3.4625 - lr: 5.0000e-04\n",
      "Epoch 61/1000\n",
      "348/348 [==============================] - ETA: 0s - loss: 0.1714 - diceAccuracy: 0.9446 - jaccardDistance: 1.0361\n",
      "Epoch 61: val_loss did not improve from 0.16294\n",
      "348/348 [==============================] - 332s 954ms/step - loss: 0.1714 - diceAccuracy: 0.9446 - jaccardDistance: 1.0361 - val_loss: 0.1928 - val_diceAccuracy: 0.9344 - val_jaccardDistance: 1.2109 - lr: 5.0000e-04\n",
      "Epoch 62/1000\n",
      "348/348 [==============================] - ETA: 0s - loss: 0.1676 - diceAccuracy: 0.9445 - jaccardDistance: 1.0366\n",
      "Epoch 62: val_loss did not improve from 0.16294\n",
      "348/348 [==============================] - 328s 943ms/step - loss: 0.1676 - diceAccuracy: 0.9445 - jaccardDistance: 1.0366 - val_loss: 0.1708 - val_diceAccuracy: 0.9299 - val_jaccardDistance: 1.2835 - lr: 5.0000e-04\n",
      "Epoch 63/1000\n",
      "348/348 [==============================] - ETA: 0s - loss: 0.2420 - diceAccuracy: 0.9443 - jaccardDistance: 1.0411\n",
      "Epoch 63: val_loss did not improve from 0.16294\n",
      "348/348 [==============================] - 328s 941ms/step - loss: 0.2420 - diceAccuracy: 0.9443 - jaccardDistance: 1.0411 - val_loss: 0.4876 - val_diceAccuracy: 0.5243 - val_jaccardDistance: 6.4070 - lr: 5.0000e-04\n",
      "Epoch 64/1000\n",
      "348/348 [==============================] - ETA: 0s - loss: 0.1720 - diceAccuracy: 0.9435 - jaccardDistance: 1.0502\n",
      "Epoch 64: val_loss did not improve from 0.16294\n",
      "348/348 [==============================] - 329s 944ms/step - loss: 0.1720 - diceAccuracy: 0.9435 - jaccardDistance: 1.0502 - val_loss: 0.2180 - val_diceAccuracy: 0.8687 - val_jaccardDistance: 2.2808 - lr: 5.0000e-04\n",
      "Epoch 65/1000\n",
      "348/348 [==============================] - ETA: 0s - loss: 0.2061 - diceAccuracy: 0.9440 - jaccardDistance: 1.0461\n",
      "Epoch 65: val_loss did not improve from 0.16294\n",
      "348/348 [==============================] - 328s 944ms/step - loss: 0.2061 - diceAccuracy: 0.9440 - jaccardDistance: 1.0461 - val_loss: 0.2152 - val_diceAccuracy: 0.8664 - val_jaccardDistance: 2.3203 - lr: 5.0000e-04\n",
      "Epoch 66/1000\n",
      "348/348 [==============================] - ETA: 0s - loss: 0.2064 - diceAccuracy: 0.9441 - jaccardDistance: 1.0451\n",
      "Epoch 66: val_loss did not improve from 0.16294\n",
      "348/348 [==============================] - 328s 941ms/step - loss: 0.2064 - diceAccuracy: 0.9441 - jaccardDistance: 1.0451 - val_loss: 0.2917 - val_diceAccuracy: 0.9221 - val_jaccardDistance: 1.4152 - lr: 5.0000e-04\n",
      "Epoch 67/1000\n",
      "348/348 [==============================] - ETA: 0s - loss: 0.1268 - diceAccuracy: 0.9449 - jaccardDistance: 1.0306\n",
      "Epoch 67: val_loss did not improve from 0.16294\n",
      "348/348 [==============================] - 327s 941ms/step - loss: 0.1268 - diceAccuracy: 0.9449 - jaccardDistance: 1.0306 - val_loss: 0.2899 - val_diceAccuracy: 0.6612 - val_jaccardDistance: 5.0229 - lr: 2.5000e-04\n",
      "Epoch 68/1000\n",
      "348/348 [==============================] - ETA: 0s - loss: 0.1009 - diceAccuracy: 0.9453 - jaccardDistance: 1.0229\n",
      "Epoch 68: val_loss improved from 0.16294 to 0.10491, saving model to model-saved\\deeplabv3plus_fold_0_lr_0.0005_alpha_0.35_binary_256x256_deeplayer_6\n"
     ]
    },
    {
     "name": "stderr",
     "output_type": "stream",
     "text": [
      "WARNING:absl:Found untraced functions such as _jit_compiled_convolution_op, _jit_compiled_convolution_op, _jit_compiled_convolution_op, _jit_compiled_convolution_op, _jit_compiled_convolution_op while saving (showing 5 of 28). These functions will not be directly callable after loading.\n"
     ]
    },
    {
     "name": "stdout",
     "output_type": "stream",
     "text": [
      "INFO:tensorflow:Assets written to: model-saved\\deeplabv3plus_fold_0_lr_0.0005_alpha_0.35_binary_256x256_deeplayer_6\\assets\n"
     ]
    },
    {
     "name": "stderr",
     "output_type": "stream",
     "text": [
      "INFO:tensorflow:Assets written to: model-saved\\deeplabv3plus_fold_0_lr_0.0005_alpha_0.35_binary_256x256_deeplayer_6\\assets\n"
     ]
    },
    {
     "name": "stdout",
     "output_type": "stream",
     "text": [
      "348/348 [==============================] - 344s 987ms/step - loss: 0.1009 - diceAccuracy: 0.9453 - jaccardDistance: 1.0229 - val_loss: 0.1049 - val_diceAccuracy: 0.9388 - val_jaccardDistance: 1.1335 - lr: 2.5000e-04\n",
      "Epoch 69/1000\n",
      "348/348 [==============================] - ETA: 0s - loss: 0.1034 - diceAccuracy: 0.9454 - jaccardDistance: 1.0211\n",
      "Epoch 69: val_loss did not improve from 0.10491\n",
      "348/348 [==============================] - 329s 946ms/step - loss: 0.1034 - diceAccuracy: 0.9454 - jaccardDistance: 1.0211 - val_loss: 0.1077 - val_diceAccuracy: 0.9385 - val_jaccardDistance: 1.1405 - lr: 2.5000e-04\n",
      "Epoch 70/1000\n",
      "348/348 [==============================] - ETA: 0s - loss: 0.1115 - diceAccuracy: 0.9453 - jaccardDistance: 1.0241\n",
      "Epoch 70: val_loss did not improve from 0.10491\n",
      "348/348 [==============================] - 330s 948ms/step - loss: 0.1115 - diceAccuracy: 0.9453 - jaccardDistance: 1.0241 - val_loss: 0.1394 - val_diceAccuracy: 0.9069 - val_jaccardDistance: 1.6737 - lr: 2.5000e-04\n",
      "Epoch 71/1000\n",
      "348/348 [==============================] - ETA: 0s - loss: 0.1015 - diceAccuracy: 0.9451 - jaccardDistance: 1.0273\n",
      "Epoch 71: val_loss improved from 0.10491 to 0.10489, saving model to model-saved\\deeplabv3plus_fold_0_lr_0.0005_alpha_0.35_binary_256x256_deeplayer_6\n"
     ]
    },
    {
     "name": "stderr",
     "output_type": "stream",
     "text": [
      "WARNING:absl:Found untraced functions such as _jit_compiled_convolution_op, _jit_compiled_convolution_op, _jit_compiled_convolution_op, _jit_compiled_convolution_op, _jit_compiled_convolution_op while saving (showing 5 of 28). These functions will not be directly callable after loading.\n"
     ]
    },
    {
     "name": "stdout",
     "output_type": "stream",
     "text": [
      "INFO:tensorflow:Assets written to: model-saved\\deeplabv3plus_fold_0_lr_0.0005_alpha_0.35_binary_256x256_deeplayer_6\\assets\n"
     ]
    },
    {
     "name": "stderr",
     "output_type": "stream",
     "text": [
      "INFO:tensorflow:Assets written to: model-saved\\deeplabv3plus_fold_0_lr_0.0005_alpha_0.35_binary_256x256_deeplayer_6\\assets\n"
     ]
    },
    {
     "name": "stdout",
     "output_type": "stream",
     "text": [
      "348/348 [==============================] - 344s 989ms/step - loss: 0.1015 - diceAccuracy: 0.9451 - jaccardDistance: 1.0273 - val_loss: 0.1049 - val_diceAccuracy: 0.9394 - val_jaccardDistance: 1.1250 - lr: 2.5000e-04\n",
      "Epoch 72/1000\n",
      "348/348 [==============================] - ETA: 0s - loss: 0.1065 - diceAccuracy: 0.9455 - jaccardDistance: 1.0192\n",
      "Epoch 72: val_loss did not improve from 0.10489\n",
      "348/348 [==============================] - 328s 943ms/step - loss: 0.1065 - diceAccuracy: 0.9455 - jaccardDistance: 1.0192 - val_loss: 0.3820 - val_diceAccuracy: 0.5210 - val_jaccardDistance: 6.4419 - lr: 2.5000e-04\n",
      "Epoch 73/1000\n",
      "348/348 [==============================] - ETA: 0s - loss: 0.1055 - diceAccuracy: 0.9452 - jaccardDistance: 1.0254\n",
      "Epoch 73: val_loss did not improve from 0.10489\n",
      "348/348 [==============================] - 329s 945ms/step - loss: 0.1055 - diceAccuracy: 0.9452 - jaccardDistance: 1.0254 - val_loss: 0.1453 - val_diceAccuracy: 0.8784 - val_jaccardDistance: 2.1515 - lr: 2.5000e-04\n",
      "Epoch 74/1000\n",
      "348/348 [==============================] - ETA: 0s - loss: 0.1677 - diceAccuracy: 0.9447 - jaccardDistance: 1.0335\n",
      "Epoch 74: val_loss did not improve from 0.10489\n",
      "348/348 [==============================] - 326s 935ms/step - loss: 0.1677 - diceAccuracy: 0.9447 - jaccardDistance: 1.0335 - val_loss: 0.2085 - val_diceAccuracy: 0.9408 - val_jaccardDistance: 1.1033 - lr: 2.5000e-04\n",
      "Epoch 75/1000\n",
      "348/348 [==============================] - ETA: 0s - loss: 0.1285 - diceAccuracy: 0.9449 - jaccardDistance: 1.0303\n",
      "Epoch 75: val_loss did not improve from 0.10489\n",
      "348/348 [==============================] - 326s 938ms/step - loss: 0.1285 - diceAccuracy: 0.9449 - jaccardDistance: 1.0303 - val_loss: 0.1288 - val_diceAccuracy: 0.9082 - val_jaccardDistance: 1.6641 - lr: 2.5000e-04\n",
      "Epoch 76/1000\n",
      "348/348 [==============================] - ETA: 0s - loss: 0.1014 - diceAccuracy: 0.9460 - jaccardDistance: 1.0108\n",
      "Epoch 76: val_loss did not improve from 0.10489\n",
      "348/348 [==============================] - 329s 944ms/step - loss: 0.1014 - diceAccuracy: 0.9460 - jaccardDistance: 1.0108 - val_loss: 0.1307 - val_diceAccuracy: 0.8986 - val_jaccardDistance: 1.8182 - lr: 2.5000e-04\n",
      "Epoch 77/1000\n",
      "348/348 [==============================] - ETA: 0s - loss: 0.0989 - diceAccuracy: 0.9458 - jaccardDistance: 1.0140\n",
      "Epoch 77: val_loss did not improve from 0.10489\n",
      "348/348 [==============================] - 328s 943ms/step - loss: 0.0989 - diceAccuracy: 0.9458 - jaccardDistance: 1.0140 - val_loss: 0.1066 - val_diceAccuracy: 0.9344 - val_jaccardDistance: 1.2107 - lr: 2.5000e-04\n",
      "Epoch 78/1000\n",
      "348/348 [==============================] - ETA: 0s - loss: 0.1020 - diceAccuracy: 0.9460 - jaccardDistance: 1.0103\n",
      "Epoch 78: val_loss did not improve from 0.10489\n",
      "348/348 [==============================] - 327s 940ms/step - loss: 0.1020 - diceAccuracy: 0.9460 - jaccardDistance: 1.0103 - val_loss: 0.1101 - val_diceAccuracy: 0.9281 - val_jaccardDistance: 1.3230 - lr: 2.5000e-04\n",
      "Epoch 79/1000\n",
      "348/348 [==============================] - ETA: 0s - loss: 0.1208 - diceAccuracy: 0.9445 - jaccardDistance: 1.0377\n",
      "Epoch 79: val_loss did not improve from 0.10489\n",
      "348/348 [==============================] - 329s 946ms/step - loss: 0.1208 - diceAccuracy: 0.9445 - jaccardDistance: 1.0377 - val_loss: 0.4069 - val_diceAccuracy: 0.5251 - val_jaccardDistance: 6.4002 - lr: 2.5000e-04\n",
      "Epoch 80/1000\n",
      "348/348 [==============================] - ETA: 0s - loss: 0.1027 - diceAccuracy: 0.9458 - jaccardDistance: 1.0139\n",
      "Epoch 80: val_loss did not improve from 0.10489\n",
      "348/348 [==============================] - 329s 944ms/step - loss: 0.1027 - diceAccuracy: 0.9458 - jaccardDistance: 1.0139 - val_loss: 0.3740 - val_diceAccuracy: 0.5330 - val_jaccardDistance: 6.3289 - lr: 2.5000e-04\n",
      "Epoch 81/1000\n",
      "348/348 [==============================] - ETA: 0s - loss: 0.1067 - diceAccuracy: 0.9460 - jaccardDistance: 1.0117\n",
      "Epoch 81: val_loss did not improve from 0.10489\n",
      "348/348 [==============================] - 330s 948ms/step - loss: 0.1067 - diceAccuracy: 0.9460 - jaccardDistance: 1.0117 - val_loss: 0.1253 - val_diceAccuracy: 0.9220 - val_jaccardDistance: 1.4283 - lr: 2.5000e-04\n",
      "Epoch 82/1000\n",
      "348/348 [==============================] - ETA: 0s - loss: 0.1011 - diceAccuracy: 0.9459 - jaccardDistance: 1.0124\n",
      "Epoch 82: val_loss improved from 0.10489 to 0.10467, saving model to model-saved\\deeplabv3plus_fold_0_lr_0.0005_alpha_0.35_binary_256x256_deeplayer_6\n"
     ]
    },
    {
     "name": "stderr",
     "output_type": "stream",
     "text": [
      "WARNING:absl:Found untraced functions such as _jit_compiled_convolution_op, _jit_compiled_convolution_op, _jit_compiled_convolution_op, _jit_compiled_convolution_op, _jit_compiled_convolution_op while saving (showing 5 of 28). These functions will not be directly callable after loading.\n"
     ]
    },
    {
     "name": "stdout",
     "output_type": "stream",
     "text": [
      "INFO:tensorflow:Assets written to: model-saved\\deeplabv3plus_fold_0_lr_0.0005_alpha_0.35_binary_256x256_deeplayer_6\\assets\n"
     ]
    },
    {
     "name": "stderr",
     "output_type": "stream",
     "text": [
      "INFO:tensorflow:Assets written to: model-saved\\deeplabv3plus_fold_0_lr_0.0005_alpha_0.35_binary_256x256_deeplayer_6\\assets\n"
     ]
    },
    {
     "name": "stdout",
     "output_type": "stream",
     "text": [
      "348/348 [==============================] - 345s 991ms/step - loss: 0.1011 - diceAccuracy: 0.9459 - jaccardDistance: 1.0124 - val_loss: 0.1047 - val_diceAccuracy: 0.9395 - val_jaccardDistance: 1.1209 - lr: 2.5000e-04\n",
      "Epoch 83/1000\n",
      "348/348 [==============================] - ETA: 0s - loss: 0.1004 - diceAccuracy: 0.9458 - jaccardDistance: 1.0146\n",
      "Epoch 83: val_loss did not improve from 0.10467\n",
      "348/348 [==============================] - 326s 936ms/step - loss: 0.1004 - diceAccuracy: 0.9458 - jaccardDistance: 1.0146 - val_loss: 0.1184 - val_diceAccuracy: 0.9229 - val_jaccardDistance: 1.3980 - lr: 2.5000e-04\n",
      "Epoch 84/1000\n",
      "348/348 [==============================] - ETA: 0s - loss: 0.1002 - diceAccuracy: 0.9465 - jaccardDistance: 1.0022\n",
      "Epoch 84: val_loss improved from 0.10467 to 0.10376, saving model to model-saved\\deeplabv3plus_fold_0_lr_0.0005_alpha_0.35_binary_256x256_deeplayer_6\n"
     ]
    },
    {
     "name": "stderr",
     "output_type": "stream",
     "text": [
      "WARNING:absl:Found untraced functions such as _jit_compiled_convolution_op, _jit_compiled_convolution_op, _jit_compiled_convolution_op, _jit_compiled_convolution_op, _jit_compiled_convolution_op while saving (showing 5 of 28). These functions will not be directly callable after loading.\n"
     ]
    },
    {
     "name": "stdout",
     "output_type": "stream",
     "text": [
      "INFO:tensorflow:Assets written to: model-saved\\deeplabv3plus_fold_0_lr_0.0005_alpha_0.35_binary_256x256_deeplayer_6\\assets\n"
     ]
    },
    {
     "name": "stderr",
     "output_type": "stream",
     "text": [
      "INFO:tensorflow:Assets written to: model-saved\\deeplabv3plus_fold_0_lr_0.0005_alpha_0.35_binary_256x256_deeplayer_6\\assets\n"
     ]
    },
    {
     "name": "stdout",
     "output_type": "stream",
     "text": [
      "348/348 [==============================] - 344s 989ms/step - loss: 0.1002 - diceAccuracy: 0.9465 - jaccardDistance: 1.0022 - val_loss: 0.1038 - val_diceAccuracy: 0.9379 - val_jaccardDistance: 1.1519 - lr: 2.5000e-04\n",
      "Epoch 85/1000\n",
      "348/348 [==============================] - ETA: 0s - loss: 0.1275 - diceAccuracy: 0.9445 - jaccardDistance: 1.0344\n",
      "Epoch 85: val_loss did not improve from 0.10376\n",
      "348/348 [==============================] - 328s 941ms/step - loss: 0.1275 - diceAccuracy: 0.9445 - jaccardDistance: 1.0344 - val_loss: 0.1228 - val_diceAccuracy: 0.9385 - val_jaccardDistance: 1.1424 - lr: 2.5000e-04\n",
      "Epoch 86/1000\n",
      "348/348 [==============================] - ETA: 0s - loss: 0.1004 - diceAccuracy: 0.9462 - jaccardDistance: 1.0068\n",
      "Epoch 86: val_loss did not improve from 0.10376\n",
      "348/348 [==============================] - 329s 945ms/step - loss: 0.1004 - diceAccuracy: 0.9462 - jaccardDistance: 1.0068 - val_loss: 0.1508 - val_diceAccuracy: 0.8671 - val_jaccardDistance: 2.3268 - lr: 2.5000e-04\n",
      "Epoch 87/1000\n",
      "348/348 [==============================] - ETA: 0s - loss: 0.1037 - diceAccuracy: 0.9467 - jaccardDistance: 0.9977\n",
      "Epoch 87: val_loss did not improve from 0.10376\n",
      "348/348 [==============================] - 331s 952ms/step - loss: 0.1037 - diceAccuracy: 0.9467 - jaccardDistance: 0.9977 - val_loss: 0.1296 - val_diceAccuracy: 0.8986 - val_jaccardDistance: 1.8172 - lr: 2.5000e-04\n",
      "Epoch 88/1000\n",
      "348/348 [==============================] - ETA: 0s - loss: 0.1031 - diceAccuracy: 0.9458 - jaccardDistance: 1.0148\n",
      "Epoch 88: val_loss did not improve from 0.10376\n",
      "348/348 [==============================] - 328s 944ms/step - loss: 0.1031 - diceAccuracy: 0.9458 - jaccardDistance: 1.0148 - val_loss: 0.1073 - val_diceAccuracy: 0.9368 - val_jaccardDistance: 1.1639 - lr: 2.5000e-04\n",
      "Epoch 89/1000\n",
      "348/348 [==============================] - ETA: 0s - loss: 0.0999 - diceAccuracy: 0.9456 - jaccardDistance: 1.0171\n",
      "Epoch 89: val_loss improved from 0.10376 to 0.10291, saving model to model-saved\\deeplabv3plus_fold_0_lr_0.0005_alpha_0.35_binary_256x256_deeplayer_6\n"
     ]
    },
    {
     "name": "stderr",
     "output_type": "stream",
     "text": [
      "WARNING:absl:Found untraced functions such as _jit_compiled_convolution_op, _jit_compiled_convolution_op, _jit_compiled_convolution_op, _jit_compiled_convolution_op, _jit_compiled_convolution_op while saving (showing 5 of 28). These functions will not be directly callable after loading.\n"
     ]
    },
    {
     "name": "stdout",
     "output_type": "stream",
     "text": [
      "INFO:tensorflow:Assets written to: model-saved\\deeplabv3plus_fold_0_lr_0.0005_alpha_0.35_binary_256x256_deeplayer_6\\assets\n"
     ]
    },
    {
     "name": "stderr",
     "output_type": "stream",
     "text": [
      "INFO:tensorflow:Assets written to: model-saved\\deeplabv3plus_fold_0_lr_0.0005_alpha_0.35_binary_256x256_deeplayer_6\\assets\n"
     ]
    },
    {
     "name": "stdout",
     "output_type": "stream",
     "text": [
      "348/348 [==============================] - 344s 990ms/step - loss: 0.0999 - diceAccuracy: 0.9456 - jaccardDistance: 1.0171 - val_loss: 0.1029 - val_diceAccuracy: 0.9412 - val_jaccardDistance: 1.0963 - lr: 2.5000e-04\n",
      "Epoch 90/1000\n",
      "348/348 [==============================] - ETA: 0s - loss: 0.1136 - diceAccuracy: 0.9457 - jaccardDistance: 1.0161\n",
      "Epoch 90: val_loss did not improve from 0.10291\n",
      "348/348 [==============================] - 329s 946ms/step - loss: 0.1136 - diceAccuracy: 0.9457 - jaccardDistance: 1.0161 - val_loss: 0.1087 - val_diceAccuracy: 0.9408 - val_jaccardDistance: 1.0914 - lr: 2.5000e-04\n",
      "Epoch 91/1000\n",
      "348/348 [==============================] - ETA: 0s - loss: 0.1019 - diceAccuracy: 0.9460 - jaccardDistance: 1.0108\n",
      "Epoch 91: val_loss did not improve from 0.10291\n",
      "348/348 [==============================] - 330s 947ms/step - loss: 0.1019 - diceAccuracy: 0.9460 - jaccardDistance: 1.0108 - val_loss: 0.1281 - val_diceAccuracy: 0.9058 - val_jaccardDistance: 1.6993 - lr: 2.5000e-04\n",
      "Epoch 92/1000\n",
      "348/348 [==============================] - ETA: 0s - loss: 0.1024 - diceAccuracy: 0.9460 - jaccardDistance: 1.0102\n",
      "Epoch 92: val_loss did not improve from 0.10291\n",
      "348/348 [==============================] - 330s 947ms/step - loss: 0.1024 - diceAccuracy: 0.9460 - jaccardDistance: 1.0102 - val_loss: 0.1395 - val_diceAccuracy: 0.8860 - val_jaccardDistance: 2.0184 - lr: 2.5000e-04\n",
      "Epoch 93/1000\n",
      "348/348 [==============================] - ETA: 0s - loss: 0.1091 - diceAccuracy: 0.9457 - jaccardDistance: 1.0157\n",
      "Epoch 93: val_loss did not improve from 0.10291\n",
      "348/348 [==============================] - 329s 944ms/step - loss: 0.1091 - diceAccuracy: 0.9457 - jaccardDistance: 1.0157 - val_loss: 0.1110 - val_diceAccuracy: 0.9348 - val_jaccardDistance: 1.2092 - lr: 2.5000e-04\n",
      "Epoch 94/1000\n",
      "348/348 [==============================] - ETA: 0s - loss: 0.1016 - diceAccuracy: 0.9460 - jaccardDistance: 1.0110\n",
      "Epoch 94: val_loss improved from 0.10291 to 0.10240, saving model to model-saved\\deeplabv3plus_fold_0_lr_0.0005_alpha_0.35_binary_256x256_deeplayer_6\n"
     ]
    },
    {
     "name": "stderr",
     "output_type": "stream",
     "text": [
      "WARNING:absl:Found untraced functions such as _jit_compiled_convolution_op, _jit_compiled_convolution_op, _jit_compiled_convolution_op, _jit_compiled_convolution_op, _jit_compiled_convolution_op while saving (showing 5 of 28). These functions will not be directly callable after loading.\n"
     ]
    },
    {
     "name": "stdout",
     "output_type": "stream",
     "text": [
      "INFO:tensorflow:Assets written to: model-saved\\deeplabv3plus_fold_0_lr_0.0005_alpha_0.35_binary_256x256_deeplayer_6\\assets\n"
     ]
    },
    {
     "name": "stderr",
     "output_type": "stream",
     "text": [
      "INFO:tensorflow:Assets written to: model-saved\\deeplabv3plus_fold_0_lr_0.0005_alpha_0.35_binary_256x256_deeplayer_6\\assets\n"
     ]
    },
    {
     "name": "stdout",
     "output_type": "stream",
     "text": [
      "348/348 [==============================] - 345s 991ms/step - loss: 0.1016 - diceAccuracy: 0.9460 - jaccardDistance: 1.0110 - val_loss: 0.1024 - val_diceAccuracy: 0.9416 - val_jaccardDistance: 1.0852 - lr: 2.5000e-04\n",
      "Epoch 95/1000\n",
      "348/348 [==============================] - ETA: 0s - loss: 0.1092 - diceAccuracy: 0.9461 - jaccardDistance: 1.0088\n",
      "Epoch 95: val_loss did not improve from 0.10240\n",
      "348/348 [==============================] - 327s 939ms/step - loss: 0.1092 - diceAccuracy: 0.9461 - jaccardDistance: 1.0088 - val_loss: 0.1051 - val_diceAccuracy: 0.9355 - val_jaccardDistance: 1.1950 - lr: 2.5000e-04\n",
      "Epoch 96/1000\n",
      "348/348 [==============================] - ETA: 0s - loss: 0.0987 - diceAccuracy: 0.9465 - jaccardDistance: 1.0027\n",
      "Epoch 96: val_loss did not improve from 0.10240\n",
      "348/348 [==============================] - 329s 944ms/step - loss: 0.0987 - diceAccuracy: 0.9465 - jaccardDistance: 1.0027 - val_loss: 0.1027 - val_diceAccuracy: 0.9420 - val_jaccardDistance: 1.0747 - lr: 2.5000e-04\n",
      "Epoch 97/1000\n",
      "348/348 [==============================] - ETA: 0s - loss: 0.1195 - diceAccuracy: 0.9463 - jaccardDistance: 1.0048\n",
      "Epoch 97: val_loss did not improve from 0.10240\n",
      "348/348 [==============================] - 330s 947ms/step - loss: 0.1195 - diceAccuracy: 0.9463 - jaccardDistance: 1.0048 - val_loss: 0.3933 - val_diceAccuracy: 0.5322 - val_jaccardDistance: 6.3343 - lr: 2.5000e-04\n",
      "Epoch 98/1000\n",
      "348/348 [==============================] - ETA: 0s - loss: 0.1122 - diceAccuracy: 0.9458 - jaccardDistance: 1.0140\n",
      "Epoch 98: val_loss did not improve from 0.10240\n",
      "348/348 [==============================] - 334s 960ms/step - loss: 0.1122 - diceAccuracy: 0.9458 - jaccardDistance: 1.0140 - val_loss: 0.1687 - val_diceAccuracy: 0.8448 - val_jaccardDistance: 2.6592 - lr: 2.5000e-04\n",
      "Epoch 99/1000\n",
      "348/348 [==============================] - ETA: 0s - loss: 0.1004 - diceAccuracy: 0.9460 - jaccardDistance: 1.0114\n",
      "Epoch 99: val_loss improved from 0.10240 to 0.10053, saving model to model-saved\\deeplabv3plus_fold_0_lr_0.0005_alpha_0.35_binary_256x256_deeplayer_6\n"
     ]
    },
    {
     "name": "stderr",
     "output_type": "stream",
     "text": [
      "WARNING:absl:Found untraced functions such as _jit_compiled_convolution_op, _jit_compiled_convolution_op, _jit_compiled_convolution_op, _jit_compiled_convolution_op, _jit_compiled_convolution_op while saving (showing 5 of 28). These functions will not be directly callable after loading.\n"
     ]
    },
    {
     "name": "stdout",
     "output_type": "stream",
     "text": [
      "INFO:tensorflow:Assets written to: model-saved\\deeplabv3plus_fold_0_lr_0.0005_alpha_0.35_binary_256x256_deeplayer_6\\assets\n"
     ]
    },
    {
     "name": "stderr",
     "output_type": "stream",
     "text": [
      "INFO:tensorflow:Assets written to: model-saved\\deeplabv3plus_fold_0_lr_0.0005_alpha_0.35_binary_256x256_deeplayer_6\\assets\n"
     ]
    },
    {
     "name": "stdout",
     "output_type": "stream",
     "text": [
      "348/348 [==============================] - 346s 993ms/step - loss: 0.1004 - diceAccuracy: 0.9460 - jaccardDistance: 1.0114 - val_loss: 0.1005 - val_diceAccuracy: 0.9439 - val_jaccardDistance: 1.0472 - lr: 2.5000e-04\n",
      "Epoch 100/1000\n",
      "348/348 [==============================] - ETA: 0s - loss: 0.1340 - diceAccuracy: 0.9445 - jaccardDistance: 1.0333\n",
      "Epoch 100: val_loss did not improve from 0.10053\n",
      "348/348 [==============================] - 327s 940ms/step - loss: 0.1340 - diceAccuracy: 0.9445 - jaccardDistance: 1.0333 - val_loss: 0.1895 - val_diceAccuracy: 0.9441 - val_jaccardDistance: 1.0428 - lr: 2.5000e-04\n",
      "Epoch 101/1000\n",
      "348/348 [==============================] - ETA: 0s - loss: 0.1151 - diceAccuracy: 0.9468 - jaccardDistance: 0.9971\n",
      "Epoch 101: val_loss did not improve from 0.10053\n",
      "348/348 [==============================] - 330s 947ms/step - loss: 0.1151 - diceAccuracy: 0.9468 - jaccardDistance: 0.9971 - val_loss: 0.1022 - val_diceAccuracy: 0.9414 - val_jaccardDistance: 1.0868 - lr: 2.5000e-04\n",
      "Epoch 102/1000\n",
      "348/348 [==============================] - ETA: 0s - loss: 0.0973 - diceAccuracy: 0.9464 - jaccardDistance: 1.0040\n",
      "Epoch 102: val_loss did not improve from 0.10053\n",
      "348/348 [==============================] - 327s 941ms/step - loss: 0.0973 - diceAccuracy: 0.9464 - jaccardDistance: 1.0040 - val_loss: 0.1041 - val_diceAccuracy: 0.9358 - val_jaccardDistance: 1.1839 - lr: 2.5000e-04\n",
      "Epoch 103/1000\n",
      "348/348 [==============================] - ETA: 0s - loss: 0.0992 - diceAccuracy: 0.9460 - jaccardDistance: 1.0110\n",
      "Epoch 103: val_loss did not improve from 0.10053\n",
      "348/348 [==============================] - 327s 940ms/step - loss: 0.0992 - diceAccuracy: 0.9460 - jaccardDistance: 1.0110 - val_loss: 0.1266 - val_diceAccuracy: 0.9060 - val_jaccardDistance: 1.6933 - lr: 2.5000e-04\n",
      "Epoch 104/1000\n",
      "348/348 [==============================] - ETA: 0s - loss: 0.1126 - diceAccuracy: 0.9465 - jaccardDistance: 1.0023\n",
      "Epoch 104: val_loss did not improve from 0.10053\n",
      "348/348 [==============================] - 329s 946ms/step - loss: 0.1126 - diceAccuracy: 0.9465 - jaccardDistance: 1.0023 - val_loss: 0.4273 - val_diceAccuracy: 0.4550 - val_jaccardDistance: 7.0263 - lr: 2.5000e-04\n",
      "Epoch 105/1000\n",
      "348/348 [==============================] - ETA: 0s - loss: 0.0988 - diceAccuracy: 0.9461 - jaccardDistance: 1.0097\n",
      "Epoch 105: val_loss improved from 0.10053 to 0.09864, saving model to model-saved\\deeplabv3plus_fold_0_lr_0.0005_alpha_0.35_binary_256x256_deeplayer_6\n"
     ]
    },
    {
     "name": "stderr",
     "output_type": "stream",
     "text": [
      "WARNING:absl:Found untraced functions such as _jit_compiled_convolution_op, _jit_compiled_convolution_op, _jit_compiled_convolution_op, _jit_compiled_convolution_op, _jit_compiled_convolution_op while saving (showing 5 of 28). These functions will not be directly callable after loading.\n"
     ]
    },
    {
     "name": "stdout",
     "output_type": "stream",
     "text": [
      "INFO:tensorflow:Assets written to: model-saved\\deeplabv3plus_fold_0_lr_0.0005_alpha_0.35_binary_256x256_deeplayer_6\\assets\n"
     ]
    },
    {
     "name": "stderr",
     "output_type": "stream",
     "text": [
      "INFO:tensorflow:Assets written to: model-saved\\deeplabv3plus_fold_0_lr_0.0005_alpha_0.35_binary_256x256_deeplayer_6\\assets\n"
     ]
    },
    {
     "name": "stdout",
     "output_type": "stream",
     "text": [
      "348/348 [==============================] - 345s 992ms/step - loss: 0.0988 - diceAccuracy: 0.9461 - jaccardDistance: 1.0097 - val_loss: 0.0986 - val_diceAccuracy: 0.9440 - val_jaccardDistance: 1.0467 - lr: 2.5000e-04\n",
      "Epoch 106/1000\n",
      "348/348 [==============================] - ETA: 0s - loss: 0.0998 - diceAccuracy: 0.9467 - jaccardDistance: 0.9975\n",
      "Epoch 106: val_loss did not improve from 0.09864\n",
      "348/348 [==============================] - 329s 945ms/step - loss: 0.0998 - diceAccuracy: 0.9467 - jaccardDistance: 0.9975 - val_loss: 0.1229 - val_diceAccuracy: 0.9138 - val_jaccardDistance: 1.5686 - lr: 2.5000e-04\n",
      "Epoch 107/1000\n",
      "348/348 [==============================] - ETA: 0s - loss: 0.1095 - diceAccuracy: 0.9468 - jaccardDistance: 0.9969\n",
      "Epoch 107: val_loss did not improve from 0.09864\n",
      "348/348 [==============================] - 328s 943ms/step - loss: 0.1095 - diceAccuracy: 0.9468 - jaccardDistance: 0.9969 - val_loss: 0.1171 - val_diceAccuracy: 0.9250 - val_jaccardDistance: 1.3706 - lr: 2.5000e-04\n",
      "Epoch 108/1000\n",
      "348/348 [==============================] - ETA: 0s - loss: 0.0983 - diceAccuracy: 0.9467 - jaccardDistance: 0.9991\n",
      "Epoch 108: val_loss did not improve from 0.09864\n",
      "348/348 [==============================] - 329s 945ms/step - loss: 0.0983 - diceAccuracy: 0.9467 - jaccardDistance: 0.9991 - val_loss: 0.1012 - val_diceAccuracy: 0.9430 - val_jaccardDistance: 1.0638 - lr: 2.5000e-04\n",
      "Epoch 109/1000\n",
      "348/348 [==============================] - ETA: 0s - loss: 0.1126 - diceAccuracy: 0.9463 - jaccardDistance: 1.0050\n",
      "Epoch 109: val_loss did not improve from 0.09864\n",
      "348/348 [==============================] - 328s 943ms/step - loss: 0.1126 - diceAccuracy: 0.9463 - jaccardDistance: 1.0050 - val_loss: 0.1959 - val_diceAccuracy: 0.7990 - val_jaccardDistance: 3.3156 - lr: 2.5000e-04\n",
      "Epoch 110/1000\n",
      "348/348 [==============================] - ETA: 0s - loss: 0.0998 - diceAccuracy: 0.9465 - jaccardDistance: 1.0026\n",
      "Epoch 110: val_loss did not improve from 0.09864\n",
      "348/348 [==============================] - 328s 941ms/step - loss: 0.0998 - diceAccuracy: 0.9465 - jaccardDistance: 1.0026 - val_loss: 0.1017 - val_diceAccuracy: 0.9432 - val_jaccardDistance: 1.0528 - lr: 2.5000e-04\n",
      "Epoch 111/1000\n",
      "348/348 [==============================] - ETA: 0s - loss: 0.1046 - diceAccuracy: 0.9465 - jaccardDistance: 1.0025\n",
      "Epoch 111: val_loss did not improve from 0.09864\n",
      "348/348 [==============================] - 329s 945ms/step - loss: 0.1046 - diceAccuracy: 0.9465 - jaccardDistance: 1.0025 - val_loss: 0.1560 - val_diceAccuracy: 0.9286 - val_jaccardDistance: 1.3108 - lr: 2.5000e-04\n",
      "Epoch 112/1000\n",
      "348/348 [==============================] - ETA: 0s - loss: 0.1051 - diceAccuracy: 0.9458 - jaccardDistance: 1.0134\n",
      "Epoch 112: val_loss did not improve from 0.09864\n",
      "348/348 [==============================] - 329s 945ms/step - loss: 0.1051 - diceAccuracy: 0.9458 - jaccardDistance: 1.0134 - val_loss: 0.1132 - val_diceAccuracy: 0.9303 - val_jaccardDistance: 1.2752 - lr: 2.5000e-04\n",
      "Epoch 113/1000\n",
      "348/348 [==============================] - ETA: 0s - loss: 0.1004 - diceAccuracy: 0.9465 - jaccardDistance: 1.0024\n",
      "Epoch 113: val_loss did not improve from 0.09864\n",
      "348/348 [==============================] - 327s 939ms/step - loss: 0.1004 - diceAccuracy: 0.9465 - jaccardDistance: 1.0024 - val_loss: 0.1054 - val_diceAccuracy: 0.9385 - val_jaccardDistance: 1.1381 - lr: 2.5000e-04\n",
      "Epoch 114/1000\n",
      "348/348 [==============================] - ETA: 0s - loss: 0.1230 - diceAccuracy: 0.9450 - jaccardDistance: 1.0284\n",
      "Epoch 114: val_loss did not improve from 0.09864\n",
      "348/348 [==============================] - 327s 939ms/step - loss: 0.1230 - diceAccuracy: 0.9450 - jaccardDistance: 1.0284 - val_loss: 0.1388 - val_diceAccuracy: 0.9409 - val_jaccardDistance: 1.1000 - lr: 2.5000e-04\n",
      "Epoch 115/1000\n",
      "348/348 [==============================] - ETA: 0s - loss: 0.1052 - diceAccuracy: 0.9459 - jaccardDistance: 1.0129\n",
      "Epoch 115: val_loss did not improve from 0.09864\n",
      "348/348 [==============================] - 325s 934ms/step - loss: 0.1052 - diceAccuracy: 0.9459 - jaccardDistance: 1.0129 - val_loss: 0.1487 - val_diceAccuracy: 0.8738 - val_jaccardDistance: 2.2215 - lr: 2.5000e-04\n",
      "Epoch 116/1000\n",
      "348/348 [==============================] - ETA: 0s - loss: 0.1121 - diceAccuracy: 0.9465 - jaccardDistance: 1.0026\n",
      "Epoch 116: val_loss did not improve from 0.09864\n",
      "348/348 [==============================] - 328s 942ms/step - loss: 0.1121 - diceAccuracy: 0.9465 - jaccardDistance: 1.0026 - val_loss: 0.1210 - val_diceAccuracy: 0.9301 - val_jaccardDistance: 1.2800 - lr: 2.5000e-04\n",
      "Epoch 117/1000\n",
      "348/348 [==============================] - ETA: 0s - loss: 0.1068 - diceAccuracy: 0.9462 - jaccardDistance: 1.0077\n",
      "Epoch 117: val_loss did not improve from 0.09864\n",
      "348/348 [==============================] - 327s 938ms/step - loss: 0.1068 - diceAccuracy: 0.9462 - jaccardDistance: 1.0077 - val_loss: 0.1005 - val_diceAccuracy: 0.9449 - val_jaccardDistance: 1.0301 - lr: 2.5000e-04\n",
      "Epoch 118/1000\n",
      "348/348 [==============================] - ETA: 0s - loss: 0.0979 - diceAccuracy: 0.9469 - jaccardDistance: 0.9944\n",
      "Epoch 118: val_loss did not improve from 0.09864\n",
      "348/348 [==============================] - 327s 939ms/step - loss: 0.0979 - diceAccuracy: 0.9469 - jaccardDistance: 0.9944 - val_loss: 0.1004 - val_diceAccuracy: 0.9444 - val_jaccardDistance: 1.0385 - lr: 2.5000e-04\n",
      "Epoch 119/1000\n",
      "348/348 [==============================] - ETA: 0s - loss: 0.0981 - diceAccuracy: 0.9462 - jaccardDistance: 1.0074\n",
      "Epoch 119: val_loss did not improve from 0.09864\n",
      "348/348 [==============================] - 329s 944ms/step - loss: 0.0981 - diceAccuracy: 0.9462 - jaccardDistance: 1.0074 - val_loss: 0.1016 - val_diceAccuracy: 0.9403 - val_jaccardDistance: 1.1106 - lr: 2.5000e-04\n",
      "Epoch 120/1000\n",
      "348/348 [==============================] - ETA: 0s - loss: 0.0996 - diceAccuracy: 0.9470 - jaccardDistance: 0.9935\n",
      "Epoch 120: val_loss did not improve from 0.09864\n",
      "348/348 [==============================] - 327s 939ms/step - loss: 0.0996 - diceAccuracy: 0.9470 - jaccardDistance: 0.9935 - val_loss: 0.1010 - val_diceAccuracy: 0.9420 - val_jaccardDistance: 1.0814 - lr: 2.5000e-04\n",
      "Epoch 121/1000\n",
      "348/348 [==============================] - ETA: 0s - loss: 0.1016 - diceAccuracy: 0.9468 - jaccardDistance: 0.9961\n",
      "Epoch 121: val_loss did not improve from 0.09864\n",
      "348/348 [==============================] - 327s 939ms/step - loss: 0.1016 - diceAccuracy: 0.9468 - jaccardDistance: 0.9961 - val_loss: 0.1040 - val_diceAccuracy: 0.9402 - val_jaccardDistance: 1.1030 - lr: 2.5000e-04\n",
      "Epoch 122/1000\n",
      "348/348 [==============================] - ETA: 0s - loss: 0.1013 - diceAccuracy: 0.9465 - jaccardDistance: 1.0019\n",
      "Epoch 122: val_loss did not improve from 0.09864\n",
      "348/348 [==============================] - 326s 936ms/step - loss: 0.1013 - diceAccuracy: 0.9465 - jaccardDistance: 1.0019 - val_loss: 0.1084 - val_diceAccuracy: 0.9319 - val_jaccardDistance: 1.2493 - lr: 2.5000e-04\n",
      "Epoch 123/1000\n",
      "348/348 [==============================] - ETA: 0s - loss: 0.1272 - diceAccuracy: 0.9470 - jaccardDistance: 0.9929\n",
      "Epoch 123: val_loss did not improve from 0.09864\n",
      "348/348 [==============================] - 327s 940ms/step - loss: 0.1272 - diceAccuracy: 0.9470 - jaccardDistance: 0.9929 - val_loss: 0.1613 - val_diceAccuracy: 0.9361 - val_jaccardDistance: 1.1757 - lr: 2.5000e-04\n",
      "Epoch 124/1000\n",
      "348/348 [==============================] - ETA: 0s - loss: 0.1143 - diceAccuracy: 0.9472 - jaccardDistance: 0.9898\n",
      "Epoch 124: val_loss did not improve from 0.09864\n",
      "348/348 [==============================] - 329s 946ms/step - loss: 0.1143 - diceAccuracy: 0.9472 - jaccardDistance: 0.9898 - val_loss: 0.1089 - val_diceAccuracy: 0.9379 - val_jaccardDistance: 1.1465 - lr: 2.5000e-04\n",
      "Epoch 125/1000\n",
      "348/348 [==============================] - ETA: 0s - loss: 0.1203 - diceAccuracy: 0.9463 - jaccardDistance: 1.0054\n",
      "Epoch 125: val_loss did not improve from 0.09864\n",
      "348/348 [==============================] - 327s 940ms/step - loss: 0.1203 - diceAccuracy: 0.9463 - jaccardDistance: 1.0054 - val_loss: 0.1319 - val_diceAccuracy: 0.9052 - val_jaccardDistance: 1.7109 - lr: 2.5000e-04\n",
      "Epoch 126/1000\n",
      "348/348 [==============================] - ETA: 0s - loss: 0.0988 - diceAccuracy: 0.9470 - jaccardDistance: 0.9933\n",
      "Epoch 126: val_loss did not improve from 0.09864\n",
      "348/348 [==============================] - 329s 944ms/step - loss: 0.0988 - diceAccuracy: 0.9470 - jaccardDistance: 0.9933 - val_loss: 0.1037 - val_diceAccuracy: 0.9362 - val_jaccardDistance: 1.1821 - lr: 2.5000e-04\n",
      "Epoch 127/1000\n",
      "348/348 [==============================] - ETA: 0s - loss: 0.1002 - diceAccuracy: 0.9467 - jaccardDistance: 0.9994\n",
      "Epoch 127: val_loss did not improve from 0.09864\n",
      "348/348 [==============================] - 327s 940ms/step - loss: 0.1002 - diceAccuracy: 0.9467 - jaccardDistance: 0.9994 - val_loss: 0.2354 - val_diceAccuracy: 0.7374 - val_jaccardDistance: 4.1134 - lr: 2.5000e-04\n",
      "Epoch 128/1000\n",
      "348/348 [==============================] - ETA: 0s - loss: 0.0990 - diceAccuracy: 0.9468 - jaccardDistance: 0.9971\n",
      "Epoch 128: val_loss did not improve from 0.09864\n",
      "348/348 [==============================] - 328s 941ms/step - loss: 0.0990 - diceAccuracy: 0.9468 - jaccardDistance: 0.9971 - val_loss: 0.1381 - val_diceAccuracy: 0.8849 - val_jaccardDistance: 2.0433 - lr: 2.5000e-04\n",
      "Epoch 129/1000\n",
      "348/348 [==============================] - ETA: 0s - loss: 0.0994 - diceAccuracy: 0.9468 - jaccardDistance: 0.9974\n",
      "Epoch 129: val_loss improved from 0.09864 to 0.09861, saving model to model-saved\\deeplabv3plus_fold_0_lr_0.0005_alpha_0.35_binary_256x256_deeplayer_6\n"
     ]
    },
    {
     "name": "stderr",
     "output_type": "stream",
     "text": [
      "WARNING:absl:Found untraced functions such as _jit_compiled_convolution_op, _jit_compiled_convolution_op, _jit_compiled_convolution_op, _jit_compiled_convolution_op, _jit_compiled_convolution_op while saving (showing 5 of 28). These functions will not be directly callable after loading.\n"
     ]
    },
    {
     "name": "stdout",
     "output_type": "stream",
     "text": [
      "INFO:tensorflow:Assets written to: model-saved\\deeplabv3plus_fold_0_lr_0.0005_alpha_0.35_binary_256x256_deeplayer_6\\assets\n"
     ]
    },
    {
     "name": "stderr",
     "output_type": "stream",
     "text": [
      "INFO:tensorflow:Assets written to: model-saved\\deeplabv3plus_fold_0_lr_0.0005_alpha_0.35_binary_256x256_deeplayer_6\\assets\n"
     ]
    },
    {
     "name": "stdout",
     "output_type": "stream",
     "text": [
      "348/348 [==============================] - 342s 984ms/step - loss: 0.0994 - diceAccuracy: 0.9468 - jaccardDistance: 0.9974 - val_loss: 0.0986 - val_diceAccuracy: 0.9448 - val_jaccardDistance: 1.0269 - lr: 2.5000e-04\n",
      "Epoch 130/1000\n",
      "348/348 [==============================] - ETA: 0s - loss: 0.0998 - diceAccuracy: 0.9460 - jaccardDistance: 1.0102\n",
      "Epoch 130: val_loss did not improve from 0.09861\n",
      "348/348 [==============================] - 326s 935ms/step - loss: 0.0998 - diceAccuracy: 0.9460 - jaccardDistance: 1.0102 - val_loss: 0.1551 - val_diceAccuracy: 0.9048 - val_jaccardDistance: 1.7228 - lr: 2.5000e-04\n",
      "Epoch 131/1000\n",
      "348/348 [==============================] - ETA: 0s - loss: 0.0716 - diceAccuracy: 0.9472 - jaccardDistance: 0.9891\n",
      "Epoch 131: val_loss improved from 0.09861 to 0.07556, saving model to model-saved\\deeplabv3plus_fold_0_lr_0.0005_alpha_0.35_binary_256x256_deeplayer_6\n"
     ]
    },
    {
     "name": "stderr",
     "output_type": "stream",
     "text": [
      "WARNING:absl:Found untraced functions such as _jit_compiled_convolution_op, _jit_compiled_convolution_op, _jit_compiled_convolution_op, _jit_compiled_convolution_op, _jit_compiled_convolution_op while saving (showing 5 of 28). These functions will not be directly callable after loading.\n"
     ]
    },
    {
     "name": "stdout",
     "output_type": "stream",
     "text": [
      "INFO:tensorflow:Assets written to: model-saved\\deeplabv3plus_fold_0_lr_0.0005_alpha_0.35_binary_256x256_deeplayer_6\\assets\n"
     ]
    },
    {
     "name": "stderr",
     "output_type": "stream",
     "text": [
      "INFO:tensorflow:Assets written to: model-saved\\deeplabv3plus_fold_0_lr_0.0005_alpha_0.35_binary_256x256_deeplayer_6\\assets\n"
     ]
    },
    {
     "name": "stdout",
     "output_type": "stream",
     "text": [
      "348/348 [==============================] - 344s 989ms/step - loss: 0.0716 - diceAccuracy: 0.9472 - jaccardDistance: 0.9891 - val_loss: 0.0756 - val_diceAccuracy: 0.9348 - val_jaccardDistance: 1.2062 - lr: 1.2500e-04\n",
      "Epoch 132/1000\n",
      "348/348 [==============================] - ETA: 0s - loss: 0.0679 - diceAccuracy: 0.9469 - jaccardDistance: 0.9959\n",
      "Epoch 132: val_loss improved from 0.07556 to 0.07136, saving model to model-saved\\deeplabv3plus_fold_0_lr_0.0005_alpha_0.35_binary_256x256_deeplayer_6\n"
     ]
    },
    {
     "name": "stderr",
     "output_type": "stream",
     "text": [
      "WARNING:absl:Found untraced functions such as _jit_compiled_convolution_op, _jit_compiled_convolution_op, _jit_compiled_convolution_op, _jit_compiled_convolution_op, _jit_compiled_convolution_op while saving (showing 5 of 28). These functions will not be directly callable after loading.\n"
     ]
    },
    {
     "name": "stdout",
     "output_type": "stream",
     "text": [
      "INFO:tensorflow:Assets written to: model-saved\\deeplabv3plus_fold_0_lr_0.0005_alpha_0.35_binary_256x256_deeplayer_6\\assets\n"
     ]
    },
    {
     "name": "stderr",
     "output_type": "stream",
     "text": [
      "INFO:tensorflow:Assets written to: model-saved\\deeplabv3plus_fold_0_lr_0.0005_alpha_0.35_binary_256x256_deeplayer_6\\assets\n"
     ]
    },
    {
     "name": "stdout",
     "output_type": "stream",
     "text": [
      "348/348 [==============================] - 343s 986ms/step - loss: 0.0679 - diceAccuracy: 0.9469 - jaccardDistance: 0.9959 - val_loss: 0.0714 - val_diceAccuracy: 0.9423 - val_jaccardDistance: 1.0695 - lr: 1.2500e-04\n",
      "Epoch 133/1000\n",
      "348/348 [==============================] - ETA: 0s - loss: 0.0672 - diceAccuracy: 0.9476 - jaccardDistance: 0.9822\n",
      "Epoch 133: val_loss improved from 0.07136 to 0.06994, saving model to model-saved\\deeplabv3plus_fold_0_lr_0.0005_alpha_0.35_binary_256x256_deeplayer_6\n"
     ]
    },
    {
     "name": "stderr",
     "output_type": "stream",
     "text": [
      "WARNING:absl:Found untraced functions such as _jit_compiled_convolution_op, _jit_compiled_convolution_op, _jit_compiled_convolution_op, _jit_compiled_convolution_op, _jit_compiled_convolution_op while saving (showing 5 of 28). These functions will not be directly callable after loading.\n"
     ]
    },
    {
     "name": "stdout",
     "output_type": "stream",
     "text": [
      "INFO:tensorflow:Assets written to: model-saved\\deeplabv3plus_fold_0_lr_0.0005_alpha_0.35_binary_256x256_deeplayer_6\\assets\n"
     ]
    },
    {
     "name": "stderr",
     "output_type": "stream",
     "text": [
      "INFO:tensorflow:Assets written to: model-saved\\deeplabv3plus_fold_0_lr_0.0005_alpha_0.35_binary_256x256_deeplayer_6\\assets\n"
     ]
    },
    {
     "name": "stdout",
     "output_type": "stream",
     "text": [
      "348/348 [==============================] - 345s 990ms/step - loss: 0.0672 - diceAccuracy: 0.9476 - jaccardDistance: 0.9822 - val_loss: 0.0699 - val_diceAccuracy: 0.9450 - val_jaccardDistance: 1.0202 - lr: 1.2500e-04\n",
      "Epoch 134/1000\n",
      "348/348 [==============================] - ETA: 0s - loss: 0.0691 - diceAccuracy: 0.9467 - jaccardDistance: 0.9983\n",
      "Epoch 134: val_loss did not improve from 0.06994\n",
      "348/348 [==============================] - 324s 932ms/step - loss: 0.0691 - diceAccuracy: 0.9467 - jaccardDistance: 0.9983 - val_loss: 0.0838 - val_diceAccuracy: 0.9406 - val_jaccardDistance: 1.1056 - lr: 1.2500e-04\n",
      "Epoch 135/1000\n",
      "348/348 [==============================] - ETA: 0s - loss: 0.1030 - diceAccuracy: 0.9466 - jaccardDistance: 1.0014\n",
      "Epoch 135: val_loss did not improve from 0.06994\n",
      "348/348 [==============================] - 327s 941ms/step - loss: 0.1030 - diceAccuracy: 0.9466 - jaccardDistance: 1.0014 - val_loss: 0.1633 - val_diceAccuracy: 0.9115 - val_jaccardDistance: 1.5999 - lr: 1.2500e-04\n",
      "Epoch 136/1000\n",
      "348/348 [==============================] - ETA: 0s - loss: 0.0962 - diceAccuracy: 0.9470 - jaccardDistance: 0.9930\n",
      "Epoch 136: val_loss did not improve from 0.06994\n",
      "348/348 [==============================] - 325s 934ms/step - loss: 0.0962 - diceAccuracy: 0.9470 - jaccardDistance: 0.9930 - val_loss: 0.0843 - val_diceAccuracy: 0.9392 - val_jaccardDistance: 1.1223 - lr: 1.2500e-04\n",
      "Epoch 137/1000\n",
      "348/348 [==============================] - ETA: 0s - loss: 0.0744 - diceAccuracy: 0.9465 - jaccardDistance: 1.0018\n",
      "Epoch 137: val_loss did not improve from 0.06994\n",
      "348/348 [==============================] - 326s 937ms/step - loss: 0.0744 - diceAccuracy: 0.9465 - jaccardDistance: 1.0018 - val_loss: 0.0732 - val_diceAccuracy: 0.9445 - val_jaccardDistance: 1.0379 - lr: 1.2500e-04\n",
      "Epoch 138/1000\n",
      "348/348 [==============================] - ETA: 0s - loss: 0.0691 - diceAccuracy: 0.9470 - jaccardDistance: 0.9932\n",
      "Epoch 138: val_loss did not improve from 0.06994\n",
      "348/348 [==============================] - 329s 945ms/step - loss: 0.0691 - diceAccuracy: 0.9470 - jaccardDistance: 0.9932 - val_loss: 0.0706 - val_diceAccuracy: 0.9446 - val_jaccardDistance: 1.0271 - lr: 1.2500e-04\n",
      "Epoch 139/1000\n",
      "348/348 [==============================] - ETA: 0s - loss: 0.0672 - diceAccuracy: 0.9472 - jaccardDistance: 0.9907\n",
      "Epoch 139: val_loss improved from 0.06994 to 0.06841, saving model to model-saved\\deeplabv3plus_fold_0_lr_0.0005_alpha_0.35_binary_256x256_deeplayer_6\n"
     ]
    },
    {
     "name": "stderr",
     "output_type": "stream",
     "text": [
      "WARNING:absl:Found untraced functions such as _jit_compiled_convolution_op, _jit_compiled_convolution_op, _jit_compiled_convolution_op, _jit_compiled_convolution_op, _jit_compiled_convolution_op while saving (showing 5 of 28). These functions will not be directly callable after loading.\n"
     ]
    },
    {
     "name": "stdout",
     "output_type": "stream",
     "text": [
      "INFO:tensorflow:Assets written to: model-saved\\deeplabv3plus_fold_0_lr_0.0005_alpha_0.35_binary_256x256_deeplayer_6\\assets\n"
     ]
    },
    {
     "name": "stderr",
     "output_type": "stream",
     "text": [
      "INFO:tensorflow:Assets written to: model-saved\\deeplabv3plus_fold_0_lr_0.0005_alpha_0.35_binary_256x256_deeplayer_6\\assets\n"
     ]
    },
    {
     "name": "stdout",
     "output_type": "stream",
     "text": [
      "348/348 [==============================] - 343s 987ms/step - loss: 0.0672 - diceAccuracy: 0.9472 - jaccardDistance: 0.9907 - val_loss: 0.0684 - val_diceAccuracy: 0.9443 - val_jaccardDistance: 1.0401 - lr: 1.2500e-04\n",
      "Epoch 140/1000\n",
      "348/348 [==============================] - ETA: 0s - loss: 0.0666 - diceAccuracy: 0.9471 - jaccardDistance: 0.9911\n",
      "Epoch 140: val_loss did not improve from 0.06841\n",
      "348/348 [==============================] - 326s 938ms/step - loss: 0.0666 - diceAccuracy: 0.9471 - jaccardDistance: 0.9911 - val_loss: 0.0689 - val_diceAccuracy: 0.9442 - val_jaccardDistance: 1.0395 - lr: 1.2500e-04\n",
      "Epoch 141/1000\n",
      "348/348 [==============================] - ETA: 0s - loss: 0.0666 - diceAccuracy: 0.9473 - jaccardDistance: 0.9870\n",
      "Epoch 141: val_loss improved from 0.06841 to 0.06784, saving model to model-saved\\deeplabv3plus_fold_0_lr_0.0005_alpha_0.35_binary_256x256_deeplayer_6\n"
     ]
    },
    {
     "name": "stderr",
     "output_type": "stream",
     "text": [
      "WARNING:absl:Found untraced functions such as _jit_compiled_convolution_op, _jit_compiled_convolution_op, _jit_compiled_convolution_op, _jit_compiled_convolution_op, _jit_compiled_convolution_op while saving (showing 5 of 28). These functions will not be directly callable after loading.\n"
     ]
    },
    {
     "name": "stdout",
     "output_type": "stream",
     "text": [
      "INFO:tensorflow:Assets written to: model-saved\\deeplabv3plus_fold_0_lr_0.0005_alpha_0.35_binary_256x256_deeplayer_6\\assets\n"
     ]
    },
    {
     "name": "stderr",
     "output_type": "stream",
     "text": [
      "INFO:tensorflow:Assets written to: model-saved\\deeplabv3plus_fold_0_lr_0.0005_alpha_0.35_binary_256x256_deeplayer_6\\assets\n"
     ]
    },
    {
     "name": "stdout",
     "output_type": "stream",
     "text": [
      "348/348 [==============================] - 346s 993ms/step - loss: 0.0666 - diceAccuracy: 0.9473 - jaccardDistance: 0.9870 - val_loss: 0.0678 - val_diceAccuracy: 0.9466 - val_jaccardDistance: 1.0004 - lr: 1.2500e-04\n",
      "Epoch 142/1000\n",
      "348/348 [==============================] - ETA: 0s - loss: 0.0668 - diceAccuracy: 0.9475 - jaccardDistance: 0.9845\n",
      "Epoch 142: val_loss did not improve from 0.06784\n",
      "348/348 [==============================] - 327s 939ms/step - loss: 0.0668 - diceAccuracy: 0.9475 - jaccardDistance: 0.9845 - val_loss: 0.0690 - val_diceAccuracy: 0.9442 - val_jaccardDistance: 1.0418 - lr: 1.2500e-04\n",
      "Epoch 143/1000\n",
      "348/348 [==============================] - ETA: 0s - loss: 0.0692 - diceAccuracy: 0.9470 - jaccardDistance: 0.9933\n",
      "Epoch 143: val_loss did not improve from 0.06784\n",
      "348/348 [==============================] - 328s 943ms/step - loss: 0.0692 - diceAccuracy: 0.9470 - jaccardDistance: 0.9933 - val_loss: 0.1131 - val_diceAccuracy: 0.8795 - val_jaccardDistance: 2.1322 - lr: 1.2500e-04\n",
      "Epoch 144/1000\n",
      "348/348 [==============================] - ETA: 0s - loss: 0.0672 - diceAccuracy: 0.9468 - jaccardDistance: 0.9976\n",
      "Epoch 144: val_loss did not improve from 0.06784\n",
      "348/348 [==============================] - 326s 936ms/step - loss: 0.0672 - diceAccuracy: 0.9468 - jaccardDistance: 0.9976 - val_loss: 0.0712 - val_diceAccuracy: 0.9402 - val_jaccardDistance: 1.1137 - lr: 1.2500e-04\n",
      "Epoch 145/1000\n",
      "348/348 [==============================] - ETA: 0s - loss: 0.0670 - diceAccuracy: 0.9473 - jaccardDistance: 0.9882\n",
      "Epoch 145: val_loss did not improve from 0.06784\n",
      "348/348 [==============================] - 326s 936ms/step - loss: 0.0670 - diceAccuracy: 0.9473 - jaccardDistance: 0.9882 - val_loss: 0.0737 - val_diceAccuracy: 0.9385 - val_jaccardDistance: 1.1452 - lr: 1.2500e-04\n",
      "Epoch 146/1000\n",
      "348/348 [==============================] - ETA: 0s - loss: 0.0669 - diceAccuracy: 0.9473 - jaccardDistance: 0.9877\n",
      "Epoch 146: val_loss did not improve from 0.06784\n",
      "348/348 [==============================] - 328s 941ms/step - loss: 0.0669 - diceAccuracy: 0.9473 - jaccardDistance: 0.9877 - val_loss: 0.0682 - val_diceAccuracy: 0.9453 - val_jaccardDistance: 1.0228 - lr: 1.2500e-04\n",
      "Epoch 147/1000\n",
      "348/348 [==============================] - ETA: 0s - loss: 0.0671 - diceAccuracy: 0.9473 - jaccardDistance: 0.9876\n",
      "Epoch 147: val_loss did not improve from 0.06784\n",
      "348/348 [==============================] - 326s 937ms/step - loss: 0.0671 - diceAccuracy: 0.9473 - jaccardDistance: 0.9876 - val_loss: 0.0687 - val_diceAccuracy: 0.9450 - val_jaccardDistance: 1.0273 - lr: 1.2500e-04\n",
      "Epoch 148/1000\n",
      "348/348 [==============================] - ETA: 0s - loss: 0.0678 - diceAccuracy: 0.9474 - jaccardDistance: 0.9867\n",
      "Epoch 148: val_loss did not improve from 0.06784\n",
      "348/348 [==============================] - 329s 945ms/step - loss: 0.0678 - diceAccuracy: 0.9474 - jaccardDistance: 0.9867 - val_loss: 0.0771 - val_diceAccuracy: 0.9335 - val_jaccardDistance: 1.2250 - lr: 1.2500e-04\n",
      "Epoch 149/1000\n",
      "348/348 [==============================] - ETA: 0s - loss: 0.0683 - diceAccuracy: 0.9468 - jaccardDistance: 0.9964\n",
      "Epoch 149: val_loss did not improve from 0.06784\n",
      "348/348 [==============================] - 327s 941ms/step - loss: 0.0683 - diceAccuracy: 0.9468 - jaccardDistance: 0.9964 - val_loss: 0.0701 - val_diceAccuracy: 0.9428 - val_jaccardDistance: 1.0633 - lr: 1.2500e-04\n",
      "Epoch 150/1000\n",
      "348/348 [==============================] - ETA: 0s - loss: 0.0671 - diceAccuracy: 0.9472 - jaccardDistance: 0.9890\n",
      "Epoch 150: val_loss did not improve from 0.06784\n",
      "348/348 [==============================] - 329s 944ms/step - loss: 0.0671 - diceAccuracy: 0.9472 - jaccardDistance: 0.9890 - val_loss: 0.0689 - val_diceAccuracy: 0.9446 - val_jaccardDistance: 1.0262 - lr: 1.2500e-04\n",
      "Epoch 151/1000\n",
      "348/348 [==============================] - ETA: 0s - loss: 0.0953 - diceAccuracy: 0.9470 - jaccardDistance: 0.9935\n",
      "Epoch 151: val_loss did not improve from 0.06784\n",
      "348/348 [==============================] - 327s 940ms/step - loss: 0.0953 - diceAccuracy: 0.9470 - jaccardDistance: 0.9935 - val_loss: 0.0761 - val_diceAccuracy: 0.9425 - val_jaccardDistance: 1.0671 - lr: 1.2500e-04\n",
      "Epoch 152/1000\n",
      "348/348 [==============================] - ETA: 0s - loss: 0.0695 - diceAccuracy: 0.9470 - jaccardDistance: 0.9933\n",
      "Epoch 152: val_loss did not improve from 0.06784\n",
      "348/348 [==============================] - 327s 939ms/step - loss: 0.0695 - diceAccuracy: 0.9470 - jaccardDistance: 0.9933 - val_loss: 0.0711 - val_diceAccuracy: 0.9424 - val_jaccardDistance: 1.0740 - lr: 1.2500e-04\n",
      "Epoch 153/1000\n",
      "348/348 [==============================] - ETA: 0s - loss: 0.0667 - diceAccuracy: 0.9477 - jaccardDistance: 0.9814\n",
      "Epoch 153: val_loss did not improve from 0.06784\n",
      "348/348 [==============================] - 326s 938ms/step - loss: 0.0667 - diceAccuracy: 0.9477 - jaccardDistance: 0.9814 - val_loss: 0.0765 - val_diceAccuracy: 0.9336 - val_jaccardDistance: 1.2266 - lr: 1.2500e-04\n",
      "Epoch 154/1000\n",
      "348/348 [==============================] - ETA: 0s - loss: 0.0667 - diceAccuracy: 0.9472 - jaccardDistance: 0.9908\n",
      "Epoch 154: val_loss did not improve from 0.06784\n",
      "348/348 [==============================] - 327s 941ms/step - loss: 0.0667 - diceAccuracy: 0.9472 - jaccardDistance: 0.9908 - val_loss: 0.0738 - val_diceAccuracy: 0.9366 - val_jaccardDistance: 1.1705 - lr: 1.2500e-04\n",
      "Epoch 155/1000\n",
      "348/348 [==============================] - ETA: 0s - loss: 0.0670 - diceAccuracy: 0.9473 - jaccardDistance: 0.9887\n",
      "Epoch 155: val_loss did not improve from 0.06784\n",
      "348/348 [==============================] - 326s 936ms/step - loss: 0.0670 - diceAccuracy: 0.9473 - jaccardDistance: 0.9887 - val_loss: 0.0696 - val_diceAccuracy: 0.9437 - val_jaccardDistance: 1.0420 - lr: 1.2500e-04\n",
      "Epoch 156/1000\n",
      "348/348 [==============================] - ETA: 0s - loss: 0.0665 - diceAccuracy: 0.9476 - jaccardDistance: 0.9822\n",
      "Epoch 156: val_loss did not improve from 0.06784\n",
      "348/348 [==============================] - 329s 945ms/step - loss: 0.0665 - diceAccuracy: 0.9476 - jaccardDistance: 0.9822 - val_loss: 0.0812 - val_diceAccuracy: 0.9271 - val_jaccardDistance: 1.3372 - lr: 1.2500e-04\n",
      "Epoch 157/1000\n",
      "348/348 [==============================] - ETA: 0s - loss: 0.0673 - diceAccuracy: 0.9473 - jaccardDistance: 0.9878\n",
      "Epoch 157: val_loss did not improve from 0.06784\n",
      "348/348 [==============================] - 331s 950ms/step - loss: 0.0673 - diceAccuracy: 0.9473 - jaccardDistance: 0.9878 - val_loss: 0.0681 - val_diceAccuracy: 0.9459 - val_jaccardDistance: 1.0022 - lr: 1.2500e-04\n",
      "Epoch 158/1000\n",
      "348/348 [==============================] - ETA: 0s - loss: 0.0664 - diceAccuracy: 0.9478 - jaccardDistance: 0.9796\n",
      "Epoch 158: val_loss did not improve from 0.06784\n",
      "348/348 [==============================] - 328s 941ms/step - loss: 0.0664 - diceAccuracy: 0.9478 - jaccardDistance: 0.9796 - val_loss: 0.0716 - val_diceAccuracy: 0.9411 - val_jaccardDistance: 1.0873 - lr: 1.2500e-04\n",
      "Epoch 159/1000\n",
      "348/348 [==============================] - ETA: 0s - loss: 0.0673 - diceAccuracy: 0.9470 - jaccardDistance: 0.9941\n",
      "Epoch 159: val_loss did not improve from 0.06784\n",
      "348/348 [==============================] - 324s 932ms/step - loss: 0.0673 - diceAccuracy: 0.9470 - jaccardDistance: 0.9941 - val_loss: 0.0681 - val_diceAccuracy: 0.9454 - val_jaccardDistance: 1.0124 - lr: 1.2500e-04\n",
      "Epoch 160/1000\n",
      "348/348 [==============================] - ETA: 0s - loss: 0.0671 - diceAccuracy: 0.9474 - jaccardDistance: 0.9861\n",
      "Epoch 160: val_loss did not improve from 0.06784\n",
      "348/348 [==============================] - 327s 940ms/step - loss: 0.0671 - diceAccuracy: 0.9474 - jaccardDistance: 0.9861 - val_loss: 0.0700 - val_diceAccuracy: 0.9430 - val_jaccardDistance: 1.0558 - lr: 1.2500e-04\n",
      "Epoch 161/1000\n",
      "348/348 [==============================] - ETA: 0s - loss: 0.0672 - diceAccuracy: 0.9475 - jaccardDistance: 0.9842\n",
      "Epoch 161: val_loss did not improve from 0.06784\n",
      "348/348 [==============================] - 328s 943ms/step - loss: 0.0672 - diceAccuracy: 0.9475 - jaccardDistance: 0.9842 - val_loss: 0.0790 - val_diceAccuracy: 0.9287 - val_jaccardDistance: 1.3086 - lr: 1.2500e-04\n",
      "Epoch 162/1000\n",
      "348/348 [==============================] - ETA: 0s - loss: 0.0704 - diceAccuracy: 0.9466 - jaccardDistance: 1.0006\n",
      "Epoch 162: val_loss did not improve from 0.06784\n",
      "348/348 [==============================] - 327s 939ms/step - loss: 0.0704 - diceAccuracy: 0.9466 - jaccardDistance: 1.0006 - val_loss: 0.0860 - val_diceAccuracy: 0.9204 - val_jaccardDistance: 1.4471 - lr: 1.2500e-04\n",
      "Epoch 163/1000\n",
      "348/348 [==============================] - ETA: 0s - loss: 0.0670 - diceAccuracy: 0.9476 - jaccardDistance: 0.9815\n",
      "Epoch 163: val_loss did not improve from 0.06784\n",
      "348/348 [==============================] - 327s 940ms/step - loss: 0.0670 - diceAccuracy: 0.9476 - jaccardDistance: 0.9815 - val_loss: 0.0770 - val_diceAccuracy: 0.9327 - val_jaccardDistance: 1.2353 - lr: 1.2500e-04\n",
      "Epoch 164/1000\n",
      "348/348 [==============================] - ETA: 0s - loss: 0.0669 - diceAccuracy: 0.9476 - jaccardDistance: 0.9827\n",
      "Epoch 164: val_loss did not improve from 0.06784\n",
      "348/348 [==============================] - 329s 945ms/step - loss: 0.0669 - diceAccuracy: 0.9476 - jaccardDistance: 0.9827 - val_loss: 0.0706 - val_diceAccuracy: 0.9435 - val_jaccardDistance: 1.0456 - lr: 1.2500e-04\n",
      "Epoch 165/1000\n",
      "348/348 [==============================] - ETA: 0s - loss: 0.0678 - diceAccuracy: 0.9470 - jaccardDistance: 0.9933\n",
      "Epoch 165: val_loss did not improve from 0.06784\n",
      "348/348 [==============================] - 328s 942ms/step - loss: 0.0678 - diceAccuracy: 0.9470 - jaccardDistance: 0.9933 - val_loss: 0.1716 - val_diceAccuracy: 0.9373 - val_jaccardDistance: 1.1602 - lr: 1.2500e-04\n",
      "Epoch 166/1000\n",
      "348/348 [==============================] - ETA: 0s - loss: 0.1090 - diceAccuracy: 0.9471 - jaccardDistance: 0.9916\n",
      "Epoch 166: val_loss did not improve from 0.06784\n",
      "348/348 [==============================] - 328s 942ms/step - loss: 0.1090 - diceAccuracy: 0.9471 - jaccardDistance: 0.9916 - val_loss: 0.0832 - val_diceAccuracy: 0.9336 - val_jaccardDistance: 1.2213 - lr: 1.2500e-04\n",
      "Epoch 167/1000\n",
      "348/348 [==============================] - ETA: 0s - loss: 0.0570 - diceAccuracy: 0.9470 - jaccardDistance: 0.9940\n",
      "Epoch 167: val_loss improved from 0.06784 to 0.05654, saving model to model-saved\\deeplabv3plus_fold_0_lr_0.0005_alpha_0.35_binary_256x256_deeplayer_6\n"
     ]
    },
    {
     "name": "stderr",
     "output_type": "stream",
     "text": [
      "WARNING:absl:Found untraced functions such as _jit_compiled_convolution_op, _jit_compiled_convolution_op, _jit_compiled_convolution_op, _jit_compiled_convolution_op, _jit_compiled_convolution_op while saving (showing 5 of 28). These functions will not be directly callable after loading.\n"
     ]
    },
    {
     "name": "stdout",
     "output_type": "stream",
     "text": [
      "INFO:tensorflow:Assets written to: model-saved\\deeplabv3plus_fold_0_lr_0.0005_alpha_0.35_binary_256x256_deeplayer_6\\assets\n"
     ]
    },
    {
     "name": "stderr",
     "output_type": "stream",
     "text": [
      "INFO:tensorflow:Assets written to: model-saved\\deeplabv3plus_fold_0_lr_0.0005_alpha_0.35_binary_256x256_deeplayer_6\\assets\n"
     ]
    },
    {
     "name": "stdout",
     "output_type": "stream",
     "text": [
      "348/348 [==============================] - 343s 984ms/step - loss: 0.0570 - diceAccuracy: 0.9470 - jaccardDistance: 0.9940 - val_loss: 0.0565 - val_diceAccuracy: 0.9439 - val_jaccardDistance: 1.0390 - lr: 6.2500e-05\n",
      "Epoch 168/1000\n",
      "348/348 [==============================] - ETA: 0s - loss: 0.0527 - diceAccuracy: 0.9479 - jaccardDistance: 0.9765\n",
      "Epoch 168: val_loss improved from 0.05654 to 0.05458, saving model to model-saved\\deeplabv3plus_fold_0_lr_0.0005_alpha_0.35_binary_256x256_deeplayer_6\n"
     ]
    },
    {
     "name": "stderr",
     "output_type": "stream",
     "text": [
      "WARNING:absl:Found untraced functions such as _jit_compiled_convolution_op, _jit_compiled_convolution_op, _jit_compiled_convolution_op, _jit_compiled_convolution_op, _jit_compiled_convolution_op while saving (showing 5 of 28). These functions will not be directly callable after loading.\n"
     ]
    },
    {
     "name": "stdout",
     "output_type": "stream",
     "text": [
      "INFO:tensorflow:Assets written to: model-saved\\deeplabv3plus_fold_0_lr_0.0005_alpha_0.35_binary_256x256_deeplayer_6\\assets\n"
     ]
    },
    {
     "name": "stderr",
     "output_type": "stream",
     "text": [
      "INFO:tensorflow:Assets written to: model-saved\\deeplabv3plus_fold_0_lr_0.0005_alpha_0.35_binary_256x256_deeplayer_6\\assets\n"
     ]
    },
    {
     "name": "stdout",
     "output_type": "stream",
     "text": [
      "348/348 [==============================] - 346s 993ms/step - loss: 0.0527 - diceAccuracy: 0.9479 - jaccardDistance: 0.9765 - val_loss: 0.0546 - val_diceAccuracy: 0.9448 - val_jaccardDistance: 1.0276 - lr: 6.2500e-05\n",
      "Epoch 169/1000\n",
      "348/348 [==============================] - ETA: 0s - loss: 0.0519 - diceAccuracy: 0.9473 - jaccardDistance: 0.9875\n",
      "Epoch 169: val_loss improved from 0.05458 to 0.05323, saving model to model-saved\\deeplabv3plus_fold_0_lr_0.0005_alpha_0.35_binary_256x256_deeplayer_6\n"
     ]
    },
    {
     "name": "stderr",
     "output_type": "stream",
     "text": [
      "WARNING:absl:Found untraced functions such as _jit_compiled_convolution_op, _jit_compiled_convolution_op, _jit_compiled_convolution_op, _jit_compiled_convolution_op, _jit_compiled_convolution_op while saving (showing 5 of 28). These functions will not be directly callable after loading.\n"
     ]
    },
    {
     "name": "stdout",
     "output_type": "stream",
     "text": [
      "INFO:tensorflow:Assets written to: model-saved\\deeplabv3plus_fold_0_lr_0.0005_alpha_0.35_binary_256x256_deeplayer_6\\assets\n"
     ]
    },
    {
     "name": "stderr",
     "output_type": "stream",
     "text": [
      "INFO:tensorflow:Assets written to: model-saved\\deeplabv3plus_fold_0_lr_0.0005_alpha_0.35_binary_256x256_deeplayer_6\\assets\n"
     ]
    },
    {
     "name": "stdout",
     "output_type": "stream",
     "text": [
      "348/348 [==============================] - 353s 1s/step - loss: 0.0519 - diceAccuracy: 0.9473 - jaccardDistance: 0.9875 - val_loss: 0.0532 - val_diceAccuracy: 0.9457 - val_jaccardDistance: 1.0075 - lr: 6.2500e-05\n",
      "Epoch 170/1000\n",
      "348/348 [==============================] - ETA: 0s - loss: 0.0509 - diceAccuracy: 0.9481 - jaccardDistance: 0.9732\n",
      "Epoch 170: val_loss did not improve from 0.05323\n",
      "348/348 [==============================] - 329s 947ms/step - loss: 0.0509 - diceAccuracy: 0.9481 - jaccardDistance: 0.9732 - val_loss: 0.0546 - val_diceAccuracy: 0.9419 - val_jaccardDistance: 1.0753 - lr: 6.2500e-05\n",
      "Epoch 171/1000\n",
      "348/348 [==============================] - ETA: 0s - loss: 0.0510 - diceAccuracy: 0.9477 - jaccardDistance: 0.9804\n",
      "Epoch 171: val_loss improved from 0.05323 to 0.05282, saving model to model-saved\\deeplabv3plus_fold_0_lr_0.0005_alpha_0.35_binary_256x256_deeplayer_6\n"
     ]
    },
    {
     "name": "stderr",
     "output_type": "stream",
     "text": [
      "WARNING:absl:Found untraced functions such as _jit_compiled_convolution_op, _jit_compiled_convolution_op, _jit_compiled_convolution_op, _jit_compiled_convolution_op, _jit_compiled_convolution_op while saving (showing 5 of 28). These functions will not be directly callable after loading.\n"
     ]
    },
    {
     "name": "stdout",
     "output_type": "stream",
     "text": [
      "INFO:tensorflow:Assets written to: model-saved\\deeplabv3plus_fold_0_lr_0.0005_alpha_0.35_binary_256x256_deeplayer_6\\assets\n"
     ]
    },
    {
     "name": "stderr",
     "output_type": "stream",
     "text": [
      "INFO:tensorflow:Assets written to: model-saved\\deeplabv3plus_fold_0_lr_0.0005_alpha_0.35_binary_256x256_deeplayer_6\\assets\n"
     ]
    },
    {
     "name": "stdout",
     "output_type": "stream",
     "text": [
      "348/348 [==============================] - 366s 1s/step - loss: 0.0510 - diceAccuracy: 0.9477 - jaccardDistance: 0.9804 - val_loss: 0.0528 - val_diceAccuracy: 0.9452 - val_jaccardDistance: 1.0174 - lr: 6.2500e-05\n",
      "Epoch 172/1000\n",
      "348/348 [==============================] - ETA: 0s - loss: 0.0511 - diceAccuracy: 0.9476 - jaccardDistance: 0.9829\n",
      "Epoch 172: val_loss improved from 0.05282 to 0.05257, saving model to model-saved\\deeplabv3plus_fold_0_lr_0.0005_alpha_0.35_binary_256x256_deeplayer_6\n"
     ]
    },
    {
     "name": "stderr",
     "output_type": "stream",
     "text": [
      "WARNING:absl:Found untraced functions such as _jit_compiled_convolution_op, _jit_compiled_convolution_op, _jit_compiled_convolution_op, _jit_compiled_convolution_op, _jit_compiled_convolution_op while saving (showing 5 of 28). These functions will not be directly callable after loading.\n"
     ]
    },
    {
     "name": "stdout",
     "output_type": "stream",
     "text": [
      "INFO:tensorflow:Assets written to: model-saved\\deeplabv3plus_fold_0_lr_0.0005_alpha_0.35_binary_256x256_deeplayer_6\\assets\n"
     ]
    },
    {
     "name": "stderr",
     "output_type": "stream",
     "text": [
      "INFO:tensorflow:Assets written to: model-saved\\deeplabv3plus_fold_0_lr_0.0005_alpha_0.35_binary_256x256_deeplayer_6\\assets\n"
     ]
    },
    {
     "name": "stdout",
     "output_type": "stream",
     "text": [
      "348/348 [==============================] - 390s 1s/step - loss: 0.0511 - diceAccuracy: 0.9476 - jaccardDistance: 0.9829 - val_loss: 0.0526 - val_diceAccuracy: 0.9450 - val_jaccardDistance: 1.0213 - lr: 6.2500e-05\n",
      "Epoch 173/1000\n",
      "348/348 [==============================] - ETA: 0s - loss: 0.0509 - diceAccuracy: 0.9477 - jaccardDistance: 0.9807\n",
      "Epoch 173: val_loss did not improve from 0.05257\n",
      "348/348 [==============================] - 359s 1s/step - loss: 0.0509 - diceAccuracy: 0.9477 - jaccardDistance: 0.9807 - val_loss: 0.0537 - val_diceAccuracy: 0.9436 - val_jaccardDistance: 1.0452 - lr: 6.2500e-05\n",
      "Epoch 174/1000\n",
      "348/348 [==============================] - ETA: 0s - loss: 0.0508 - diceAccuracy: 0.9480 - jaccardDistance: 0.9757\n",
      "Epoch 174: val_loss improved from 0.05257 to 0.05225, saving model to model-saved\\deeplabv3plus_fold_0_lr_0.0005_alpha_0.35_binary_256x256_deeplayer_6\n"
     ]
    },
    {
     "name": "stderr",
     "output_type": "stream",
     "text": [
      "WARNING:absl:Found untraced functions such as _jit_compiled_convolution_op, _jit_compiled_convolution_op, _jit_compiled_convolution_op, _jit_compiled_convolution_op, _jit_compiled_convolution_op while saving (showing 5 of 28). These functions will not be directly callable after loading.\n"
     ]
    },
    {
     "name": "stdout",
     "output_type": "stream",
     "text": [
      "INFO:tensorflow:Assets written to: model-saved\\deeplabv3plus_fold_0_lr_0.0005_alpha_0.35_binary_256x256_deeplayer_6\\assets\n"
     ]
    },
    {
     "name": "stderr",
     "output_type": "stream",
     "text": [
      "INFO:tensorflow:Assets written to: model-saved\\deeplabv3plus_fold_0_lr_0.0005_alpha_0.35_binary_256x256_deeplayer_6\\assets\n"
     ]
    },
    {
     "name": "stdout",
     "output_type": "stream",
     "text": [
      "348/348 [==============================] - 390s 1s/step - loss: 0.0508 - diceAccuracy: 0.9480 - jaccardDistance: 0.9757 - val_loss: 0.0523 - val_diceAccuracy: 0.9465 - val_jaccardDistance: 1.0005 - lr: 6.2500e-05\n",
      "Epoch 175/1000\n",
      "348/348 [==============================] - ETA: 0s - loss: 0.0507 - diceAccuracy: 0.9480 - jaccardDistance: 0.9759\n",
      "Epoch 175: val_loss did not improve from 0.05225\n",
      "348/348 [==============================] - 352s 1s/step - loss: 0.0507 - diceAccuracy: 0.9480 - jaccardDistance: 0.9759 - val_loss: 0.0535 - val_diceAccuracy: 0.9437 - val_jaccardDistance: 1.0468 - lr: 6.2500e-05\n",
      "Epoch 176/1000\n",
      "348/348 [==============================] - ETA: 0s - loss: 0.0507 - diceAccuracy: 0.9480 - jaccardDistance: 0.9755\n",
      "Epoch 176: val_loss did not improve from 0.05225\n",
      "348/348 [==============================] - 345s 991ms/step - loss: 0.0507 - diceAccuracy: 0.9480 - jaccardDistance: 0.9755 - val_loss: 0.0527 - val_diceAccuracy: 0.9452 - val_jaccardDistance: 1.0165 - lr: 6.2500e-05\n",
      "Epoch 177/1000\n",
      "348/348 [==============================] - ETA: 0s - loss: 0.0510 - diceAccuracy: 0.9476 - jaccardDistance: 0.9830\n",
      "Epoch 177: val_loss did not improve from 0.05225\n",
      "348/348 [==============================] - 340s 976ms/step - loss: 0.0510 - diceAccuracy: 0.9476 - jaccardDistance: 0.9830 - val_loss: 0.0526 - val_diceAccuracy: 0.9456 - val_jaccardDistance: 1.0080 - lr: 6.2500e-05\n",
      "Epoch 178/1000\n",
      "348/348 [==============================] - ETA: 0s - loss: 0.0515 - diceAccuracy: 0.9470 - jaccardDistance: 0.9942\n",
      "Epoch 178: val_loss did not improve from 0.05225\n",
      "348/348 [==============================] - 338s 973ms/step - loss: 0.0515 - diceAccuracy: 0.9470 - jaccardDistance: 0.9942 - val_loss: 0.0526 - val_diceAccuracy: 0.9455 - val_jaccardDistance: 1.0166 - lr: 6.2500e-05\n",
      "Epoch 179/1000\n",
      "348/348 [==============================] - ETA: 0s - loss: 0.0509 - diceAccuracy: 0.9479 - jaccardDistance: 0.9782\n",
      "Epoch 179: val_loss improved from 0.05225 to 0.05223, saving model to model-saved\\deeplabv3plus_fold_0_lr_0.0005_alpha_0.35_binary_256x256_deeplayer_6\n"
     ]
    },
    {
     "name": "stderr",
     "output_type": "stream",
     "text": [
      "WARNING:absl:Found untraced functions such as _jit_compiled_convolution_op, _jit_compiled_convolution_op, _jit_compiled_convolution_op, _jit_compiled_convolution_op, _jit_compiled_convolution_op while saving (showing 5 of 28). These functions will not be directly callable after loading.\n"
     ]
    },
    {
     "name": "stdout",
     "output_type": "stream",
     "text": [
      "INFO:tensorflow:Assets written to: model-saved\\deeplabv3plus_fold_0_lr_0.0005_alpha_0.35_binary_256x256_deeplayer_6\\assets\n"
     ]
    },
    {
     "name": "stderr",
     "output_type": "stream",
     "text": [
      "INFO:tensorflow:Assets written to: model-saved\\deeplabv3plus_fold_0_lr_0.0005_alpha_0.35_binary_256x256_deeplayer_6\\assets\n"
     ]
    },
    {
     "name": "stdout",
     "output_type": "stream",
     "text": [
      "348/348 [==============================] - 359s 1s/step - loss: 0.0509 - diceAccuracy: 0.9479 - jaccardDistance: 0.9782 - val_loss: 0.0522 - val_diceAccuracy: 0.9467 - val_jaccardDistance: 0.9989 - lr: 6.2500e-05\n",
      "Epoch 180/1000\n",
      "348/348 [==============================] - ETA: 0s - loss: 0.0509 - diceAccuracy: 0.9479 - jaccardDistance: 0.9773\n",
      "Epoch 180: val_loss did not improve from 0.05223\n",
      "348/348 [==============================] - 339s 973ms/step - loss: 0.0509 - diceAccuracy: 0.9479 - jaccardDistance: 0.9773 - val_loss: 0.0525 - val_diceAccuracy: 0.9448 - val_jaccardDistance: 1.0281 - lr: 6.2500e-05\n",
      "Epoch 181/1000\n",
      "348/348 [==============================] - ETA: 0s - loss: 0.0509 - diceAccuracy: 0.9479 - jaccardDistance: 0.9770\n",
      "Epoch 181: val_loss did not improve from 0.05223\n",
      "348/348 [==============================] - 347s 997ms/step - loss: 0.0509 - diceAccuracy: 0.9479 - jaccardDistance: 0.9770 - val_loss: 0.0555 - val_diceAccuracy: 0.9418 - val_jaccardDistance: 1.0805 - lr: 6.2500e-05\n",
      "Epoch 182/1000\n",
      "348/348 [==============================] - ETA: 0s - loss: 0.0519 - diceAccuracy: 0.9467 - jaccardDistance: 0.9991\n",
      "Epoch 182: val_loss improved from 0.05223 to 0.05154, saving model to model-saved\\deeplabv3plus_fold_0_lr_0.0005_alpha_0.35_binary_256x256_deeplayer_6\n"
     ]
    },
    {
     "name": "stderr",
     "output_type": "stream",
     "text": [
      "WARNING:absl:Found untraced functions such as _jit_compiled_convolution_op, _jit_compiled_convolution_op, _jit_compiled_convolution_op, _jit_compiled_convolution_op, _jit_compiled_convolution_op while saving (showing 5 of 28). These functions will not be directly callable after loading.\n"
     ]
    },
    {
     "name": "stdout",
     "output_type": "stream",
     "text": [
      "INFO:tensorflow:Assets written to: model-saved\\deeplabv3plus_fold_0_lr_0.0005_alpha_0.35_binary_256x256_deeplayer_6\\assets\n"
     ]
    },
    {
     "name": "stderr",
     "output_type": "stream",
     "text": [
      "INFO:tensorflow:Assets written to: model-saved\\deeplabv3plus_fold_0_lr_0.0005_alpha_0.35_binary_256x256_deeplayer_6\\assets\n"
     ]
    },
    {
     "name": "stdout",
     "output_type": "stream",
     "text": [
      "348/348 [==============================] - 356s 1s/step - loss: 0.0519 - diceAccuracy: 0.9467 - jaccardDistance: 0.9991 - val_loss: 0.0515 - val_diceAccuracy: 0.9471 - val_jaccardDistance: 0.9923 - lr: 6.2500e-05\n",
      "Epoch 183/1000\n",
      "348/348 [==============================] - ETA: 0s - loss: 0.0504 - diceAccuracy: 0.9486 - jaccardDistance: 0.9647\n",
      "Epoch 183: val_loss did not improve from 0.05154\n",
      "348/348 [==============================] - 339s 973ms/step - loss: 0.0504 - diceAccuracy: 0.9486 - jaccardDistance: 0.9647 - val_loss: 0.0551 - val_diceAccuracy: 0.9422 - val_jaccardDistance: 1.0783 - lr: 6.2500e-05\n",
      "Epoch 184/1000\n",
      "348/348 [==============================] - ETA: 0s - loss: 0.0509 - diceAccuracy: 0.9479 - jaccardDistance: 0.9785\n",
      "Epoch 184: val_loss did not improve from 0.05154\n",
      "348/348 [==============================] - 370s 1s/step - loss: 0.0509 - diceAccuracy: 0.9479 - jaccardDistance: 0.9785 - val_loss: 0.0565 - val_diceAccuracy: 0.9408 - val_jaccardDistance: 1.0997 - lr: 6.2500e-05\n",
      "Epoch 185/1000\n",
      "348/348 [==============================] - ETA: 0s - loss: 0.0510 - diceAccuracy: 0.9478 - jaccardDistance: 0.9793\n",
      "Epoch 185: val_loss did not improve from 0.05154\n",
      "348/348 [==============================] - 355s 1s/step - loss: 0.0510 - diceAccuracy: 0.9478 - jaccardDistance: 0.9793 - val_loss: 0.0534 - val_diceAccuracy: 0.9439 - val_jaccardDistance: 1.0487 - lr: 6.2500e-05\n",
      "Epoch 186/1000\n",
      "348/348 [==============================] - ETA: 0s - loss: 0.0511 - diceAccuracy: 0.9477 - jaccardDistance: 0.9811\n",
      "Epoch 186: val_loss did not improve from 0.05154\n",
      "348/348 [==============================] - 355s 1s/step - loss: 0.0511 - diceAccuracy: 0.9477 - jaccardDistance: 0.9811 - val_loss: 0.0522 - val_diceAccuracy: 0.9469 - val_jaccardDistance: 0.9943 - lr: 6.2500e-05\n",
      "Epoch 187/1000\n",
      "348/348 [==============================] - ETA: 0s - loss: 0.0510 - diceAccuracy: 0.9478 - jaccardDistance: 0.9799\n",
      "Epoch 187: val_loss did not improve from 0.05154\n",
      "348/348 [==============================] - 352s 1s/step - loss: 0.0510 - diceAccuracy: 0.9478 - jaccardDistance: 0.9799 - val_loss: 0.0535 - val_diceAccuracy: 0.9431 - val_jaccardDistance: 1.0535 - lr: 6.2500e-05\n",
      "Epoch 188/1000\n",
      "348/348 [==============================] - ETA: 0s - loss: 0.0508 - diceAccuracy: 0.9479 - jaccardDistance: 0.9766\n",
      "Epoch 188: val_loss did not improve from 0.05154\n",
      "348/348 [==============================] - 353s 1s/step - loss: 0.0508 - diceAccuracy: 0.9479 - jaccardDistance: 0.9766 - val_loss: 0.0532 - val_diceAccuracy: 0.9443 - val_jaccardDistance: 1.0356 - lr: 6.2500e-05\n",
      "Epoch 189/1000\n",
      "348/348 [==============================] - ETA: 0s - loss: 0.0508 - diceAccuracy: 0.9480 - jaccardDistance: 0.9755\n",
      "Epoch 189: val_loss did not improve from 0.05154\n",
      "348/348 [==============================] - 360s 1s/step - loss: 0.0508 - diceAccuracy: 0.9480 - jaccardDistance: 0.9755 - val_loss: 0.0548 - val_diceAccuracy: 0.9431 - val_jaccardDistance: 1.0559 - lr: 6.2500e-05\n",
      "Epoch 190/1000\n",
      "348/348 [==============================] - ETA: 0s - loss: 0.0511 - diceAccuracy: 0.9477 - jaccardDistance: 0.9813\n",
      "Epoch 190: val_loss did not improve from 0.05154\n",
      "348/348 [==============================] - 357s 1s/step - loss: 0.0511 - diceAccuracy: 0.9477 - jaccardDistance: 0.9813 - val_loss: 0.0516 - val_diceAccuracy: 0.9467 - val_jaccardDistance: 0.9927 - lr: 6.2500e-05\n",
      "Epoch 191/1000\n",
      "348/348 [==============================] - ETA: 0s - loss: 0.0508 - diceAccuracy: 0.9481 - jaccardDistance: 0.9740\n",
      "Epoch 191: val_loss did not improve from 0.05154\n",
      "348/348 [==============================] - 352s 1s/step - loss: 0.0508 - diceAccuracy: 0.9481 - jaccardDistance: 0.9740 - val_loss: 0.0540 - val_diceAccuracy: 0.9436 - val_jaccardDistance: 1.0479 - lr: 6.2500e-05\n",
      "Epoch 192/1000\n",
      "348/348 [==============================] - ETA: 0s - loss: 0.0510 - diceAccuracy: 0.9479 - jaccardDistance: 0.9780\n",
      "Epoch 192: val_loss did not improve from 0.05154\n",
      "348/348 [==============================] - 355s 1s/step - loss: 0.0510 - diceAccuracy: 0.9479 - jaccardDistance: 0.9780 - val_loss: 0.0546 - val_diceAccuracy: 0.9428 - val_jaccardDistance: 1.0619 - lr: 6.2500e-05\n",
      "Epoch 193/1000\n",
      "348/348 [==============================] - ETA: 0s - loss: 0.0509 - diceAccuracy: 0.9480 - jaccardDistance: 0.9756\n",
      "Epoch 193: val_loss did not improve from 0.05154\n",
      "348/348 [==============================] - 349s 1s/step - loss: 0.0509 - diceAccuracy: 0.9480 - jaccardDistance: 0.9756 - val_loss: 0.0532 - val_diceAccuracy: 0.9445 - val_jaccardDistance: 1.0306 - lr: 6.2500e-05\n",
      "Epoch 194/1000\n",
      "348/348 [==============================] - ETA: 0s - loss: 0.0515 - diceAccuracy: 0.9473 - jaccardDistance: 0.9881\n",
      "Epoch 194: val_loss did not improve from 0.05154\n",
      "348/348 [==============================] - 355s 1s/step - loss: 0.0515 - diceAccuracy: 0.9473 - jaccardDistance: 0.9881 - val_loss: 0.0550 - val_diceAccuracy: 0.9422 - val_jaccardDistance: 1.0731 - lr: 6.2500e-05\n",
      "Epoch 195/1000\n",
      "348/348 [==============================] - ETA: 0s - loss: 0.0511 - diceAccuracy: 0.9476 - jaccardDistance: 0.9820\n",
      "Epoch 195: val_loss did not improve from 0.05154\n",
      "348/348 [==============================] - 355s 1s/step - loss: 0.0511 - diceAccuracy: 0.9476 - jaccardDistance: 0.9820 - val_loss: 0.0526 - val_diceAccuracy: 0.9453 - val_jaccardDistance: 1.0167 - lr: 6.2500e-05\n",
      "Epoch 196/1000\n",
      "348/348 [==============================] - ETA: 0s - loss: 0.0508 - diceAccuracy: 0.9479 - jaccardDistance: 0.9766\n",
      "Epoch 196: val_loss did not improve from 0.05154\n",
      "348/348 [==============================] - 348s 1s/step - loss: 0.0508 - diceAccuracy: 0.9479 - jaccardDistance: 0.9766 - val_loss: 0.0531 - val_diceAccuracy: 0.9448 - val_jaccardDistance: 1.0277 - lr: 6.2500e-05\n",
      "Epoch 197/1000\n",
      "348/348 [==============================] - ETA: 0s - loss: 0.0512 - diceAccuracy: 0.9473 - jaccardDistance: 0.9872\n",
      "Epoch 197: val_loss did not improve from 0.05154\n",
      "348/348 [==============================] - 349s 1s/step - loss: 0.0512 - diceAccuracy: 0.9473 - jaccardDistance: 0.9872 - val_loss: 0.0518 - val_diceAccuracy: 0.9467 - val_jaccardDistance: 0.9983 - lr: 6.2500e-05\n",
      "Epoch 198/1000\n",
      "348/348 [==============================] - ETA: 0s - loss: 0.0505 - diceAccuracy: 0.9484 - jaccardDistance: 0.9688\n",
      "Epoch 198: val_loss did not improve from 0.05154\n",
      "348/348 [==============================] - 351s 1s/step - loss: 0.0505 - diceAccuracy: 0.9484 - jaccardDistance: 0.9688 - val_loss: 0.0533 - val_diceAccuracy: 0.9444 - val_jaccardDistance: 1.0344 - lr: 6.2500e-05\n",
      "Epoch 199/1000\n",
      "348/348 [==============================] - ETA: 0s - loss: 0.0510 - diceAccuracy: 0.9478 - jaccardDistance: 0.9784\n",
      "Epoch 199: val_loss did not improve from 0.05154\n",
      "348/348 [==============================] - 342s 982ms/step - loss: 0.0510 - diceAccuracy: 0.9478 - jaccardDistance: 0.9784 - val_loss: 0.0532 - val_diceAccuracy: 0.9448 - val_jaccardDistance: 1.0275 - lr: 6.2500e-05\n",
      "Epoch 200/1000\n",
      "348/348 [==============================] - ETA: 0s - loss: 0.0509 - diceAccuracy: 0.9478 - jaccardDistance: 0.9802\n",
      "Epoch 200: val_loss did not improve from 0.05154\n",
      "348/348 [==============================] - 343s 987ms/step - loss: 0.0509 - diceAccuracy: 0.9478 - jaccardDistance: 0.9802 - val_loss: 0.0517 - val_diceAccuracy: 0.9463 - val_jaccardDistance: 1.0051 - lr: 6.2500e-05\n",
      "Epoch 201/1000\n",
      "348/348 [==============================] - ETA: 0s - loss: 0.0511 - diceAccuracy: 0.9476 - jaccardDistance: 0.9829\n",
      "Epoch 201: val_loss did not improve from 0.05154\n",
      "348/348 [==============================] - 353s 1s/step - loss: 0.0511 - diceAccuracy: 0.9476 - jaccardDistance: 0.9829 - val_loss: 0.0531 - val_diceAccuracy: 0.9449 - val_jaccardDistance: 1.0255 - lr: 6.2500e-05\n",
      "Epoch 202/1000\n",
      "348/348 [==============================] - ETA: 0s - loss: 0.0507 - diceAccuracy: 0.9482 - jaccardDistance: 0.9721\n",
      "Epoch 202: val_loss did not improve from 0.05154\n",
      "348/348 [==============================] - 350s 1s/step - loss: 0.0507 - diceAccuracy: 0.9482 - jaccardDistance: 0.9721 - val_loss: 0.0528 - val_diceAccuracy: 0.9449 - val_jaccardDistance: 1.0294 - lr: 6.2500e-05\n",
      "Epoch 203/1000\n",
      "348/348 [==============================] - ETA: 0s - loss: 0.0509 - diceAccuracy: 0.9478 - jaccardDistance: 0.9785\n",
      "Epoch 203: val_loss did not improve from 0.05154\n",
      "348/348 [==============================] - 354s 1s/step - loss: 0.0509 - diceAccuracy: 0.9478 - jaccardDistance: 0.9785 - val_loss: 0.0531 - val_diceAccuracy: 0.9452 - val_jaccardDistance: 1.0224 - lr: 6.2500e-05\n",
      "Epoch 204/1000\n",
      "348/348 [==============================] - ETA: 0s - loss: 0.0510 - diceAccuracy: 0.9479 - jaccardDistance: 0.9769\n",
      "Epoch 204: val_loss did not improve from 0.05154\n",
      "348/348 [==============================] - 384s 1s/step - loss: 0.0510 - diceAccuracy: 0.9479 - jaccardDistance: 0.9769 - val_loss: 0.0516 - val_diceAccuracy: 0.9473 - val_jaccardDistance: 0.9870 - lr: 6.2500e-05\n",
      "Epoch 205/1000\n",
      "348/348 [==============================] - ETA: 0s - loss: 0.0508 - diceAccuracy: 0.9481 - jaccardDistance: 0.9740\n",
      "Epoch 205: val_loss did not improve from 0.05154\n",
      "348/348 [==============================] - 392s 1s/step - loss: 0.0508 - diceAccuracy: 0.9481 - jaccardDistance: 0.9740 - val_loss: 0.0522 - val_diceAccuracy: 0.9452 - val_jaccardDistance: 1.0216 - lr: 6.2500e-05\n",
      "Epoch 206/1000\n",
      "348/348 [==============================] - ETA: 0s - loss: 0.0512 - diceAccuracy: 0.9475 - jaccardDistance: 0.9843\n",
      "Epoch 206: val_loss did not improve from 0.05154\n",
      "348/348 [==============================] - 406s 1s/step - loss: 0.0512 - diceAccuracy: 0.9475 - jaccardDistance: 0.9843 - val_loss: 0.0536 - val_diceAccuracy: 0.9442 - val_jaccardDistance: 1.0385 - lr: 6.2500e-05\n",
      "Epoch 207/1000\n",
      "348/348 [==============================] - ETA: 0s - loss: 0.0512 - diceAccuracy: 0.9474 - jaccardDistance: 0.9861\n",
      "Epoch 207: val_loss did not improve from 0.05154\n",
      "348/348 [==============================] - 448s 1s/step - loss: 0.0512 - diceAccuracy: 0.9474 - jaccardDistance: 0.9861 - val_loss: 0.0542 - val_diceAccuracy: 0.9430 - val_jaccardDistance: 1.0597 - lr: 6.2500e-05\n",
      "Epoch 208/1000\n",
      "348/348 [==============================] - ETA: 0s - loss: 0.0432 - diceAccuracy: 0.9482 - jaccardDistance: 0.9728\n",
      "Epoch 208: val_loss improved from 0.05154 to 0.04458, saving model to model-saved\\deeplabv3plus_fold_0_lr_0.0005_alpha_0.35_binary_256x256_deeplayer_6\n"
     ]
    },
    {
     "name": "stderr",
     "output_type": "stream",
     "text": [
      "WARNING:absl:Found untraced functions such as _jit_compiled_convolution_op, _jit_compiled_convolution_op, _jit_compiled_convolution_op, _jit_compiled_convolution_op, _jit_compiled_convolution_op while saving (showing 5 of 28). These functions will not be directly callable after loading.\n"
     ]
    },
    {
     "name": "stdout",
     "output_type": "stream",
     "text": [
      "INFO:tensorflow:Assets written to: model-saved\\deeplabv3plus_fold_0_lr_0.0005_alpha_0.35_binary_256x256_deeplayer_6\\assets\n"
     ]
    },
    {
     "name": "stderr",
     "output_type": "stream",
     "text": [
      "INFO:tensorflow:Assets written to: model-saved\\deeplabv3plus_fold_0_lr_0.0005_alpha_0.35_binary_256x256_deeplayer_6\\assets\n"
     ]
    },
    {
     "name": "stdout",
     "output_type": "stream",
     "text": [
      "348/348 [==============================] - 445s 1s/step - loss: 0.0432 - diceAccuracy: 0.9482 - jaccardDistance: 0.9728 - val_loss: 0.0446 - val_diceAccuracy: 0.9455 - val_jaccardDistance: 1.0149 - lr: 3.1250e-05\n",
      "Epoch 209/1000\n",
      "348/348 [==============================] - ETA: 0s - loss: 0.0430 - diceAccuracy: 0.9479 - jaccardDistance: 0.9768\n",
      "Epoch 209: val_loss did not improve from 0.04458\n",
      "348/348 [==============================] - 424s 1s/step - loss: 0.0430 - diceAccuracy: 0.9479 - jaccardDistance: 0.9768 - val_loss: 0.0454 - val_diceAccuracy: 0.9448 - val_jaccardDistance: 1.0282 - lr: 3.1250e-05\n",
      "Epoch 210/1000\n",
      "348/348 [==============================] - ETA: 0s - loss: 0.0433 - diceAccuracy: 0.9475 - jaccardDistance: 0.9847\n",
      "Epoch 210: val_loss did not improve from 0.04458\n",
      "348/348 [==============================] - 385s 1s/step - loss: 0.0433 - diceAccuracy: 0.9475 - jaccardDistance: 0.9847 - val_loss: 0.0448 - val_diceAccuracy: 0.9456 - val_jaccardDistance: 1.0132 - lr: 3.1250e-05\n",
      "Epoch 211/1000\n",
      "348/348 [==============================] - ETA: 0s - loss: 0.0429 - diceAccuracy: 0.9481 - jaccardDistance: 0.9742\n",
      "Epoch 211: val_loss did not improve from 0.04458\n",
      "348/348 [==============================] - 373s 1s/step - loss: 0.0429 - diceAccuracy: 0.9481 - jaccardDistance: 0.9742 - val_loss: 0.0460 - val_diceAccuracy: 0.9432 - val_jaccardDistance: 1.0606 - lr: 3.1250e-05\n",
      "Epoch 212/1000\n",
      "348/348 [==============================] - ETA: 0s - loss: 0.0428 - diceAccuracy: 0.9482 - jaccardDistance: 0.9715\n",
      "Epoch 212: val_loss did not improve from 0.04458\n",
      "348/348 [==============================] - 430s 1s/step - loss: 0.0428 - diceAccuracy: 0.9482 - jaccardDistance: 0.9715 - val_loss: 0.0448 - val_diceAccuracy: 0.9454 - val_jaccardDistance: 1.0170 - lr: 3.1250e-05\n",
      "Epoch 213/1000\n",
      "348/348 [==============================] - ETA: 0s - loss: 0.0433 - diceAccuracy: 0.9474 - jaccardDistance: 0.9858\n",
      "Epoch 213: val_loss did not improve from 0.04458\n",
      "348/348 [==============================] - 442s 1s/step - loss: 0.0433 - diceAccuracy: 0.9474 - jaccardDistance: 0.9858 - val_loss: 0.0460 - val_diceAccuracy: 0.9432 - val_jaccardDistance: 1.0573 - lr: 3.1250e-05\n",
      "Epoch 214/1000\n",
      "348/348 [==============================] - ETA: 0s - loss: 0.0426 - diceAccuracy: 0.9484 - jaccardDistance: 0.9680\n",
      "Epoch 214: val_loss improved from 0.04458 to 0.04364, saving model to model-saved\\deeplabv3plus_fold_0_lr_0.0005_alpha_0.35_binary_256x256_deeplayer_6\n"
     ]
    },
    {
     "name": "stderr",
     "output_type": "stream",
     "text": [
      "WARNING:absl:Found untraced functions such as _jit_compiled_convolution_op, _jit_compiled_convolution_op, _jit_compiled_convolution_op, _jit_compiled_convolution_op, _jit_compiled_convolution_op while saving (showing 5 of 28). These functions will not be directly callable after loading.\n"
     ]
    },
    {
     "name": "stdout",
     "output_type": "stream",
     "text": [
      "INFO:tensorflow:Assets written to: model-saved\\deeplabv3plus_fold_0_lr_0.0005_alpha_0.35_binary_256x256_deeplayer_6\\assets\n"
     ]
    },
    {
     "name": "stderr",
     "output_type": "stream",
     "text": [
      "INFO:tensorflow:Assets written to: model-saved\\deeplabv3plus_fold_0_lr_0.0005_alpha_0.35_binary_256x256_deeplayer_6\\assets\n"
     ]
    },
    {
     "name": "stdout",
     "output_type": "stream",
     "text": [
      "348/348 [==============================] - 443s 1s/step - loss: 0.0426 - diceAccuracy: 0.9484 - jaccardDistance: 0.9680 - val_loss: 0.0436 - val_diceAccuracy: 0.9469 - val_jaccardDistance: 0.9906 - lr: 3.1250e-05\n",
      "Epoch 215/1000\n",
      "348/348 [==============================] - ETA: 0s - loss: 0.0432 - diceAccuracy: 0.9476 - jaccardDistance: 0.9817\n",
      "Epoch 215: val_loss did not improve from 0.04364\n",
      "348/348 [==============================] - 394s 1s/step - loss: 0.0432 - diceAccuracy: 0.9476 - jaccardDistance: 0.9817 - val_loss: 0.0457 - val_diceAccuracy: 0.9442 - val_jaccardDistance: 1.0378 - lr: 3.1250e-05\n",
      "Epoch 216/1000\n",
      "348/348 [==============================] - ETA: 0s - loss: 0.0429 - diceAccuracy: 0.9481 - jaccardDistance: 0.9748\n",
      "Epoch 216: val_loss did not improve from 0.04364\n",
      "348/348 [==============================] - 456s 1s/step - loss: 0.0429 - diceAccuracy: 0.9481 - jaccardDistance: 0.9748 - val_loss: 0.0446 - val_diceAccuracy: 0.9453 - val_jaccardDistance: 1.0204 - lr: 3.1250e-05\n",
      "Epoch 217/1000\n",
      "348/348 [==============================] - ETA: 0s - loss: 0.0432 - diceAccuracy: 0.9476 - jaccardDistance: 0.9834\n",
      "Epoch 217: val_loss did not improve from 0.04364\n",
      "348/348 [==============================] - 411s 1s/step - loss: 0.0432 - diceAccuracy: 0.9476 - jaccardDistance: 0.9834 - val_loss: 0.0448 - val_diceAccuracy: 0.9452 - val_jaccardDistance: 1.0204 - lr: 3.1250e-05\n",
      "Epoch 218/1000\n",
      "348/348 [==============================] - ETA: 0s - loss: 0.0430 - diceAccuracy: 0.9479 - jaccardDistance: 0.9779\n",
      "Epoch 218: val_loss did not improve from 0.04364\n",
      "348/348 [==============================] - 385s 1s/step - loss: 0.0430 - diceAccuracy: 0.9479 - jaccardDistance: 0.9779 - val_loss: 0.0453 - val_diceAccuracy: 0.9446 - val_jaccardDistance: 1.0354 - lr: 3.1250e-05\n",
      "Epoch 219/1000\n",
      "348/348 [==============================] - ETA: 0s - loss: 0.0430 - diceAccuracy: 0.9479 - jaccardDistance: 0.9776\n",
      "Epoch 219: val_loss did not improve from 0.04364\n",
      "348/348 [==============================] - 400s 1s/step - loss: 0.0430 - diceAccuracy: 0.9479 - jaccardDistance: 0.9776 - val_loss: 0.0439 - val_diceAccuracy: 0.9468 - val_jaccardDistance: 0.9966 - lr: 3.1250e-05\n",
      "Epoch 220/1000\n",
      "348/348 [==============================] - ETA: 0s - loss: 0.0427 - diceAccuracy: 0.9483 - jaccardDistance: 0.9697\n",
      "Epoch 220: val_loss did not improve from 0.04364\n",
      "348/348 [==============================] - 404s 1s/step - loss: 0.0427 - diceAccuracy: 0.9483 - jaccardDistance: 0.9697 - val_loss: 0.0450 - val_diceAccuracy: 0.9453 - val_jaccardDistance: 1.0193 - lr: 3.1250e-05\n",
      "Epoch 221/1000\n",
      "348/348 [==============================] - ETA: 0s - loss: 0.0429 - diceAccuracy: 0.9481 - jaccardDistance: 0.9743\n",
      "Epoch 221: val_loss did not improve from 0.04364\n",
      "348/348 [==============================] - 389s 1s/step - loss: 0.0429 - diceAccuracy: 0.9481 - jaccardDistance: 0.9743 - val_loss: 0.0446 - val_diceAccuracy: 0.9452 - val_jaccardDistance: 1.0197 - lr: 3.1250e-05\n",
      "Epoch 222/1000\n",
      "348/348 [==============================] - ETA: 0s - loss: 0.0431 - diceAccuracy: 0.9477 - jaccardDistance: 0.9811\n",
      "Epoch 222: val_loss did not improve from 0.04364\n",
      "348/348 [==============================] - 393s 1s/step - loss: 0.0431 - diceAccuracy: 0.9477 - jaccardDistance: 0.9811 - val_loss: 0.0444 - val_diceAccuracy: 0.9460 - val_jaccardDistance: 1.0060 - lr: 3.1250e-05\n",
      "Epoch 223/1000\n",
      "348/348 [==============================] - ETA: 0s - loss: 0.0430 - diceAccuracy: 0.9478 - jaccardDistance: 0.9784\n",
      "Epoch 223: val_loss did not improve from 0.04364\n",
      "348/348 [==============================] - 437s 1s/step - loss: 0.0430 - diceAccuracy: 0.9478 - jaccardDistance: 0.9784 - val_loss: 0.0444 - val_diceAccuracy: 0.9457 - val_jaccardDistance: 1.0137 - lr: 3.1250e-05\n",
      "Epoch 224/1000\n",
      "348/348 [==============================] - ETA: 0s - loss: 0.0426 - diceAccuracy: 0.9485 - jaccardDistance: 0.9673\n",
      "Epoch 224: val_loss did not improve from 0.04364\n",
      "348/348 [==============================] - 380s 1s/step - loss: 0.0426 - diceAccuracy: 0.9485 - jaccardDistance: 0.9673 - val_loss: 0.0446 - val_diceAccuracy: 0.9458 - val_jaccardDistance: 1.0112 - lr: 3.1250e-05\n",
      "Epoch 225/1000\n",
      "348/348 [==============================] - ETA: 0s - loss: 0.0430 - diceAccuracy: 0.9479 - jaccardDistance: 0.9780\n",
      "Epoch 225: val_loss did not improve from 0.04364\n",
      "348/348 [==============================] - 410s 1s/step - loss: 0.0430 - diceAccuracy: 0.9479 - jaccardDistance: 0.9780 - val_loss: 0.0500 - val_diceAccuracy: 0.9377 - val_jaccardDistance: 1.1526 - lr: 3.1250e-05\n",
      "Epoch 226/1000\n",
      "348/348 [==============================] - ETA: 0s - loss: 0.0427 - diceAccuracy: 0.9484 - jaccardDistance: 0.9686\n",
      "Epoch 226: val_loss did not improve from 0.04364\n",
      "348/348 [==============================] - 406s 1s/step - loss: 0.0427 - diceAccuracy: 0.9484 - jaccardDistance: 0.9686 - val_loss: 0.0453 - val_diceAccuracy: 0.9442 - val_jaccardDistance: 1.0373 - lr: 3.1250e-05\n",
      "Epoch 227/1000\n",
      "348/348 [==============================] - ETA: 0s - loss: 0.0427 - diceAccuracy: 0.9483 - jaccardDistance: 0.9703\n",
      "Epoch 227: val_loss did not improve from 0.04364\n",
      "348/348 [==============================] - 396s 1s/step - loss: 0.0427 - diceAccuracy: 0.9483 - jaccardDistance: 0.9703 - val_loss: 0.0453 - val_diceAccuracy: 0.9446 - val_jaccardDistance: 1.0320 - lr: 3.1250e-05\n",
      "Epoch 228/1000\n",
      "348/348 [==============================] - ETA: 0s - loss: 0.0427 - diceAccuracy: 0.9482 - jaccardDistance: 0.9719\n",
      "Epoch 228: val_loss did not improve from 0.04364\n",
      "348/348 [==============================] - 387s 1s/step - loss: 0.0427 - diceAccuracy: 0.9482 - jaccardDistance: 0.9719 - val_loss: 0.0446 - val_diceAccuracy: 0.9451 - val_jaccardDistance: 1.0241 - lr: 3.1250e-05\n",
      "Epoch 229/1000\n",
      "348/348 [==============================] - ETA: 0s - loss: 0.0431 - diceAccuracy: 0.9478 - jaccardDistance: 0.9803\n",
      "Epoch 229: val_loss did not improve from 0.04364\n",
      "348/348 [==============================] - 409s 1s/step - loss: 0.0431 - diceAccuracy: 0.9478 - jaccardDistance: 0.9803 - val_loss: 0.0449 - val_diceAccuracy: 0.9450 - val_jaccardDistance: 1.0252 - lr: 3.1250e-05\n",
      "Epoch 230/1000\n",
      "348/348 [==============================] - ETA: 0s - loss: 0.0429 - diceAccuracy: 0.9480 - jaccardDistance: 0.9756\n",
      "Epoch 230: val_loss did not improve from 0.04364\n",
      "348/348 [==============================] - 396s 1s/step - loss: 0.0429 - diceAccuracy: 0.9480 - jaccardDistance: 0.9756 - val_loss: 0.0442 - val_diceAccuracy: 0.9465 - val_jaccardDistance: 0.9971 - lr: 3.1250e-05\n",
      "Epoch 231/1000\n",
      "348/348 [==============================] - ETA: 0s - loss: 0.0429 - diceAccuracy: 0.9481 - jaccardDistance: 0.9745\n",
      "Epoch 231: val_loss did not improve from 0.04364\n",
      "348/348 [==============================] - 366s 1s/step - loss: 0.0429 - diceAccuracy: 0.9481 - jaccardDistance: 0.9745 - val_loss: 0.0450 - val_diceAccuracy: 0.9448 - val_jaccardDistance: 1.0261 - lr: 3.1250e-05\n",
      "Epoch 232/1000\n",
      "348/348 [==============================] - ETA: 0s - loss: 0.0431 - diceAccuracy: 0.9477 - jaccardDistance: 0.9813\n",
      "Epoch 232: val_loss did not improve from 0.04364\n",
      "348/348 [==============================] - 407s 1s/step - loss: 0.0431 - diceAccuracy: 0.9477 - jaccardDistance: 0.9813 - val_loss: 0.0453 - val_diceAccuracy: 0.9446 - val_jaccardDistance: 1.0311 - lr: 3.1250e-05\n",
      "Epoch 233/1000\n",
      "348/348 [==============================] - ETA: 0s - loss: 0.0427 - diceAccuracy: 0.9484 - jaccardDistance: 0.9686\n",
      "Epoch 233: val_loss did not improve from 0.04364\n",
      "348/348 [==============================] - 404s 1s/step - loss: 0.0427 - diceAccuracy: 0.9484 - jaccardDistance: 0.9686 - val_loss: 0.0446 - val_diceAccuracy: 0.9452 - val_jaccardDistance: 1.0197 - lr: 3.1250e-05\n",
      "Epoch 234/1000\n",
      "348/348 [==============================] - ETA: 0s - loss: 0.0430 - diceAccuracy: 0.9478 - jaccardDistance: 0.9792\n",
      "Epoch 234: val_loss did not improve from 0.04364\n",
      "348/348 [==============================] - 374s 1s/step - loss: 0.0430 - diceAccuracy: 0.9478 - jaccardDistance: 0.9792 - val_loss: 0.0442 - val_diceAccuracy: 0.9462 - val_jaccardDistance: 1.0042 - lr: 3.1250e-05\n",
      "Epoch 235/1000\n",
      "348/348 [==============================] - ETA: 0s - loss: 0.0428 - diceAccuracy: 0.9482 - jaccardDistance: 0.9716\n",
      "Epoch 235: val_loss did not improve from 0.04364\n",
      "348/348 [==============================] - 387s 1s/step - loss: 0.0428 - diceAccuracy: 0.9482 - jaccardDistance: 0.9716 - val_loss: 0.0446 - val_diceAccuracy: 0.9454 - val_jaccardDistance: 1.0179 - lr: 3.1250e-05\n",
      "Epoch 236/1000\n",
      "348/348 [==============================] - ETA: 0s - loss: 0.0428 - diceAccuracy: 0.9481 - jaccardDistance: 0.9738\n",
      "Epoch 236: val_loss did not improve from 0.04364\n",
      "348/348 [==============================] - 397s 1s/step - loss: 0.0428 - diceAccuracy: 0.9481 - jaccardDistance: 0.9738 - val_loss: 0.0451 - val_diceAccuracy: 0.9447 - val_jaccardDistance: 1.0335 - lr: 3.1250e-05\n",
      "Epoch 237/1000\n",
      "348/348 [==============================] - ETA: 0s - loss: 0.0424 - diceAccuracy: 0.9487 - jaccardDistance: 0.9627\n",
      "Epoch 237: val_loss did not improve from 0.04364\n",
      "348/348 [==============================] - 365s 1s/step - loss: 0.0424 - diceAccuracy: 0.9487 - jaccardDistance: 0.9627 - val_loss: 0.0449 - val_diceAccuracy: 0.9450 - val_jaccardDistance: 1.0231 - lr: 3.1250e-05\n",
      "Epoch 238/1000\n",
      "348/348 [==============================] - ETA: 0s - loss: 0.0429 - diceAccuracy: 0.9481 - jaccardDistance: 0.9744\n",
      "Epoch 238: val_loss did not improve from 0.04364\n",
      "348/348 [==============================] - 353s 1s/step - loss: 0.0429 - diceAccuracy: 0.9481 - jaccardDistance: 0.9744 - val_loss: 0.0448 - val_diceAccuracy: 0.9452 - val_jaccardDistance: 1.0215 - lr: 3.1250e-05\n",
      "Epoch 239/1000\n",
      "348/348 [==============================] - ETA: 0s - loss: 0.0431 - diceAccuracy: 0.9478 - jaccardDistance: 0.9800\n",
      "Epoch 239: val_loss did not improve from 0.04364\n",
      "348/348 [==============================] - 356s 1s/step - loss: 0.0431 - diceAccuracy: 0.9478 - jaccardDistance: 0.9800 - val_loss: 0.0453 - val_diceAccuracy: 0.9447 - val_jaccardDistance: 1.0338 - lr: 3.1250e-05\n",
      "Epoch 240/1000\n",
      "348/348 [==============================] - ETA: 0s - loss: 0.0390 - diceAccuracy: 0.9481 - jaccardDistance: 0.9737\n",
      "Epoch 240: val_loss improved from 0.04364 to 0.04095, saving model to model-saved\\deeplabv3plus_fold_0_lr_0.0005_alpha_0.35_binary_256x256_deeplayer_6\n"
     ]
    },
    {
     "name": "stderr",
     "output_type": "stream",
     "text": [
      "WARNING:absl:Found untraced functions such as _jit_compiled_convolution_op, _jit_compiled_convolution_op, _jit_compiled_convolution_op, _jit_compiled_convolution_op, _jit_compiled_convolution_op while saving (showing 5 of 28). These functions will not be directly callable after loading.\n"
     ]
    },
    {
     "name": "stdout",
     "output_type": "stream",
     "text": [
      "INFO:tensorflow:Assets written to: model-saved\\deeplabv3plus_fold_0_lr_0.0005_alpha_0.35_binary_256x256_deeplayer_6\\assets\n"
     ]
    },
    {
     "name": "stderr",
     "output_type": "stream",
     "text": [
      "INFO:tensorflow:Assets written to: model-saved\\deeplabv3plus_fold_0_lr_0.0005_alpha_0.35_binary_256x256_deeplayer_6\\assets\n"
     ]
    },
    {
     "name": "stdout",
     "output_type": "stream",
     "text": [
      "348/348 [==============================] - 398s 1s/step - loss: 0.0390 - diceAccuracy: 0.9481 - jaccardDistance: 0.9737 - val_loss: 0.0410 - val_diceAccuracy: 0.9449 - val_jaccardDistance: 1.0266 - lr: 1.5625e-05\n",
      "Epoch 241/1000\n",
      "348/348 [==============================] - ETA: 0s - loss: 0.0386 - diceAccuracy: 0.9485 - jaccardDistance: 0.9666\n",
      "Epoch 241: val_loss improved from 0.04095 to 0.03996, saving model to model-saved\\deeplabv3plus_fold_0_lr_0.0005_alpha_0.35_binary_256x256_deeplayer_6\n"
     ]
    },
    {
     "name": "stderr",
     "output_type": "stream",
     "text": [
      "WARNING:absl:Found untraced functions such as _jit_compiled_convolution_op, _jit_compiled_convolution_op, _jit_compiled_convolution_op, _jit_compiled_convolution_op, _jit_compiled_convolution_op while saving (showing 5 of 28). These functions will not be directly callable after loading.\n"
     ]
    },
    {
     "name": "stdout",
     "output_type": "stream",
     "text": [
      "INFO:tensorflow:Assets written to: model-saved\\deeplabv3plus_fold_0_lr_0.0005_alpha_0.35_binary_256x256_deeplayer_6\\assets\n"
     ]
    },
    {
     "name": "stderr",
     "output_type": "stream",
     "text": [
      "INFO:tensorflow:Assets written to: model-saved\\deeplabv3plus_fold_0_lr_0.0005_alpha_0.35_binary_256x256_deeplayer_6\\assets\n"
     ]
    },
    {
     "name": "stdout",
     "output_type": "stream",
     "text": [
      "348/348 [==============================] - 448s 1s/step - loss: 0.0386 - diceAccuracy: 0.9485 - jaccardDistance: 0.9666 - val_loss: 0.0400 - val_diceAccuracy: 0.9467 - val_jaccardDistance: 0.9974 - lr: 1.5625e-05\n",
      "Epoch 242/1000\n",
      "348/348 [==============================] - ETA: 0s - loss: 0.0389 - diceAccuracy: 0.9481 - jaccardDistance: 0.9736\n",
      "Epoch 242: val_loss did not improve from 0.03996\n",
      "348/348 [==============================] - 411s 1s/step - loss: 0.0389 - diceAccuracy: 0.9481 - jaccardDistance: 0.9736 - val_loss: 0.0403 - val_diceAccuracy: 0.9460 - val_jaccardDistance: 1.0076 - lr: 1.5625e-05\n",
      "Epoch 243/1000\n",
      "348/348 [==============================] - ETA: 0s - loss: 0.0386 - diceAccuracy: 0.9485 - jaccardDistance: 0.9667\n",
      "Epoch 243: val_loss improved from 0.03996 to 0.03989, saving model to model-saved\\deeplabv3plus_fold_0_lr_0.0005_alpha_0.35_binary_256x256_deeplayer_6\n"
     ]
    },
    {
     "name": "stderr",
     "output_type": "stream",
     "text": [
      "WARNING:absl:Found untraced functions such as _jit_compiled_convolution_op, _jit_compiled_convolution_op, _jit_compiled_convolution_op, _jit_compiled_convolution_op, _jit_compiled_convolution_op while saving (showing 5 of 28). These functions will not be directly callable after loading.\n"
     ]
    },
    {
     "name": "stdout",
     "output_type": "stream",
     "text": [
      "INFO:tensorflow:Assets written to: model-saved\\deeplabv3plus_fold_0_lr_0.0005_alpha_0.35_binary_256x256_deeplayer_6\\assets\n"
     ]
    },
    {
     "name": "stderr",
     "output_type": "stream",
     "text": [
      "INFO:tensorflow:Assets written to: model-saved\\deeplabv3plus_fold_0_lr_0.0005_alpha_0.35_binary_256x256_deeplayer_6\\assets\n"
     ]
    },
    {
     "name": "stdout",
     "output_type": "stream",
     "text": [
      "348/348 [==============================] - 424s 1s/step - loss: 0.0386 - diceAccuracy: 0.9485 - jaccardDistance: 0.9667 - val_loss: 0.0399 - val_diceAccuracy: 0.9464 - val_jaccardDistance: 1.0007 - lr: 1.5625e-05\n",
      "Epoch 244/1000\n",
      "348/348 [==============================] - ETA: 0s - loss: 0.0388 - diceAccuracy: 0.9482 - jaccardDistance: 0.9711\n",
      "Epoch 244: val_loss did not improve from 0.03989\n",
      "348/348 [==============================] - 451s 1s/step - loss: 0.0388 - diceAccuracy: 0.9482 - jaccardDistance: 0.9711 - val_loss: 0.0405 - val_diceAccuracy: 0.9456 - val_jaccardDistance: 1.0111 - lr: 1.5625e-05\n",
      "Epoch 245/1000\n",
      "348/348 [==============================] - ETA: 0s - loss: 0.0392 - diceAccuracy: 0.9476 - jaccardDistance: 0.9827\n",
      "Epoch 245: val_loss did not improve from 0.03989\n",
      "348/348 [==============================] - 415s 1s/step - loss: 0.0392 - diceAccuracy: 0.9476 - jaccardDistance: 0.9827 - val_loss: 0.0408 - val_diceAccuracy: 0.9449 - val_jaccardDistance: 1.0253 - lr: 1.5625e-05\n",
      "Epoch 246/1000\n",
      "348/348 [==============================] - ETA: 0s - loss: 0.0389 - diceAccuracy: 0.9480 - jaccardDistance: 0.9755\n",
      "Epoch 246: val_loss did not improve from 0.03989\n",
      "348/348 [==============================] - 377s 1s/step - loss: 0.0389 - diceAccuracy: 0.9480 - jaccardDistance: 0.9755 - val_loss: 0.0408 - val_diceAccuracy: 0.9452 - val_jaccardDistance: 1.0184 - lr: 1.5625e-05\n",
      "Epoch 247/1000\n",
      "348/348 [==============================] - ETA: 0s - loss: 0.0389 - diceAccuracy: 0.9480 - jaccardDistance: 0.9756\n",
      "Epoch 247: val_loss did not improve from 0.03989\n",
      "348/348 [==============================] - 404s 1s/step - loss: 0.0389 - diceAccuracy: 0.9480 - jaccardDistance: 0.9756 - val_loss: 0.0407 - val_diceAccuracy: 0.9453 - val_jaccardDistance: 1.0192 - lr: 1.5625e-05\n",
      "Epoch 248/1000\n",
      "348/348 [==============================] - ETA: 0s - loss: 0.0390 - diceAccuracy: 0.9478 - jaccardDistance: 0.9785\n",
      "Epoch 248: val_loss did not improve from 0.03989\n",
      "348/348 [==============================] - 389s 1s/step - loss: 0.0390 - diceAccuracy: 0.9478 - jaccardDistance: 0.9785 - val_loss: 0.0404 - val_diceAccuracy: 0.9456 - val_jaccardDistance: 1.0134 - lr: 1.5625e-05\n",
      "Epoch 249/1000\n",
      "348/348 [==============================] - ETA: 0s - loss: 0.0392 - diceAccuracy: 0.9476 - jaccardDistance: 0.9823\n",
      "Epoch 249: val_loss did not improve from 0.03989\n",
      "348/348 [==============================] - 385s 1s/step - loss: 0.0392 - diceAccuracy: 0.9476 - jaccardDistance: 0.9823 - val_loss: 0.0399 - val_diceAccuracy: 0.9463 - val_jaccardDistance: 0.9986 - lr: 1.5625e-05\n",
      "Epoch 250/1000\n",
      "348/348 [==============================] - ETA: 0s - loss: 0.0385 - diceAccuracy: 0.9486 - jaccardDistance: 0.9647\n",
      "Epoch 250: val_loss did not improve from 0.03989\n",
      "348/348 [==============================] - 377s 1s/step - loss: 0.0385 - diceAccuracy: 0.9486 - jaccardDistance: 0.9647 - val_loss: 0.0408 - val_diceAccuracy: 0.9451 - val_jaccardDistance: 1.0217 - lr: 1.5625e-05\n",
      "Epoch 251/1000\n",
      "348/348 [==============================] - ETA: 0s - loss: 0.0387 - diceAccuracy: 0.9483 - jaccardDistance: 0.9698\n",
      "Epoch 251: val_loss did not improve from 0.03989\n",
      "348/348 [==============================] - 390s 1s/step - loss: 0.0387 - diceAccuracy: 0.9483 - jaccardDistance: 0.9698 - val_loss: 0.0401 - val_diceAccuracy: 0.9460 - val_jaccardDistance: 1.0045 - lr: 1.5625e-05\n",
      "Epoch 252/1000\n",
      "348/348 [==============================] - ETA: 0s - loss: 0.0389 - diceAccuracy: 0.9481 - jaccardDistance: 0.9733\n",
      "Epoch 252: val_loss did not improve from 0.03989\n",
      "348/348 [==============================] - 427s 1s/step - loss: 0.0389 - diceAccuracy: 0.9481 - jaccardDistance: 0.9733 - val_loss: 0.0404 - val_diceAccuracy: 0.9462 - val_jaccardDistance: 1.0033 - lr: 1.5625e-05\n",
      "Epoch 253/1000\n",
      "348/348 [==============================] - ETA: 0s - loss: 0.0387 - diceAccuracy: 0.9483 - jaccardDistance: 0.9704\n",
      "Epoch 253: val_loss improved from 0.03989 to 0.03939, saving model to model-saved\\deeplabv3plus_fold_0_lr_0.0005_alpha_0.35_binary_256x256_deeplayer_6\n"
     ]
    },
    {
     "name": "stderr",
     "output_type": "stream",
     "text": [
      "WARNING:absl:Found untraced functions such as _jit_compiled_convolution_op, _jit_compiled_convolution_op, _jit_compiled_convolution_op, _jit_compiled_convolution_op, _jit_compiled_convolution_op while saving (showing 5 of 28). These functions will not be directly callable after loading.\n"
     ]
    },
    {
     "name": "stdout",
     "output_type": "stream",
     "text": [
      "INFO:tensorflow:Assets written to: model-saved\\deeplabv3plus_fold_0_lr_0.0005_alpha_0.35_binary_256x256_deeplayer_6\\assets\n"
     ]
    },
    {
     "name": "stderr",
     "output_type": "stream",
     "text": [
      "INFO:tensorflow:Assets written to: model-saved\\deeplabv3plus_fold_0_lr_0.0005_alpha_0.35_binary_256x256_deeplayer_6\\assets\n"
     ]
    },
    {
     "name": "stdout",
     "output_type": "stream",
     "text": [
      "348/348 [==============================] - 430s 1s/step - loss: 0.0387 - diceAccuracy: 0.9483 - jaccardDistance: 0.9704 - val_loss: 0.0394 - val_diceAccuracy: 0.9471 - val_jaccardDistance: 0.9890 - lr: 1.5625e-05\n",
      "Epoch 254/1000\n",
      "348/348 [==============================] - ETA: 0s - loss: 0.0385 - diceAccuracy: 0.9486 - jaccardDistance: 0.9642\n",
      "Epoch 254: val_loss did not improve from 0.03939\n",
      "348/348 [==============================] - 386s 1s/step - loss: 0.0385 - diceAccuracy: 0.9486 - jaccardDistance: 0.9642 - val_loss: 0.0400 - val_diceAccuracy: 0.9462 - val_jaccardDistance: 1.0039 - lr: 1.5625e-05\n",
      "Epoch 255/1000\n",
      "348/348 [==============================] - ETA: 0s - loss: 0.0389 - diceAccuracy: 0.9480 - jaccardDistance: 0.9758\n",
      "Epoch 255: val_loss did not improve from 0.03939\n",
      "348/348 [==============================] - 409s 1s/step - loss: 0.0389 - diceAccuracy: 0.9480 - jaccardDistance: 0.9758 - val_loss: 0.0402 - val_diceAccuracy: 0.9460 - val_jaccardDistance: 1.0078 - lr: 1.5625e-05\n",
      "Epoch 256/1000\n",
      "348/348 [==============================] - ETA: 0s - loss: 0.0388 - diceAccuracy: 0.9482 - jaccardDistance: 0.9716\n",
      "Epoch 256: val_loss did not improve from 0.03939\n",
      "348/348 [==============================] - 347s 999ms/step - loss: 0.0388 - diceAccuracy: 0.9482 - jaccardDistance: 0.9716 - val_loss: 0.0403 - val_diceAccuracy: 0.9460 - val_jaccardDistance: 1.0069 - lr: 1.5625e-05\n",
      "Epoch 257/1000\n",
      "348/348 [==============================] - ETA: 0s - loss: 0.0386 - diceAccuracy: 0.9484 - jaccardDistance: 0.9683\n",
      "Epoch 257: val_loss did not improve from 0.03939\n",
      "348/348 [==============================] - 330s 949ms/step - loss: 0.0386 - diceAccuracy: 0.9484 - jaccardDistance: 0.9683 - val_loss: 0.0412 - val_diceAccuracy: 0.9446 - val_jaccardDistance: 1.0331 - lr: 1.5625e-05\n",
      "Epoch 258/1000\n",
      "348/348 [==============================] - ETA: 0s - loss: 0.0387 - diceAccuracy: 0.9483 - jaccardDistance: 0.9706\n",
      "Epoch 258: val_loss did not improve from 0.03939\n",
      "348/348 [==============================] - 329s 946ms/step - loss: 0.0387 - diceAccuracy: 0.9483 - jaccardDistance: 0.9706 - val_loss: 0.0412 - val_diceAccuracy: 0.9444 - val_jaccardDistance: 1.0343 - lr: 1.5625e-05\n",
      "Epoch 259/1000\n",
      "348/348 [==============================] - ETA: 0s - loss: 0.0388 - diceAccuracy: 0.9481 - jaccardDistance: 0.9735\n",
      "Epoch 259: val_loss did not improve from 0.03939\n",
      "348/348 [==============================] - 330s 947ms/step - loss: 0.0388 - diceAccuracy: 0.9481 - jaccardDistance: 0.9735 - val_loss: 0.0412 - val_diceAccuracy: 0.9445 - val_jaccardDistance: 1.0330 - lr: 1.5625e-05\n",
      "Epoch 260/1000\n",
      "348/348 [==============================] - ETA: 0s - loss: 0.0392 - diceAccuracy: 0.9476 - jaccardDistance: 0.9831\n",
      "Epoch 260: val_loss did not improve from 0.03939\n",
      "348/348 [==============================] - 328s 942ms/step - loss: 0.0392 - diceAccuracy: 0.9476 - jaccardDistance: 0.9831 - val_loss: 0.0402 - val_diceAccuracy: 0.9459 - val_jaccardDistance: 1.0082 - lr: 1.5625e-05\n",
      "Epoch 261/1000\n",
      "348/348 [==============================] - ETA: 0s - loss: 0.0387 - diceAccuracy: 0.9483 - jaccardDistance: 0.9707\n",
      "Epoch 261: val_loss did not improve from 0.03939\n",
      "348/348 [==============================] - 329s 945ms/step - loss: 0.0387 - diceAccuracy: 0.9483 - jaccardDistance: 0.9707 - val_loss: 0.0410 - val_diceAccuracy: 0.9447 - val_jaccardDistance: 1.0267 - lr: 1.5625e-05\n",
      "Epoch 262/1000\n",
      "348/348 [==============================] - ETA: 0s - loss: 0.0389 - diceAccuracy: 0.9481 - jaccardDistance: 0.9749\n",
      "Epoch 262: val_loss did not improve from 0.03939\n",
      "348/348 [==============================] - 330s 949ms/step - loss: 0.0389 - diceAccuracy: 0.9481 - jaccardDistance: 0.9749 - val_loss: 0.0405 - val_diceAccuracy: 0.9459 - val_jaccardDistance: 1.0073 - lr: 1.5625e-05\n",
      "Epoch 263/1000\n",
      "348/348 [==============================] - ETA: 0s - loss: 0.0387 - diceAccuracy: 0.9483 - jaccardDistance: 0.9700\n",
      "Epoch 263: val_loss did not improve from 0.03939\n",
      "348/348 [==============================] - 350s 1s/step - loss: 0.0387 - diceAccuracy: 0.9483 - jaccardDistance: 0.9700 - val_loss: 0.0401 - val_diceAccuracy: 0.9460 - val_jaccardDistance: 1.0059 - lr: 1.5625e-05\n",
      "Epoch 264/1000\n",
      "348/348 [==============================] - ETA: 0s - loss: 0.0389 - diceAccuracy: 0.9480 - jaccardDistance: 0.9764\n",
      "Epoch 264: val_loss did not improve from 0.03939\n",
      "348/348 [==============================] - 349s 1s/step - loss: 0.0389 - diceAccuracy: 0.9480 - jaccardDistance: 0.9764 - val_loss: 0.0405 - val_diceAccuracy: 0.9457 - val_jaccardDistance: 1.0115 - lr: 1.5625e-05\n",
      "Epoch 265/1000\n",
      "348/348 [==============================] - ETA: 0s - loss: 0.0392 - diceAccuracy: 0.9475 - jaccardDistance: 0.9840\n",
      "Epoch 265: val_loss did not improve from 0.03939\n",
      "348/348 [==============================] - 350s 1s/step - loss: 0.0392 - diceAccuracy: 0.9475 - jaccardDistance: 0.9840 - val_loss: 0.0398 - val_diceAccuracy: 0.9465 - val_jaccardDistance: 0.9974 - lr: 1.5625e-05\n",
      "Epoch 266/1000\n",
      "348/348 [==============================] - ETA: 0s - loss: 0.0389 - diceAccuracy: 0.9479 - jaccardDistance: 0.9766\n",
      "Epoch 266: val_loss did not improve from 0.03939\n",
      "348/348 [==============================] - 360s 1s/step - loss: 0.0389 - diceAccuracy: 0.9479 - jaccardDistance: 0.9766 - val_loss: 0.0411 - val_diceAccuracy: 0.9447 - val_jaccardDistance: 1.0279 - lr: 1.5625e-05\n",
      "Epoch 267/1000\n",
      "348/348 [==============================] - ETA: 0s - loss: 0.0390 - diceAccuracy: 0.9479 - jaccardDistance: 0.9772\n",
      "Epoch 267: val_loss did not improve from 0.03939\n",
      "348/348 [==============================] - 387s 1s/step - loss: 0.0390 - diceAccuracy: 0.9479 - jaccardDistance: 0.9772 - val_loss: 0.0408 - val_diceAccuracy: 0.9452 - val_jaccardDistance: 1.0207 - lr: 1.5625e-05\n",
      "Epoch 268/1000\n",
      "348/348 [==============================] - ETA: 0s - loss: 0.0386 - diceAccuracy: 0.9484 - jaccardDistance: 0.9693\n",
      "Epoch 268: val_loss did not improve from 0.03939\n",
      "348/348 [==============================] - 368s 1s/step - loss: 0.0386 - diceAccuracy: 0.9484 - jaccardDistance: 0.9693 - val_loss: 0.0412 - val_diceAccuracy: 0.9445 - val_jaccardDistance: 1.0334 - lr: 1.5625e-05\n",
      "Epoch 269/1000\n",
      "348/348 [==============================] - ETA: 0s - loss: 0.0391 - diceAccuracy: 0.9476 - jaccardDistance: 0.9821\n",
      "Epoch 269: val_loss did not improve from 0.03939\n",
      "348/348 [==============================] - 371s 1s/step - loss: 0.0391 - diceAccuracy: 0.9476 - jaccardDistance: 0.9821 - val_loss: 0.0405 - val_diceAccuracy: 0.9455 - val_jaccardDistance: 1.0138 - lr: 1.5625e-05\n",
      "Epoch 270/1000\n",
      "348/348 [==============================] - ETA: 0s - loss: 0.0387 - diceAccuracy: 0.9482 - jaccardDistance: 0.9716\n",
      "Epoch 270: val_loss did not improve from 0.03939\n",
      "348/348 [==============================] - 394s 1s/step - loss: 0.0387 - diceAccuracy: 0.9482 - jaccardDistance: 0.9716 - val_loss: 0.0409 - val_diceAccuracy: 0.9449 - val_jaccardDistance: 1.0264 - lr: 1.5625e-05\n",
      "Epoch 271/1000\n",
      "348/348 [==============================] - ETA: 0s - loss: 0.0383 - diceAccuracy: 0.9489 - jaccardDistance: 0.9599\n",
      "Epoch 271: val_loss did not improve from 0.03939\n",
      "348/348 [==============================] - 370s 1s/step - loss: 0.0383 - diceAccuracy: 0.9489 - jaccardDistance: 0.9599 - val_loss: 0.0410 - val_diceAccuracy: 0.9450 - val_jaccardDistance: 1.0242 - lr: 1.5625e-05\n",
      "Epoch 272/1000\n",
      "348/348 [==============================] - ETA: 0s - loss: 0.0386 - diceAccuracy: 0.9484 - jaccardDistance: 0.9679\n",
      "Epoch 272: val_loss did not improve from 0.03939\n",
      "348/348 [==============================] - 372s 1s/step - loss: 0.0386 - diceAccuracy: 0.9484 - jaccardDistance: 0.9679 - val_loss: 0.0400 - val_diceAccuracy: 0.9465 - val_jaccardDistance: 0.9979 - lr: 1.5625e-05\n",
      "Epoch 273/1000\n",
      "348/348 [==============================] - ETA: 0s - loss: 0.0387 - diceAccuracy: 0.9484 - jaccardDistance: 0.9696\n",
      "Epoch 273: val_loss did not improve from 0.03939\n",
      "348/348 [==============================] - 348s 1s/step - loss: 0.0387 - diceAccuracy: 0.9484 - jaccardDistance: 0.9696 - val_loss: 0.0402 - val_diceAccuracy: 0.9457 - val_jaccardDistance: 1.0103 - lr: 1.5625e-05\n",
      "Epoch 274/1000\n",
      "348/348 [==============================] - ETA: 0s - loss: 0.0385 - diceAccuracy: 0.9486 - jaccardDistance: 0.9650\n",
      "Epoch 274: val_loss did not improve from 0.03939\n",
      "348/348 [==============================] - 350s 1s/step - loss: 0.0385 - diceAccuracy: 0.9486 - jaccardDistance: 0.9650 - val_loss: 0.0411 - val_diceAccuracy: 0.9447 - val_jaccardDistance: 1.0305 - lr: 1.5625e-05\n",
      "Epoch 275/1000\n",
      "348/348 [==============================] - ETA: 0s - loss: 0.0388 - diceAccuracy: 0.9481 - jaccardDistance: 0.9736\n",
      "Epoch 275: val_loss did not improve from 0.03939\n",
      "348/348 [==============================] - 352s 1s/step - loss: 0.0388 - diceAccuracy: 0.9481 - jaccardDistance: 0.9736 - val_loss: 0.0405 - val_diceAccuracy: 0.9454 - val_jaccardDistance: 1.0182 - lr: 1.5625e-05\n",
      "Epoch 276/1000\n",
      "348/348 [==============================] - ETA: 0s - loss: 0.0387 - diceAccuracy: 0.9484 - jaccardDistance: 0.9694\n",
      "Epoch 276: val_loss did not improve from 0.03939\n",
      "348/348 [==============================] - 348s 1000ms/step - loss: 0.0387 - diceAccuracy: 0.9484 - jaccardDistance: 0.9694 - val_loss: 0.0399 - val_diceAccuracy: 0.9466 - val_jaccardDistance: 0.9943 - lr: 1.5625e-05\n",
      "Epoch 277/1000\n",
      "348/348 [==============================] - ETA: 0s - loss: 0.0389 - diceAccuracy: 0.9480 - jaccardDistance: 0.9756\n",
      "Epoch 277: val_loss did not improve from 0.03939\n",
      "348/348 [==============================] - 350s 1s/step - loss: 0.0389 - diceAccuracy: 0.9480 - jaccardDistance: 0.9756 - val_loss: 0.0399 - val_diceAccuracy: 0.9465 - val_jaccardDistance: 0.9964 - lr: 1.5625e-05\n",
      "Epoch 278/1000\n",
      "348/348 [==============================] - ETA: 0s - loss: 0.0389 - diceAccuracy: 0.9480 - jaccardDistance: 0.9751\n",
      "Epoch 278: val_loss did not improve from 0.03939\n",
      "348/348 [==============================] - 349s 1s/step - loss: 0.0389 - diceAccuracy: 0.9480 - jaccardDistance: 0.9751 - val_loss: 0.0404 - val_diceAccuracy: 0.9456 - val_jaccardDistance: 1.0109 - lr: 1.5625e-05\n",
      "Epoch 279/1000\n",
      "348/348 [==============================] - ETA: 0s - loss: 0.0368 - diceAccuracy: 0.9483 - jaccardDistance: 0.9695\n",
      "Epoch 279: val_loss improved from 0.03939 to 0.03719, saving model to model-saved\\deeplabv3plus_fold_0_lr_0.0005_alpha_0.35_binary_256x256_deeplayer_6\n"
     ]
    },
    {
     "name": "stderr",
     "output_type": "stream",
     "text": [
      "WARNING:absl:Found untraced functions such as _jit_compiled_convolution_op, _jit_compiled_convolution_op, _jit_compiled_convolution_op, _jit_compiled_convolution_op, _jit_compiled_convolution_op while saving (showing 5 of 28). These functions will not be directly callable after loading.\n"
     ]
    },
    {
     "name": "stdout",
     "output_type": "stream",
     "text": [
      "INFO:tensorflow:Assets written to: model-saved\\deeplabv3plus_fold_0_lr_0.0005_alpha_0.35_binary_256x256_deeplayer_6\\assets\n"
     ]
    },
    {
     "name": "stderr",
     "output_type": "stream",
     "text": [
      "INFO:tensorflow:Assets written to: model-saved\\deeplabv3plus_fold_0_lr_0.0005_alpha_0.35_binary_256x256_deeplayer_6\\assets\n"
     ]
    },
    {
     "name": "stdout",
     "output_type": "stream",
     "text": [
      "348/348 [==============================] - 374s 1s/step - loss: 0.0368 - diceAccuracy: 0.9483 - jaccardDistance: 0.9695 - val_loss: 0.0372 - val_diceAccuracy: 0.9475 - val_jaccardDistance: 0.9767 - lr: 7.8125e-06\n",
      "Epoch 280/1000\n",
      "348/348 [==============================] - ETA: 0s - loss: 0.0367 - diceAccuracy: 0.9484 - jaccardDistance: 0.9687\n",
      "Epoch 280: val_loss did not improve from 0.03719\n",
      "348/348 [==============================] - 348s 1s/step - loss: 0.0367 - diceAccuracy: 0.9484 - jaccardDistance: 0.9687 - val_loss: 0.0391 - val_diceAccuracy: 0.9448 - val_jaccardDistance: 1.0268 - lr: 7.8125e-06\n",
      "Epoch 281/1000\n",
      "348/348 [==============================] - ETA: 0s - loss: 0.0367 - diceAccuracy: 0.9484 - jaccardDistance: 0.9695\n",
      "Epoch 281: val_loss did not improve from 0.03719\n",
      "348/348 [==============================] - 351s 1s/step - loss: 0.0367 - diceAccuracy: 0.9484 - jaccardDistance: 0.9695 - val_loss: 0.0385 - val_diceAccuracy: 0.9457 - val_jaccardDistance: 1.0089 - lr: 7.8125e-06\n",
      "Epoch 282/1000\n",
      "348/348 [==============================] - ETA: 0s - loss: 0.0368 - diceAccuracy: 0.9482 - jaccardDistance: 0.9727\n",
      "Epoch 282: val_loss did not improve from 0.03719\n",
      "348/348 [==============================] - 347s 998ms/step - loss: 0.0368 - diceAccuracy: 0.9482 - jaccardDistance: 0.9727 - val_loss: 0.0386 - val_diceAccuracy: 0.9453 - val_jaccardDistance: 1.0177 - lr: 7.8125e-06\n",
      "Epoch 283/1000\n",
      "348/348 [==============================] - ETA: 0s - loss: 0.0369 - diceAccuracy: 0.9481 - jaccardDistance: 0.9739\n",
      "Epoch 283: val_loss did not improve from 0.03719\n",
      "348/348 [==============================] - 351s 1s/step - loss: 0.0369 - diceAccuracy: 0.9481 - jaccardDistance: 0.9739 - val_loss: 0.0381 - val_diceAccuracy: 0.9461 - val_jaccardDistance: 1.0026 - lr: 7.8125e-06\n",
      "Epoch 284/1000\n",
      "348/348 [==============================] - ETA: 0s - loss: 0.0366 - diceAccuracy: 0.9484 - jaccardDistance: 0.9684\n",
      "Epoch 284: val_loss did not improve from 0.03719\n",
      "348/348 [==============================] - 351s 1s/step - loss: 0.0366 - diceAccuracy: 0.9484 - jaccardDistance: 0.9684 - val_loss: 0.0383 - val_diceAccuracy: 0.9459 - val_jaccardDistance: 1.0078 - lr: 7.8125e-06\n",
      "Epoch 285/1000\n",
      "348/348 [==============================] - ETA: 0s - loss: 0.0371 - diceAccuracy: 0.9478 - jaccardDistance: 0.9795\n",
      "Epoch 285: val_loss did not improve from 0.03719\n",
      "348/348 [==============================] - 349s 1s/step - loss: 0.0371 - diceAccuracy: 0.9478 - jaccardDistance: 0.9795 - val_loss: 0.0391 - val_diceAccuracy: 0.9446 - val_jaccardDistance: 1.0277 - lr: 7.8125e-06\n",
      "Epoch 286/1000\n",
      "348/348 [==============================] - ETA: 0s - loss: 0.0370 - diceAccuracy: 0.9479 - jaccardDistance: 0.9772\n",
      "Epoch 286: val_loss did not improve from 0.03719\n",
      "348/348 [==============================] - 347s 997ms/step - loss: 0.0370 - diceAccuracy: 0.9479 - jaccardDistance: 0.9772 - val_loss: 0.0391 - val_diceAccuracy: 0.9448 - val_jaccardDistance: 1.0267 - lr: 7.8125e-06\n",
      "Epoch 287/1000\n",
      "348/348 [==============================] - ETA: 0s - loss: 0.0370 - diceAccuracy: 0.9479 - jaccardDistance: 0.9765\n",
      "Epoch 287: val_loss did not improve from 0.03719\n",
      "348/348 [==============================] - 353s 1s/step - loss: 0.0370 - diceAccuracy: 0.9479 - jaccardDistance: 0.9765 - val_loss: 0.0380 - val_diceAccuracy: 0.9463 - val_jaccardDistance: 1.0004 - lr: 7.8125e-06\n",
      "Epoch 288/1000\n",
      "348/348 [==============================] - ETA: 0s - loss: 0.0365 - diceAccuracy: 0.9486 - jaccardDistance: 0.9640\n",
      "Epoch 288: val_loss did not improve from 0.03719\n",
      "348/348 [==============================] - 354s 1s/step - loss: 0.0365 - diceAccuracy: 0.9486 - jaccardDistance: 0.9640 - val_loss: 0.0391 - val_diceAccuracy: 0.9446 - val_jaccardDistance: 1.0286 - lr: 7.8125e-06\n",
      "Epoch 289/1000\n",
      "348/348 [==============================] - ETA: 0s - loss: 0.0368 - diceAccuracy: 0.9482 - jaccardDistance: 0.9723\n",
      "Epoch 289: val_loss did not improve from 0.03719\n",
      "348/348 [==============================] - 346s 994ms/step - loss: 0.0368 - diceAccuracy: 0.9482 - jaccardDistance: 0.9723 - val_loss: 0.0402 - val_diceAccuracy: 0.9430 - val_jaccardDistance: 1.0589 - lr: 7.8125e-06\n",
      "Epoch 290/1000\n",
      "348/348 [==============================] - ETA: 0s - loss: 0.0370 - diceAccuracy: 0.9479 - jaccardDistance: 0.9774\n",
      "Epoch 290: val_loss did not improve from 0.03719\n",
      "348/348 [==============================] - 328s 943ms/step - loss: 0.0370 - diceAccuracy: 0.9479 - jaccardDistance: 0.9774 - val_loss: 0.0380 - val_diceAccuracy: 0.9463 - val_jaccardDistance: 1.0000 - lr: 7.8125e-06\n",
      "Epoch 291/1000\n",
      "348/348 [==============================] - ETA: 0s - loss: 0.0369 - diceAccuracy: 0.9480 - jaccardDistance: 0.9754\n",
      "Epoch 291: val_loss did not improve from 0.03719\n",
      "348/348 [==============================] - 331s 950ms/step - loss: 0.0369 - diceAccuracy: 0.9480 - jaccardDistance: 0.9754 - val_loss: 0.0388 - val_diceAccuracy: 0.9452 - val_jaccardDistance: 1.0196 - lr: 7.8125e-06\n",
      "Epoch 292/1000\n",
      "348/348 [==============================] - ETA: 0s - loss: 0.0371 - diceAccuracy: 0.9478 - jaccardDistance: 0.9788\n",
      "Epoch 292: val_loss did not improve from 0.03719\n",
      "348/348 [==============================] - 330s 950ms/step - loss: 0.0371 - diceAccuracy: 0.9478 - jaccardDistance: 0.9788 - val_loss: 0.0383 - val_diceAccuracy: 0.9458 - val_jaccardDistance: 1.0091 - lr: 7.8125e-06\n",
      "Epoch 293/1000\n",
      "348/348 [==============================] - ETA: 0s - loss: 0.0368 - diceAccuracy: 0.9482 - jaccardDistance: 0.9716\n",
      "Epoch 293: val_loss did not improve from 0.03719\n",
      "348/348 [==============================] - 332s 953ms/step - loss: 0.0368 - diceAccuracy: 0.9482 - jaccardDistance: 0.9716 - val_loss: 0.0384 - val_diceAccuracy: 0.9457 - val_jaccardDistance: 1.0104 - lr: 7.8125e-06\n",
      "Epoch 294/1000\n",
      "348/348 [==============================] - ETA: 0s - loss: 0.0368 - diceAccuracy: 0.9483 - jaccardDistance: 0.9708\n",
      "Epoch 294: val_loss did not improve from 0.03719\n",
      "348/348 [==============================] - 328s 943ms/step - loss: 0.0368 - diceAccuracy: 0.9483 - jaccardDistance: 0.9708 - val_loss: 0.0389 - val_diceAccuracy: 0.9449 - val_jaccardDistance: 1.0260 - lr: 7.8125e-06\n",
      "Epoch 295/1000\n",
      "348/348 [==============================] - ETA: 0s - loss: 0.0365 - diceAccuracy: 0.9486 - jaccardDistance: 0.9646\n",
      "Epoch 295: val_loss did not improve from 0.03719\n",
      "348/348 [==============================] - 330s 949ms/step - loss: 0.0365 - diceAccuracy: 0.9486 - jaccardDistance: 0.9646 - val_loss: 0.0384 - val_diceAccuracy: 0.9459 - val_jaccardDistance: 1.0083 - lr: 7.8125e-06\n",
      "Epoch 296/1000\n",
      "348/348 [==============================] - ETA: 0s - loss: 0.0363 - diceAccuracy: 0.9489 - jaccardDistance: 0.9596\n",
      "Epoch 296: val_loss did not improve from 0.03719\n",
      "348/348 [==============================] - 332s 955ms/step - loss: 0.0363 - diceAccuracy: 0.9489 - jaccardDistance: 0.9596 - val_loss: 0.0384 - val_diceAccuracy: 0.9458 - val_jaccardDistance: 1.0090 - lr: 7.8125e-06\n",
      "Epoch 297/1000\n",
      "348/348 [==============================] - ETA: 0s - loss: 0.0367 - diceAccuracy: 0.9483 - jaccardDistance: 0.9707\n",
      "Epoch 297: val_loss did not improve from 0.03719\n",
      "348/348 [==============================] - 331s 950ms/step - loss: 0.0367 - diceAccuracy: 0.9483 - jaccardDistance: 0.9707 - val_loss: 0.0392 - val_diceAccuracy: 0.9445 - val_jaccardDistance: 1.0314 - lr: 7.8125e-06\n",
      "Epoch 298/1000\n",
      "348/348 [==============================] - ETA: 0s - loss: 0.0367 - diceAccuracy: 0.9484 - jaccardDistance: 0.9686\n",
      "Epoch 298: val_loss did not improve from 0.03719\n",
      "348/348 [==============================] - 331s 952ms/step - loss: 0.0367 - diceAccuracy: 0.9484 - jaccardDistance: 0.9686 - val_loss: 0.0388 - val_diceAccuracy: 0.9451 - val_jaccardDistance: 1.0227 - lr: 7.8125e-06\n",
      "Epoch 299/1000\n",
      "348/348 [==============================] - ETA: 0s - loss: 0.0369 - diceAccuracy: 0.9480 - jaccardDistance: 0.9755\n",
      "Epoch 299: val_loss did not improve from 0.03719\n",
      "348/348 [==============================] - 331s 951ms/step - loss: 0.0369 - diceAccuracy: 0.9480 - jaccardDistance: 0.9755 - val_loss: 0.0384 - val_diceAccuracy: 0.9457 - val_jaccardDistance: 1.0106 - lr: 7.8125e-06\n",
      "Epoch 300/1000\n",
      "348/348 [==============================] - ETA: 0s - loss: 0.0368 - diceAccuracy: 0.9483 - jaccardDistance: 0.9712\n",
      "Epoch 300: val_loss did not improve from 0.03719\n",
      "348/348 [==============================] - 330s 947ms/step - loss: 0.0368 - diceAccuracy: 0.9483 - jaccardDistance: 0.9712 - val_loss: 0.0384 - val_diceAccuracy: 0.9456 - val_jaccardDistance: 1.0132 - lr: 7.8125e-06\n",
      "Epoch 301/1000\n",
      "348/348 [==============================] - ETA: 0s - loss: 0.0370 - diceAccuracy: 0.9479 - jaccardDistance: 0.9766\n",
      "Epoch 301: val_loss did not improve from 0.03719\n",
      "348/348 [==============================] - 328s 943ms/step - loss: 0.0370 - diceAccuracy: 0.9479 - jaccardDistance: 0.9766 - val_loss: 0.0392 - val_diceAccuracy: 0.9446 - val_jaccardDistance: 1.0296 - lr: 7.8125e-06\n",
      "Epoch 302/1000\n",
      "348/348 [==============================] - ETA: 0s - loss: 0.0369 - diceAccuracy: 0.9480 - jaccardDistance: 0.9748\n",
      "Epoch 302: val_loss did not improve from 0.03719\n",
      "348/348 [==============================] - 330s 948ms/step - loss: 0.0369 - diceAccuracy: 0.9480 - jaccardDistance: 0.9748 - val_loss: 0.0381 - val_diceAccuracy: 0.9461 - val_jaccardDistance: 1.0051 - lr: 7.8125e-06\n",
      "Epoch 303/1000\n",
      "348/348 [==============================] - ETA: 0s - loss: 0.0365 - diceAccuracy: 0.9487 - jaccardDistance: 0.9641\n",
      "Epoch 303: val_loss did not improve from 0.03719\n",
      "348/348 [==============================] - 330s 947ms/step - loss: 0.0365 - diceAccuracy: 0.9487 - jaccardDistance: 0.9641 - val_loss: 0.0386 - val_diceAccuracy: 0.9455 - val_jaccardDistance: 1.0150 - lr: 7.8125e-06\n",
      "Epoch 304/1000\n",
      "348/348 [==============================] - ETA: 0s - loss: 0.0369 - diceAccuracy: 0.9481 - jaccardDistance: 0.9741\n",
      "Epoch 304: val_loss did not improve from 0.03719\n",
      "348/348 [==============================] - 331s 951ms/step - loss: 0.0369 - diceAccuracy: 0.9481 - jaccardDistance: 0.9741 - val_loss: 0.0373 - val_diceAccuracy: 0.9474 - val_jaccardDistance: 0.9815 - lr: 7.8125e-06\n",
      "Epoch 305/1000\n",
      "348/348 [==============================] - ETA: 0s - loss: 0.0357 - diceAccuracy: 0.9484 - jaccardDistance: 0.9687\n",
      "Epoch 305: val_loss did not improve from 0.03719\n",
      "348/348 [==============================] - 330s 948ms/step - loss: 0.0357 - diceAccuracy: 0.9484 - jaccardDistance: 0.9687 - val_loss: 0.0381 - val_diceAccuracy: 0.9446 - val_jaccardDistance: 1.0304 - lr: 3.9063e-06\n",
      "Epoch 306/1000\n",
      "348/348 [==============================] - ETA: 0s - loss: 0.0360 - diceAccuracy: 0.9479 - jaccardDistance: 0.9786\n",
      "Epoch 306: val_loss did not improve from 0.03719\n",
      "348/348 [==============================] - 329s 946ms/step - loss: 0.0360 - diceAccuracy: 0.9479 - jaccardDistance: 0.9786 - val_loss: 0.0375 - val_diceAccuracy: 0.9455 - val_jaccardDistance: 1.0138 - lr: 3.9063e-06\n",
      "Epoch 307/1000\n",
      "348/348 [==============================] - ETA: 0s - loss: 0.0358 - diceAccuracy: 0.9482 - jaccardDistance: 0.9729\n",
      "Epoch 307: val_loss improved from 0.03719 to 0.03656, saving model to model-saved\\deeplabv3plus_fold_0_lr_0.0005_alpha_0.35_binary_256x256_deeplayer_6\n"
     ]
    },
    {
     "name": "stderr",
     "output_type": "stream",
     "text": [
      "WARNING:absl:Found untraced functions such as _jit_compiled_convolution_op, _jit_compiled_convolution_op, _jit_compiled_convolution_op, _jit_compiled_convolution_op, _jit_compiled_convolution_op while saving (showing 5 of 28). These functions will not be directly callable after loading.\n"
     ]
    },
    {
     "name": "stdout",
     "output_type": "stream",
     "text": [
      "INFO:tensorflow:Assets written to: model-saved\\deeplabv3plus_fold_0_lr_0.0005_alpha_0.35_binary_256x256_deeplayer_6\\assets\n"
     ]
    },
    {
     "name": "stderr",
     "output_type": "stream",
     "text": [
      "INFO:tensorflow:Assets written to: model-saved\\deeplabv3plus_fold_0_lr_0.0005_alpha_0.35_binary_256x256_deeplayer_6\\assets\n"
     ]
    },
    {
     "name": "stdout",
     "output_type": "stream",
     "text": [
      "348/348 [==============================] - 347s 998ms/step - loss: 0.0358 - diceAccuracy: 0.9482 - jaccardDistance: 0.9729 - val_loss: 0.0366 - val_diceAccuracy: 0.9470 - val_jaccardDistance: 0.9880 - lr: 3.9063e-06\n",
      "Epoch 308/1000\n",
      "348/348 [==============================] - ETA: 0s - loss: 0.0356 - diceAccuracy: 0.9485 - jaccardDistance: 0.9659\n",
      "Epoch 308: val_loss did not improve from 0.03656\n",
      "348/348 [==============================] - 329s 944ms/step - loss: 0.0356 - diceAccuracy: 0.9485 - jaccardDistance: 0.9659 - val_loss: 0.0371 - val_diceAccuracy: 0.9460 - val_jaccardDistance: 1.0061 - lr: 3.9063e-06\n",
      "Epoch 309/1000\n",
      "348/348 [==============================] - ETA: 0s - loss: 0.0358 - diceAccuracy: 0.9482 - jaccardDistance: 0.9721\n",
      "Epoch 309: val_loss did not improve from 0.03656\n",
      "348/348 [==============================] - 330s 947ms/step - loss: 0.0358 - diceAccuracy: 0.9482 - jaccardDistance: 0.9721 - val_loss: 0.0368 - val_diceAccuracy: 0.9465 - val_jaccardDistance: 0.9977 - lr: 3.9063e-06\n",
      "Epoch 310/1000\n",
      "348/348 [==============================] - ETA: 0s - loss: 0.0357 - diceAccuracy: 0.9483 - jaccardDistance: 0.9696\n",
      "Epoch 310: val_loss did not improve from 0.03656\n",
      "348/348 [==============================] - 329s 947ms/step - loss: 0.0357 - diceAccuracy: 0.9483 - jaccardDistance: 0.9696 - val_loss: 0.0370 - val_diceAccuracy: 0.9461 - val_jaccardDistance: 1.0037 - lr: 3.9063e-06\n",
      "Epoch 311/1000\n",
      "348/348 [==============================] - ETA: 0s - loss: 0.0360 - diceAccuracy: 0.9479 - jaccardDistance: 0.9785\n",
      "Epoch 311: val_loss did not improve from 0.03656\n",
      "348/348 [==============================] - 328s 942ms/step - loss: 0.0360 - diceAccuracy: 0.9479 - jaccardDistance: 0.9785 - val_loss: 0.0376 - val_diceAccuracy: 0.9453 - val_jaccardDistance: 1.0198 - lr: 3.9063e-06\n",
      "Epoch 312/1000\n",
      "348/348 [==============================] - ETA: 0s - loss: 0.0358 - diceAccuracy: 0.9482 - jaccardDistance: 0.9727\n",
      "Epoch 312: val_loss did not improve from 0.03656\n",
      "348/348 [==============================] - 329s 945ms/step - loss: 0.0358 - diceAccuracy: 0.9482 - jaccardDistance: 0.9727 - val_loss: 0.0386 - val_diceAccuracy: 0.9438 - val_jaccardDistance: 1.0446 - lr: 3.9063e-06\n",
      "Epoch 313/1000\n",
      "348/348 [==============================] - ETA: 0s - loss: 0.0355 - diceAccuracy: 0.9487 - jaccardDistance: 0.9637\n",
      "Epoch 313: val_loss did not improve from 0.03656\n",
      "348/348 [==============================] - 329s 945ms/step - loss: 0.0355 - diceAccuracy: 0.9487 - jaccardDistance: 0.9637 - val_loss: 0.0373 - val_diceAccuracy: 0.9458 - val_jaccardDistance: 1.0089 - lr: 3.9063e-06\n",
      "Epoch 314/1000\n",
      "348/348 [==============================] - ETA: 0s - loss: 0.0357 - diceAccuracy: 0.9483 - jaccardDistance: 0.9696\n",
      "Epoch 314: val_loss did not improve from 0.03656\n",
      "348/348 [==============================] - 329s 946ms/step - loss: 0.0357 - diceAccuracy: 0.9483 - jaccardDistance: 0.9696 - val_loss: 0.0374 - val_diceAccuracy: 0.9456 - val_jaccardDistance: 1.0132 - lr: 3.9063e-06\n",
      "Epoch 315/1000\n",
      "348/348 [==============================] - ETA: 0s - loss: 0.0356 - diceAccuracy: 0.9485 - jaccardDistance: 0.9667\n",
      "Epoch 315: val_loss did not improve from 0.03656\n",
      "348/348 [==============================] - 328s 943ms/step - loss: 0.0356 - diceAccuracy: 0.9485 - jaccardDistance: 0.9667 - val_loss: 0.0379 - val_diceAccuracy: 0.9448 - val_jaccardDistance: 1.0267 - lr: 3.9063e-06\n",
      "Epoch 316/1000\n",
      "348/348 [==============================] - ETA: 0s - loss: 0.0362 - diceAccuracy: 0.9475 - jaccardDistance: 0.9847\n",
      "Epoch 316: val_loss did not improve from 0.03656\n",
      "348/348 [==============================] - 329s 946ms/step - loss: 0.0362 - diceAccuracy: 0.9475 - jaccardDistance: 0.9847 - val_loss: 0.0379 - val_diceAccuracy: 0.9449 - val_jaccardDistance: 1.0253 - lr: 3.9063e-06\n",
      "Epoch 317/1000\n",
      "348/348 [==============================] - ETA: 0s - loss: 0.0356 - diceAccuracy: 0.9485 - jaccardDistance: 0.9670\n",
      "Epoch 317: val_loss did not improve from 0.03656\n",
      "348/348 [==============================] - 328s 944ms/step - loss: 0.0356 - diceAccuracy: 0.9485 - jaccardDistance: 0.9670 - val_loss: 0.0381 - val_diceAccuracy: 0.9447 - val_jaccardDistance: 1.0287 - lr: 3.9063e-06\n",
      "Epoch 318/1000\n",
      "348/348 [==============================] - ETA: 0s - loss: 0.0356 - diceAccuracy: 0.9485 - jaccardDistance: 0.9674\n",
      "Epoch 318: val_loss did not improve from 0.03656\n",
      "348/348 [==============================] - 330s 947ms/step - loss: 0.0356 - diceAccuracy: 0.9485 - jaccardDistance: 0.9674 - val_loss: 0.0376 - val_diceAccuracy: 0.9452 - val_jaccardDistance: 1.0201 - lr: 3.9063e-06\n",
      "Epoch 319/1000\n",
      "348/348 [==============================] - ETA: 0s - loss: 0.0355 - diceAccuracy: 0.9485 - jaccardDistance: 0.9658\n",
      "Epoch 319: val_loss did not improve from 0.03656\n",
      "348/348 [==============================] - 329s 945ms/step - loss: 0.0355 - diceAccuracy: 0.9485 - jaccardDistance: 0.9658 - val_loss: 0.0376 - val_diceAccuracy: 0.9453 - val_jaccardDistance: 1.0183 - lr: 3.9063e-06\n",
      "Epoch 320/1000\n",
      "348/348 [==============================] - ETA: 0s - loss: 0.0354 - diceAccuracy: 0.9487 - jaccardDistance: 0.9618\n",
      "Epoch 320: val_loss did not improve from 0.03656\n",
      "348/348 [==============================] - 330s 949ms/step - loss: 0.0354 - diceAccuracy: 0.9487 - jaccardDistance: 0.9618 - val_loss: 0.0368 - val_diceAccuracy: 0.9464 - val_jaccardDistance: 0.9979 - lr: 3.9063e-06\n",
      "Epoch 321/1000\n",
      "348/348 [==============================] - ETA: 0s - loss: 0.0356 - diceAccuracy: 0.9485 - jaccardDistance: 0.9675\n",
      "Epoch 321: val_loss did not improve from 0.03656\n",
      "348/348 [==============================] - 329s 944ms/step - loss: 0.0356 - diceAccuracy: 0.9485 - jaccardDistance: 0.9675 - val_loss: 0.0379 - val_diceAccuracy: 0.9450 - val_jaccardDistance: 1.0234 - lr: 3.9063e-06\n",
      "Epoch 322/1000\n",
      "348/348 [==============================] - ETA: 0s - loss: 0.0356 - diceAccuracy: 0.9484 - jaccardDistance: 0.9686\n",
      "Epoch 322: val_loss did not improve from 0.03656\n",
      "348/348 [==============================] - 328s 943ms/step - loss: 0.0356 - diceAccuracy: 0.9484 - jaccardDistance: 0.9686 - val_loss: 0.0371 - val_diceAccuracy: 0.9461 - val_jaccardDistance: 1.0042 - lr: 3.9063e-06\n",
      "Epoch 323/1000\n",
      "348/348 [==============================] - ETA: 0s - loss: 0.0357 - diceAccuracy: 0.9482 - jaccardDistance: 0.9718\n",
      "Epoch 323: val_loss did not improve from 0.03656\n",
      "348/348 [==============================] - 330s 947ms/step - loss: 0.0357 - diceAccuracy: 0.9482 - jaccardDistance: 0.9718 - val_loss: 0.0372 - val_diceAccuracy: 0.9459 - val_jaccardDistance: 1.0070 - lr: 3.9063e-06\n",
      "Epoch 324/1000\n",
      "348/348 [==============================] - ETA: 0s - loss: 0.0354 - diceAccuracy: 0.9487 - jaccardDistance: 0.9632\n",
      "Epoch 324: val_loss did not improve from 0.03656\n",
      "348/348 [==============================] - 332s 953ms/step - loss: 0.0354 - diceAccuracy: 0.9487 - jaccardDistance: 0.9632 - val_loss: 0.0374 - val_diceAccuracy: 0.9457 - val_jaccardDistance: 1.0123 - lr: 3.9063e-06\n",
      "Epoch 325/1000\n",
      "348/348 [==============================] - ETA: 0s - loss: 0.0357 - diceAccuracy: 0.9483 - jaccardDistance: 0.9705\n",
      "Epoch 325: val_loss did not improve from 0.03656\n",
      "348/348 [==============================] - 330s 949ms/step - loss: 0.0357 - diceAccuracy: 0.9483 - jaccardDistance: 0.9705 - val_loss: 0.0371 - val_diceAccuracy: 0.9461 - val_jaccardDistance: 1.0050 - lr: 3.9063e-06\n",
      "Epoch 326/1000\n",
      "348/348 [==============================] - ETA: 0s - loss: 0.0362 - diceAccuracy: 0.9476 - jaccardDistance: 0.9832\n",
      "Epoch 326: val_loss did not improve from 0.03656\n",
      "348/348 [==============================] - 330s 948ms/step - loss: 0.0362 - diceAccuracy: 0.9476 - jaccardDistance: 0.9832 - val_loss: 0.0374 - val_diceAccuracy: 0.9456 - val_jaccardDistance: 1.0132 - lr: 3.9063e-06\n",
      "Epoch 327/1000\n",
      "348/348 [==============================] - ETA: 0s - loss: 0.0355 - diceAccuracy: 0.9486 - jaccardDistance: 0.9651\n",
      "Epoch 327: val_loss did not improve from 0.03656\n",
      "348/348 [==============================] - 332s 953ms/step - loss: 0.0355 - diceAccuracy: 0.9486 - jaccardDistance: 0.9651 - val_loss: 0.0369 - val_diceAccuracy: 0.9465 - val_jaccardDistance: 0.9978 - lr: 3.9063e-06\n",
      "Epoch 328/1000\n",
      "348/348 [==============================] - ETA: 0s - loss: 0.0359 - diceAccuracy: 0.9479 - jaccardDistance: 0.9773\n",
      "Epoch 328: val_loss did not improve from 0.03656\n",
      "348/348 [==============================] - 329s 945ms/step - loss: 0.0359 - diceAccuracy: 0.9479 - jaccardDistance: 0.9773 - val_loss: 0.0373 - val_diceAccuracy: 0.9459 - val_jaccardDistance: 1.0079 - lr: 3.9063e-06\n",
      "Epoch 329/1000\n",
      "348/348 [==============================] - ETA: 0s - loss: 0.0359 - diceAccuracy: 0.9481 - jaccardDistance: 0.9747\n",
      "Epoch 329: val_loss did not improve from 0.03656\n",
      "348/348 [==============================] - 332s 953ms/step - loss: 0.0359 - diceAccuracy: 0.9481 - jaccardDistance: 0.9747 - val_loss: 0.0375 - val_diceAccuracy: 0.9455 - val_jaccardDistance: 1.0143 - lr: 3.9063e-06\n",
      "Epoch 330/1000\n",
      "348/348 [==============================] - ETA: 0s - loss: 0.0354 - diceAccuracy: 0.9488 - jaccardDistance: 0.9619\n",
      "Epoch 330: val_loss did not improve from 0.03656\n",
      "348/348 [==============================] - 331s 951ms/step - loss: 0.0354 - diceAccuracy: 0.9488 - jaccardDistance: 0.9619 - val_loss: 0.0375 - val_diceAccuracy: 0.9454 - val_jaccardDistance: 1.0175 - lr: 3.9063e-06\n",
      "Epoch 331/1000\n",
      "348/348 [==============================] - ETA: 0s - loss: 0.0359 - diceAccuracy: 0.9480 - jaccardDistance: 0.9754\n",
      "Epoch 331: val_loss did not improve from 0.03656\n",
      "348/348 [==============================] - 329s 945ms/step - loss: 0.0359 - diceAccuracy: 0.9480 - jaccardDistance: 0.9754 - val_loss: 0.0375 - val_diceAccuracy: 0.9454 - val_jaccardDistance: 1.0157 - lr: 3.9063e-06\n",
      "Epoch 332/1000\n",
      "348/348 [==============================] - ETA: 0s - loss: 0.0356 - diceAccuracy: 0.9484 - jaccardDistance: 0.9674\n",
      "Epoch 332: val_loss did not improve from 0.03656\n",
      "348/348 [==============================] - 330s 949ms/step - loss: 0.0356 - diceAccuracy: 0.9484 - jaccardDistance: 0.9674 - val_loss: 0.0385 - val_diceAccuracy: 0.9440 - val_jaccardDistance: 1.0404 - lr: 3.9063e-06\n",
      "Epoch 333/1000\n",
      "348/348 [==============================] - ETA: 0s - loss: 0.0356 - diceAccuracy: 0.9478 - jaccardDistance: 0.9802\n",
      "Epoch 333: val_loss did not improve from 0.03656\n",
      "348/348 [==============================] - 327s 939ms/step - loss: 0.0356 - diceAccuracy: 0.9478 - jaccardDistance: 0.9802 - val_loss: 0.0371 - val_diceAccuracy: 0.9453 - val_jaccardDistance: 1.0175 - lr: 1.9531e-06\n",
      "Epoch 334/1000\n",
      "348/348 [==============================] - ETA: 0s - loss: 0.0351 - diceAccuracy: 0.9484 - jaccardDistance: 0.9689\n",
      "Epoch 334: val_loss did not improve from 0.03656\n",
      "348/348 [==============================] - 330s 947ms/step - loss: 0.0351 - diceAccuracy: 0.9484 - jaccardDistance: 0.9689 - val_loss: 0.0367 - val_diceAccuracy: 0.9459 - val_jaccardDistance: 1.0088 - lr: 1.9531e-06\n",
      "Epoch 335/1000\n",
      "348/348 [==============================] - ETA: 0s - loss: 0.0354 - diceAccuracy: 0.9480 - jaccardDistance: 0.9760\n",
      "Epoch 335: val_loss did not improve from 0.03656\n",
      "348/348 [==============================] - 330s 947ms/step - loss: 0.0354 - diceAccuracy: 0.9480 - jaccardDistance: 0.9760 - val_loss: 0.0366 - val_diceAccuracy: 0.9461 - val_jaccardDistance: 1.0031 - lr: 1.9531e-06\n",
      "Epoch 336/1000\n",
      "348/348 [==============================] - ETA: 0s - loss: 0.0350 - diceAccuracy: 0.9486 - jaccardDistance: 0.9650\n",
      "Epoch 336: val_loss did not improve from 0.03656\n",
      "348/348 [==============================] - 329s 946ms/step - loss: 0.0350 - diceAccuracy: 0.9486 - jaccardDistance: 0.9650 - val_loss: 0.0373 - val_diceAccuracy: 0.9451 - val_jaccardDistance: 1.0218 - lr: 1.9531e-06\n",
      "Epoch 337/1000\n",
      "348/348 [==============================] - ETA: 0s - loss: 0.0349 - diceAccuracy: 0.9487 - jaccardDistance: 0.9623\n",
      "Epoch 337: val_loss improved from 0.03656 to 0.03637, saving model to model-saved\\deeplabv3plus_fold_0_lr_0.0005_alpha_0.35_binary_256x256_deeplayer_6\n"
     ]
    },
    {
     "name": "stderr",
     "output_type": "stream",
     "text": [
      "WARNING:absl:Found untraced functions such as _jit_compiled_convolution_op, _jit_compiled_convolution_op, _jit_compiled_convolution_op, _jit_compiled_convolution_op, _jit_compiled_convolution_op while saving (showing 5 of 28). These functions will not be directly callable after loading.\n"
     ]
    },
    {
     "name": "stdout",
     "output_type": "stream",
     "text": [
      "INFO:tensorflow:Assets written to: model-saved\\deeplabv3plus_fold_0_lr_0.0005_alpha_0.35_binary_256x256_deeplayer_6\\assets\n"
     ]
    },
    {
     "name": "stderr",
     "output_type": "stream",
     "text": [
      "INFO:tensorflow:Assets written to: model-saved\\deeplabv3plus_fold_0_lr_0.0005_alpha_0.35_binary_256x256_deeplayer_6\\assets\n"
     ]
    },
    {
     "name": "stdout",
     "output_type": "stream",
     "text": [
      "348/348 [==============================] - 348s 999ms/step - loss: 0.0349 - diceAccuracy: 0.9487 - jaccardDistance: 0.9623 - val_loss: 0.0364 - val_diceAccuracy: 0.9464 - val_jaccardDistance: 0.9988 - lr: 1.9531e-06\n",
      "Epoch 338/1000\n",
      "348/348 [==============================] - ETA: 0s - loss: 0.0354 - diceAccuracy: 0.9479 - jaccardDistance: 0.9773\n",
      "Epoch 338: val_loss did not improve from 0.03637\n",
      "348/348 [==============================] - 329s 944ms/step - loss: 0.0354 - diceAccuracy: 0.9479 - jaccardDistance: 0.9773 - val_loss: 0.0369 - val_diceAccuracy: 0.9456 - val_jaccardDistance: 1.0111 - lr: 1.9531e-06\n",
      "Epoch 339/1000\n",
      "348/348 [==============================] - ETA: 0s - loss: 0.0348 - diceAccuracy: 0.9488 - jaccardDistance: 0.9611\n",
      "Epoch 339: val_loss did not improve from 0.03637\n",
      "348/348 [==============================] - 330s 947ms/step - loss: 0.0348 - diceAccuracy: 0.9488 - jaccardDistance: 0.9611 - val_loss: 0.0366 - val_diceAccuracy: 0.9461 - val_jaccardDistance: 1.0046 - lr: 1.9531e-06\n",
      "Epoch 340/1000\n",
      "348/348 [==============================] - ETA: 0s - loss: 0.0352 - diceAccuracy: 0.9482 - jaccardDistance: 0.9717\n",
      "Epoch 340: val_loss did not improve from 0.03637\n",
      "348/348 [==============================] - 329s 945ms/step - loss: 0.0352 - diceAccuracy: 0.9482 - jaccardDistance: 0.9717 - val_loss: 0.0376 - val_diceAccuracy: 0.9445 - val_jaccardDistance: 1.0329 - lr: 1.9531e-06\n",
      "Epoch 341/1000\n",
      "348/348 [==============================] - ETA: 0s - loss: 0.0353 - diceAccuracy: 0.9482 - jaccardDistance: 0.9728\n",
      "Epoch 341: val_loss did not improve from 0.03637\n",
      "348/348 [==============================] - 328s 944ms/step - loss: 0.0353 - diceAccuracy: 0.9482 - jaccardDistance: 0.9728 - val_loss: 0.0371 - val_diceAccuracy: 0.9453 - val_jaccardDistance: 1.0194 - lr: 1.9531e-06\n",
      "Epoch 342/1000\n",
      "348/348 [==============================] - ETA: 0s - loss: 0.0350 - diceAccuracy: 0.9486 - jaccardDistance: 0.9647\n",
      "Epoch 342: val_loss did not improve from 0.03637\n",
      "348/348 [==============================] - 332s 953ms/step - loss: 0.0350 - diceAccuracy: 0.9486 - jaccardDistance: 0.9647 - val_loss: 0.0371 - val_diceAccuracy: 0.9454 - val_jaccardDistance: 1.0170 - lr: 1.9531e-06\n",
      "Epoch 343/1000\n",
      "348/348 [==============================] - ETA: 0s - loss: 0.0352 - diceAccuracy: 0.9483 - jaccardDistance: 0.9705\n",
      "Epoch 343: val_loss did not improve from 0.03637\n",
      "348/348 [==============================] - 333s 956ms/step - loss: 0.0352 - diceAccuracy: 0.9483 - jaccardDistance: 0.9705 - val_loss: 0.0367 - val_diceAccuracy: 0.9458 - val_jaccardDistance: 1.0083 - lr: 1.9531e-06\n",
      "Epoch 344/1000\n",
      "348/348 [==============================] - ETA: 0s - loss: 0.0352 - diceAccuracy: 0.9482 - jaccardDistance: 0.9720\n",
      "Epoch 344: val_loss did not improve from 0.03637\n",
      "348/348 [==============================] - 329s 944ms/step - loss: 0.0352 - diceAccuracy: 0.9482 - jaccardDistance: 0.9720 - val_loss: 0.0374 - val_diceAccuracy: 0.9448 - val_jaccardDistance: 1.0251 - lr: 1.9531e-06\n",
      "Epoch 345/1000\n",
      "348/348 [==============================] - ETA: 0s - loss: 0.0351 - diceAccuracy: 0.9484 - jaccardDistance: 0.9690\n",
      "Epoch 345: val_loss did not improve from 0.03637\n",
      "348/348 [==============================] - 329s 946ms/step - loss: 0.0351 - diceAccuracy: 0.9484 - jaccardDistance: 0.9690 - val_loss: 0.0377 - val_diceAccuracy: 0.9445 - val_jaccardDistance: 1.0336 - lr: 1.9531e-06\n",
      "Epoch 346/1000\n",
      "348/348 [==============================] - ETA: 0s - loss: 0.0356 - diceAccuracy: 0.9476 - jaccardDistance: 0.9819\n",
      "Epoch 346: val_loss did not improve from 0.03637\n",
      "348/348 [==============================] - 330s 948ms/step - loss: 0.0356 - diceAccuracy: 0.9476 - jaccardDistance: 0.9819 - val_loss: 0.0367 - val_diceAccuracy: 0.9459 - val_jaccardDistance: 1.0070 - lr: 1.9531e-06\n",
      "Epoch 347/1000\n",
      "348/348 [==============================] - ETA: 0s - loss: 0.0354 - diceAccuracy: 0.9479 - jaccardDistance: 0.9768\n",
      "Epoch 347: val_loss did not improve from 0.03637\n",
      "348/348 [==============================] - 329s 945ms/step - loss: 0.0354 - diceAccuracy: 0.9479 - jaccardDistance: 0.9768 - val_loss: 0.0364 - val_diceAccuracy: 0.9464 - val_jaccardDistance: 0.9999 - lr: 1.9531e-06\n",
      "Epoch 348/1000\n",
      "348/348 [==============================] - ETA: 0s - loss: 0.0351 - diceAccuracy: 0.9484 - jaccardDistance: 0.9683\n",
      "Epoch 348: val_loss did not improve from 0.03637\n",
      "348/348 [==============================] - 330s 948ms/step - loss: 0.0351 - diceAccuracy: 0.9484 - jaccardDistance: 0.9683 - val_loss: 0.0365 - val_diceAccuracy: 0.9463 - val_jaccardDistance: 1.0007 - lr: 1.9531e-06\n",
      "Epoch 349/1000\n",
      "348/348 [==============================] - ETA: 0s - loss: 0.0355 - diceAccuracy: 0.9478 - jaccardDistance: 0.9784\n",
      "Epoch 349: val_loss did not improve from 0.03637\n",
      "348/348 [==============================] - 328s 944ms/step - loss: 0.0355 - diceAccuracy: 0.9478 - jaccardDistance: 0.9784 - val_loss: 0.0364 - val_diceAccuracy: 0.9464 - val_jaccardDistance: 0.9978 - lr: 1.9531e-06\n",
      "Epoch 350/1000\n",
      "348/348 [==============================] - ETA: 0s - loss: 0.0354 - diceAccuracy: 0.9480 - jaccardDistance: 0.9753\n",
      "Epoch 350: val_loss did not improve from 0.03637\n",
      "348/348 [==============================] - 330s 950ms/step - loss: 0.0354 - diceAccuracy: 0.9480 - jaccardDistance: 0.9753 - val_loss: 0.0371 - val_diceAccuracy: 0.9453 - val_jaccardDistance: 1.0169 - lr: 1.9531e-06\n",
      "Epoch 351/1000\n",
      "348/348 [==============================] - ETA: 0s - loss: 0.0352 - diceAccuracy: 0.9482 - jaccardDistance: 0.9713\n",
      "Epoch 351: val_loss did not improve from 0.03637\n",
      "348/348 [==============================] - 329s 945ms/step - loss: 0.0352 - diceAccuracy: 0.9482 - jaccardDistance: 0.9713 - val_loss: 0.0370 - val_diceAccuracy: 0.9454 - val_jaccardDistance: 1.0173 - lr: 1.9531e-06\n",
      "Epoch 352/1000\n",
      "348/348 [==============================] - ETA: 0s - loss: 0.0351 - diceAccuracy: 0.9483 - jaccardDistance: 0.9694\n",
      "Epoch 352: val_loss did not improve from 0.03637\n",
      "348/348 [==============================] - 329s 946ms/step - loss: 0.0351 - diceAccuracy: 0.9483 - jaccardDistance: 0.9694 - val_loss: 0.0371 - val_diceAccuracy: 0.9453 - val_jaccardDistance: 1.0182 - lr: 1.9531e-06\n",
      "Epoch 353/1000\n",
      "348/348 [==============================] - ETA: 0s - loss: 0.0353 - diceAccuracy: 0.9482 - jaccardDistance: 0.9730\n",
      "Epoch 353: val_loss did not improve from 0.03637\n",
      "348/348 [==============================] - 329s 946ms/step - loss: 0.0353 - diceAccuracy: 0.9482 - jaccardDistance: 0.9730 - val_loss: 0.0367 - val_diceAccuracy: 0.9459 - val_jaccardDistance: 1.0073 - lr: 1.9531e-06\n",
      "Epoch 354/1000\n",
      "348/348 [==============================] - ETA: 0s - loss: 0.0352 - diceAccuracy: 0.9483 - jaccardDistance: 0.9711\n",
      "Epoch 354: val_loss did not improve from 0.03637\n",
      "348/348 [==============================] - 329s 945ms/step - loss: 0.0352 - diceAccuracy: 0.9483 - jaccardDistance: 0.9711 - val_loss: 0.0366 - val_diceAccuracy: 0.9460 - val_jaccardDistance: 1.0055 - lr: 1.9531e-06\n",
      "Epoch 355/1000\n",
      "348/348 [==============================] - ETA: 0s - loss: 0.0355 - diceAccuracy: 0.9478 - jaccardDistance: 0.9794\n",
      "Epoch 355: val_loss did not improve from 0.03637\n",
      "348/348 [==============================] - 328s 942ms/step - loss: 0.0355 - diceAccuracy: 0.9478 - jaccardDistance: 0.9794 - val_loss: 0.0372 - val_diceAccuracy: 0.9451 - val_jaccardDistance: 1.0215 - lr: 1.9531e-06\n",
      "Epoch 356/1000\n",
      "348/348 [==============================] - ETA: 0s - loss: 0.0352 - diceAccuracy: 0.9483 - jaccardDistance: 0.9701\n",
      "Epoch 356: val_loss did not improve from 0.03637\n",
      "348/348 [==============================] - 330s 948ms/step - loss: 0.0352 - diceAccuracy: 0.9483 - jaccardDistance: 0.9701 - val_loss: 0.0376 - val_diceAccuracy: 0.9445 - val_jaccardDistance: 1.0324 - lr: 1.9531e-06\n",
      "Epoch 357/1000\n",
      "348/348 [==============================] - ETA: 0s - loss: 0.0354 - diceAccuracy: 0.9480 - jaccardDistance: 0.9750\n",
      "Epoch 357: val_loss did not improve from 0.03637\n",
      "348/348 [==============================] - 329s 945ms/step - loss: 0.0354 - diceAccuracy: 0.9480 - jaccardDistance: 0.9750 - val_loss: 0.0365 - val_diceAccuracy: 0.9463 - val_jaccardDistance: 1.0020 - lr: 1.9531e-06\n",
      "Epoch 358/1000\n",
      "348/348 [==============================] - ETA: 0s - loss: 0.0352 - diceAccuracy: 0.9482 - jaccardDistance: 0.9717\n",
      "Epoch 358: val_loss did not improve from 0.03637\n",
      "348/348 [==============================] - 331s 952ms/step - loss: 0.0352 - diceAccuracy: 0.9482 - jaccardDistance: 0.9717 - val_loss: 0.0365 - val_diceAccuracy: 0.9461 - val_jaccardDistance: 1.0035 - lr: 1.9531e-06\n",
      "Epoch 359/1000\n",
      "348/348 [==============================] - ETA: 0s - loss: 0.0351 - diceAccuracy: 0.9485 - jaccardDistance: 0.9671\n",
      "Epoch 359: val_loss improved from 0.03637 to 0.03585, saving model to model-saved\\deeplabv3plus_fold_0_lr_0.0005_alpha_0.35_binary_256x256_deeplayer_6\n"
     ]
    },
    {
     "name": "stderr",
     "output_type": "stream",
     "text": [
      "WARNING:absl:Found untraced functions such as _jit_compiled_convolution_op, _jit_compiled_convolution_op, _jit_compiled_convolution_op, _jit_compiled_convolution_op, _jit_compiled_convolution_op while saving (showing 5 of 28). These functions will not be directly callable after loading.\n"
     ]
    },
    {
     "name": "stdout",
     "output_type": "stream",
     "text": [
      "INFO:tensorflow:Assets written to: model-saved\\deeplabv3plus_fold_0_lr_0.0005_alpha_0.35_binary_256x256_deeplayer_6\\assets\n"
     ]
    },
    {
     "name": "stderr",
     "output_type": "stream",
     "text": [
      "INFO:tensorflow:Assets written to: model-saved\\deeplabv3plus_fold_0_lr_0.0005_alpha_0.35_binary_256x256_deeplayer_6\\assets\n"
     ]
    },
    {
     "name": "stdout",
     "output_type": "stream",
     "text": [
      "348/348 [==============================] - 350s 1s/step - loss: 0.0351 - diceAccuracy: 0.9485 - jaccardDistance: 0.9671 - val_loss: 0.0359 - val_diceAccuracy: 0.9472 - val_jaccardDistance: 0.9865 - lr: 1.9531e-06\n",
      "Epoch 360/1000\n",
      "348/348 [==============================] - ETA: 0s - loss: 0.0354 - diceAccuracy: 0.9480 - jaccardDistance: 0.9756\n",
      "Epoch 360: val_loss did not improve from 0.03585\n",
      "348/348 [==============================] - 333s 958ms/step - loss: 0.0354 - diceAccuracy: 0.9480 - jaccardDistance: 0.9756 - val_loss: 0.0370 - val_diceAccuracy: 0.9455 - val_jaccardDistance: 1.0151 - lr: 1.9531e-06\n",
      "Epoch 361/1000\n",
      "348/348 [==============================] - ETA: 0s - loss: 0.0353 - diceAccuracy: 0.9481 - jaccardDistance: 0.9740\n",
      "Epoch 361: val_loss did not improve from 0.03585\n",
      "348/348 [==============================] - 331s 949ms/step - loss: 0.0353 - diceAccuracy: 0.9481 - jaccardDistance: 0.9740 - val_loss: 0.0367 - val_diceAccuracy: 0.9459 - val_jaccardDistance: 1.0071 - lr: 1.9531e-06\n",
      "Epoch 362/1000\n",
      "348/348 [==============================] - ETA: 0s - loss: 0.0351 - diceAccuracy: 0.9483 - jaccardDistance: 0.9697\n",
      "Epoch 362: val_loss did not improve from 0.03585\n",
      "348/348 [==============================] - 331s 952ms/step - loss: 0.0351 - diceAccuracy: 0.9483 - jaccardDistance: 0.9697 - val_loss: 0.0366 - val_diceAccuracy: 0.9460 - val_jaccardDistance: 1.0049 - lr: 1.9531e-06\n",
      "Epoch 363/1000\n",
      "348/348 [==============================] - ETA: 0s - loss: 0.0349 - diceAccuracy: 0.9487 - jaccardDistance: 0.9640\n",
      "Epoch 363: val_loss did not improve from 0.03585\n",
      "348/348 [==============================] - 331s 950ms/step - loss: 0.0349 - diceAccuracy: 0.9487 - jaccardDistance: 0.9640 - val_loss: 0.0377 - val_diceAccuracy: 0.9443 - val_jaccardDistance: 1.0353 - lr: 1.9531e-06\n",
      "Epoch 364/1000\n",
      "348/348 [==============================] - ETA: 0s - loss: 0.0352 - diceAccuracy: 0.9483 - jaccardDistance: 0.9703\n",
      "Epoch 364: val_loss did not improve from 0.03585\n",
      "348/348 [==============================] - 330s 949ms/step - loss: 0.0352 - diceAccuracy: 0.9483 - jaccardDistance: 0.9703 - val_loss: 0.0362 - val_diceAccuracy: 0.9466 - val_jaccardDistance: 0.9933 - lr: 1.9531e-06\n",
      "Epoch 365/1000\n",
      "348/348 [==============================] - ETA: 0s - loss: 0.0351 - diceAccuracy: 0.9484 - jaccardDistance: 0.9686\n",
      "Epoch 365: val_loss did not improve from 0.03585\n",
      "348/348 [==============================] - 331s 950ms/step - loss: 0.0351 - diceAccuracy: 0.9484 - jaccardDistance: 0.9686 - val_loss: 0.0376 - val_diceAccuracy: 0.9447 - val_jaccardDistance: 1.0312 - lr: 1.9531e-06\n",
      "Epoch 366/1000\n",
      "348/348 [==============================] - ETA: 0s - loss: 0.0354 - diceAccuracy: 0.9480 - jaccardDistance: 0.9757\n",
      "Epoch 366: val_loss did not improve from 0.03585\n",
      "348/348 [==============================] - 331s 949ms/step - loss: 0.0354 - diceAccuracy: 0.9480 - jaccardDistance: 0.9757 - val_loss: 0.0362 - val_diceAccuracy: 0.9466 - val_jaccardDistance: 0.9942 - lr: 1.9531e-06\n",
      "Epoch 367/1000\n",
      "348/348 [==============================] - ETA: 0s - loss: 0.0357 - diceAccuracy: 0.9476 - jaccardDistance: 0.9833\n",
      "Epoch 367: val_loss did not improve from 0.03585\n",
      "348/348 [==============================] - 328s 943ms/step - loss: 0.0357 - diceAccuracy: 0.9476 - jaccardDistance: 0.9833 - val_loss: 0.0369 - val_diceAccuracy: 0.9456 - val_jaccardDistance: 1.0145 - lr: 1.9531e-06\n",
      "Epoch 368/1000\n",
      "348/348 [==============================] - ETA: 0s - loss: 0.0352 - diceAccuracy: 0.9482 - jaccardDistance: 0.9720\n",
      "Epoch 368: val_loss did not improve from 0.03585\n",
      "348/348 [==============================] - 331s 951ms/step - loss: 0.0352 - diceAccuracy: 0.9482 - jaccardDistance: 0.9720 - val_loss: 0.0365 - val_diceAccuracy: 0.9462 - val_jaccardDistance: 1.0032 - lr: 1.9531e-06\n",
      "Epoch 369/1000\n",
      "348/348 [==============================] - ETA: 0s - loss: 0.0350 - diceAccuracy: 0.9485 - jaccardDistance: 0.9662\n",
      "Epoch 369: val_loss did not improve from 0.03585\n",
      "348/348 [==============================] - 331s 952ms/step - loss: 0.0350 - diceAccuracy: 0.9485 - jaccardDistance: 0.9662 - val_loss: 0.0371 - val_diceAccuracy: 0.9453 - val_jaccardDistance: 1.0176 - lr: 1.9531e-06\n",
      "Epoch 370/1000\n",
      "348/348 [==============================] - ETA: 0s - loss: 0.0353 - diceAccuracy: 0.9482 - jaccardDistance: 0.9722\n",
      "Epoch 370: val_loss did not improve from 0.03585\n",
      "348/348 [==============================] - 330s 948ms/step - loss: 0.0353 - diceAccuracy: 0.9482 - jaccardDistance: 0.9722 - val_loss: 0.0371 - val_diceAccuracy: 0.9453 - val_jaccardDistance: 1.0196 - lr: 1.9531e-06\n",
      "Epoch 371/1000\n",
      "348/348 [==============================] - ETA: 0s - loss: 0.0347 - diceAccuracy: 0.9489 - jaccardDistance: 0.9592\n",
      "Epoch 371: val_loss did not improve from 0.03585\n",
      "348/348 [==============================] - 332s 954ms/step - loss: 0.0347 - diceAccuracy: 0.9489 - jaccardDistance: 0.9592 - val_loss: 0.0368 - val_diceAccuracy: 0.9458 - val_jaccardDistance: 1.0093 - lr: 1.9531e-06\n",
      "Epoch 372/1000\n",
      "348/348 [==============================] - ETA: 0s - loss: 0.0352 - diceAccuracy: 0.9482 - jaccardDistance: 0.9716\n",
      "Epoch 372: val_loss did not improve from 0.03585\n",
      "348/348 [==============================] - 330s 947ms/step - loss: 0.0352 - diceAccuracy: 0.9482 - jaccardDistance: 0.9716 - val_loss: 0.0371 - val_diceAccuracy: 0.9453 - val_jaccardDistance: 1.0182 - lr: 1.9531e-06\n",
      "Epoch 373/1000\n",
      "348/348 [==============================] - ETA: 0s - loss: 0.0353 - diceAccuracy: 0.9480 - jaccardDistance: 0.9753\n",
      "Epoch 373: val_loss did not improve from 0.03585\n",
      "348/348 [==============================] - 332s 954ms/step - loss: 0.0353 - diceAccuracy: 0.9480 - jaccardDistance: 0.9753 - val_loss: 0.0360 - val_diceAccuracy: 0.9469 - val_jaccardDistance: 0.9901 - lr: 1.9531e-06\n",
      "Epoch 374/1000\n",
      "348/348 [==============================] - ETA: 0s - loss: 0.0352 - diceAccuracy: 0.9483 - jaccardDistance: 0.9704\n",
      "Epoch 374: val_loss did not improve from 0.03585\n",
      "348/348 [==============================] - 331s 951ms/step - loss: 0.0352 - diceAccuracy: 0.9483 - jaccardDistance: 0.9704 - val_loss: 0.0359 - val_diceAccuracy: 0.9471 - val_jaccardDistance: 0.9880 - lr: 1.9531e-06\n",
      "Epoch 375/1000\n",
      "348/348 [==============================] - ETA: 0s - loss: 0.0356 - diceAccuracy: 0.9477 - jaccardDistance: 0.9814\n",
      "Epoch 375: val_loss improved from 0.03585 to 0.03572, saving model to model-saved\\deeplabv3plus_fold_0_lr_0.0005_alpha_0.35_binary_256x256_deeplayer_6\n"
     ]
    },
    {
     "name": "stderr",
     "output_type": "stream",
     "text": [
      "WARNING:absl:Found untraced functions such as _jit_compiled_convolution_op, _jit_compiled_convolution_op, _jit_compiled_convolution_op, _jit_compiled_convolution_op, _jit_compiled_convolution_op while saving (showing 5 of 28). These functions will not be directly callable after loading.\n"
     ]
    },
    {
     "name": "stdout",
     "output_type": "stream",
     "text": [
      "INFO:tensorflow:Assets written to: model-saved\\deeplabv3plus_fold_0_lr_0.0005_alpha_0.35_binary_256x256_deeplayer_6\\assets\n"
     ]
    },
    {
     "name": "stderr",
     "output_type": "stream",
     "text": [
      "INFO:tensorflow:Assets written to: model-saved\\deeplabv3plus_fold_0_lr_0.0005_alpha_0.35_binary_256x256_deeplayer_6\\assets\n"
     ]
    },
    {
     "name": "stdout",
     "output_type": "stream",
     "text": [
      "348/348 [==============================] - 348s 999ms/step - loss: 0.0356 - diceAccuracy: 0.9477 - jaccardDistance: 0.9814 - val_loss: 0.0357 - val_diceAccuracy: 0.9474 - val_jaccardDistance: 0.9808 - lr: 1.9531e-06\n",
      "Epoch 376/1000\n",
      "348/348 [==============================] - ETA: 0s - loss: 0.0351 - diceAccuracy: 0.9484 - jaccardDistance: 0.9689\n",
      "Epoch 376: val_loss did not improve from 0.03572\n",
      "348/348 [==============================] - 331s 951ms/step - loss: 0.0351 - diceAccuracy: 0.9484 - jaccardDistance: 0.9689 - val_loss: 0.0366 - val_diceAccuracy: 0.9460 - val_jaccardDistance: 1.0072 - lr: 1.9531e-06\n",
      "Epoch 377/1000\n",
      "348/348 [==============================] - ETA: 0s - loss: 0.0352 - diceAccuracy: 0.9483 - jaccardDistance: 0.9710\n",
      "Epoch 377: val_loss did not improve from 0.03572\n",
      "348/348 [==============================] - 333s 958ms/step - loss: 0.0352 - diceAccuracy: 0.9483 - jaccardDistance: 0.9710 - val_loss: 0.0364 - val_diceAccuracy: 0.9463 - val_jaccardDistance: 1.0001 - lr: 1.9531e-06\n",
      "Epoch 378/1000\n",
      "348/348 [==============================] - ETA: 0s - loss: 0.0354 - diceAccuracy: 0.9481 - jaccardDistance: 0.9745\n",
      "Epoch 378: val_loss did not improve from 0.03572\n",
      "348/348 [==============================] - 332s 954ms/step - loss: 0.0354 - diceAccuracy: 0.9481 - jaccardDistance: 0.9745 - val_loss: 0.0367 - val_diceAccuracy: 0.9459 - val_jaccardDistance: 1.0078 - lr: 1.9531e-06\n",
      "Epoch 379/1000\n",
      "348/348 [==============================] - ETA: 0s - loss: 0.0353 - diceAccuracy: 0.9480 - jaccardDistance: 0.9749\n",
      "Epoch 379: val_loss did not improve from 0.03572\n",
      "348/348 [==============================] - 331s 951ms/step - loss: 0.0353 - diceAccuracy: 0.9480 - jaccardDistance: 0.9749 - val_loss: 0.0367 - val_diceAccuracy: 0.9460 - val_jaccardDistance: 1.0063 - lr: 1.9531e-06\n",
      "Epoch 380/1000\n",
      "348/348 [==============================] - ETA: 0s - loss: 0.0354 - diceAccuracy: 0.9479 - jaccardDistance: 0.9776\n",
      "Epoch 380: val_loss did not improve from 0.03572\n",
      "348/348 [==============================] - 331s 951ms/step - loss: 0.0354 - diceAccuracy: 0.9479 - jaccardDistance: 0.9776 - val_loss: 0.0366 - val_diceAccuracy: 0.9460 - val_jaccardDistance: 1.0060 - lr: 1.9531e-06\n",
      "Epoch 381/1000\n",
      "348/348 [==============================] - ETA: 0s - loss: 0.0352 - diceAccuracy: 0.9482 - jaccardDistance: 0.9713\n",
      "Epoch 381: val_loss did not improve from 0.03572\n",
      "348/348 [==============================] - 331s 951ms/step - loss: 0.0352 - diceAccuracy: 0.9482 - jaccardDistance: 0.9713 - val_loss: 0.0365 - val_diceAccuracy: 0.9462 - val_jaccardDistance: 1.0024 - lr: 1.9531e-06\n",
      "Epoch 382/1000\n",
      "348/348 [==============================] - ETA: 0s - loss: 0.0351 - diceAccuracy: 0.9484 - jaccardDistance: 0.9675\n",
      "Epoch 382: val_loss did not improve from 0.03572\n",
      "348/348 [==============================] - 331s 952ms/step - loss: 0.0351 - diceAccuracy: 0.9484 - jaccardDistance: 0.9675 - val_loss: 0.0361 - val_diceAccuracy: 0.9468 - val_jaccardDistance: 0.9907 - lr: 1.9531e-06\n",
      "Epoch 383/1000\n",
      "348/348 [==============================] - ETA: 0s - loss: 0.0353 - diceAccuracy: 0.9481 - jaccardDistance: 0.9746\n",
      "Epoch 383: val_loss did not improve from 0.03572\n",
      "348/348 [==============================] - 330s 948ms/step - loss: 0.0353 - diceAccuracy: 0.9481 - jaccardDistance: 0.9746 - val_loss: 0.0371 - val_diceAccuracy: 0.9453 - val_jaccardDistance: 1.0180 - lr: 1.9531e-06\n",
      "Epoch 384/1000\n",
      "348/348 [==============================] - ETA: 0s - loss: 0.0353 - diceAccuracy: 0.9481 - jaccardDistance: 0.9737\n",
      "Epoch 384: val_loss did not improve from 0.03572\n",
      "348/348 [==============================] - 333s 956ms/step - loss: 0.0353 - diceAccuracy: 0.9481 - jaccardDistance: 0.9737 - val_loss: 0.0363 - val_diceAccuracy: 0.9465 - val_jaccardDistance: 0.9969 - lr: 1.9531e-06\n",
      "Epoch 385/1000\n",
      "348/348 [==============================] - ETA: 0s - loss: 0.0353 - diceAccuracy: 0.9481 - jaccardDistance: 0.9748\n",
      "Epoch 385: val_loss did not improve from 0.03572\n",
      "348/348 [==============================] - 333s 957ms/step - loss: 0.0353 - diceAccuracy: 0.9481 - jaccardDistance: 0.9748 - val_loss: 0.0366 - val_diceAccuracy: 0.9461 - val_jaccardDistance: 1.0032 - lr: 1.9531e-06\n",
      "Epoch 386/1000\n",
      "348/348 [==============================] - ETA: 0s - loss: 0.0353 - diceAccuracy: 0.9481 - jaccardDistance: 0.9739\n",
      "Epoch 386: val_loss did not improve from 0.03572\n",
      "348/348 [==============================] - 334s 959ms/step - loss: 0.0353 - diceAccuracy: 0.9481 - jaccardDistance: 0.9739 - val_loss: 0.0363 - val_diceAccuracy: 0.9465 - val_jaccardDistance: 0.9968 - lr: 1.9531e-06\n",
      "Epoch 387/1000\n",
      "348/348 [==============================] - ETA: 0s - loss: 0.0349 - diceAccuracy: 0.9487 - jaccardDistance: 0.9634\n",
      "Epoch 387: val_loss did not improve from 0.03572\n",
      "348/348 [==============================] - 333s 956ms/step - loss: 0.0349 - diceAccuracy: 0.9487 - jaccardDistance: 0.9634 - val_loss: 0.0373 - val_diceAccuracy: 0.9450 - val_jaccardDistance: 1.0249 - lr: 1.9531e-06\n",
      "Epoch 388/1000\n",
      "348/348 [==============================] - ETA: 0s - loss: 0.0353 - diceAccuracy: 0.9481 - jaccardDistance: 0.9736\n",
      "Epoch 388: val_loss did not improve from 0.03572\n",
      "348/348 [==============================] - 333s 956ms/step - loss: 0.0353 - diceAccuracy: 0.9481 - jaccardDistance: 0.9736 - val_loss: 0.0371 - val_diceAccuracy: 0.9453 - val_jaccardDistance: 1.0190 - lr: 1.9531e-06\n",
      "Epoch 389/1000\n",
      "348/348 [==============================] - ETA: 0s - loss: 0.0352 - diceAccuracy: 0.9482 - jaccardDistance: 0.9712\n",
      "Epoch 389: val_loss did not improve from 0.03572\n",
      "348/348 [==============================] - 332s 954ms/step - loss: 0.0352 - diceAccuracy: 0.9482 - jaccardDistance: 0.9712 - val_loss: 0.0376 - val_diceAccuracy: 0.9445 - val_jaccardDistance: 1.0330 - lr: 1.9531e-06\n",
      "Epoch 390/1000\n",
      "348/348 [==============================] - ETA: 0s - loss: 0.0353 - diceAccuracy: 0.9481 - jaccardDistance: 0.9751\n",
      "Epoch 390: val_loss did not improve from 0.03572\n",
      "348/348 [==============================] - 330s 948ms/step - loss: 0.0353 - diceAccuracy: 0.9481 - jaccardDistance: 0.9751 - val_loss: 0.0374 - val_diceAccuracy: 0.9448 - val_jaccardDistance: 1.0271 - lr: 1.9531e-06\n",
      "Epoch 391/1000\n",
      "348/348 [==============================] - ETA: 0s - loss: 0.0350 - diceAccuracy: 0.9485 - jaccardDistance: 0.9667\n",
      "Epoch 391: val_loss did not improve from 0.03572\n",
      "348/348 [==============================] - 330s 949ms/step - loss: 0.0350 - diceAccuracy: 0.9485 - jaccardDistance: 0.9667 - val_loss: 0.0372 - val_diceAccuracy: 0.9451 - val_jaccardDistance: 1.0225 - lr: 1.9531e-06\n",
      "Epoch 392/1000\n",
      "348/348 [==============================] - ETA: 0s - loss: 0.0352 - diceAccuracy: 0.9482 - jaccardDistance: 0.9718\n",
      "Epoch 392: val_loss did not improve from 0.03572\n",
      "348/348 [==============================] - 334s 959ms/step - loss: 0.0352 - diceAccuracy: 0.9482 - jaccardDistance: 0.9718 - val_loss: 0.0364 - val_diceAccuracy: 0.9464 - val_jaccardDistance: 1.0003 - lr: 1.9531e-06\n",
      "Epoch 393/1000\n",
      "348/348 [==============================] - ETA: 0s - loss: 0.0352 - diceAccuracy: 0.9483 - jaccardDistance: 0.9711\n",
      "Epoch 393: val_loss did not improve from 0.03572\n",
      "348/348 [==============================] - 331s 951ms/step - loss: 0.0352 - diceAccuracy: 0.9483 - jaccardDistance: 0.9711 - val_loss: 0.0366 - val_diceAccuracy: 0.9461 - val_jaccardDistance: 1.0052 - lr: 1.9531e-06\n",
      "Epoch 394/1000\n",
      "348/348 [==============================] - ETA: 0s - loss: 0.0350 - diceAccuracy: 0.9486 - jaccardDistance: 0.9655\n",
      "Epoch 394: val_loss did not improve from 0.03572\n",
      "348/348 [==============================] - 332s 955ms/step - loss: 0.0350 - diceAccuracy: 0.9486 - jaccardDistance: 0.9655 - val_loss: 0.0363 - val_diceAccuracy: 0.9464 - val_jaccardDistance: 0.9986 - lr: 1.9531e-06\n",
      "Epoch 395/1000\n",
      "348/348 [==============================] - ETA: 0s - loss: 0.0352 - diceAccuracy: 0.9482 - jaccardDistance: 0.9721\n",
      "Epoch 395: val_loss did not improve from 0.03572\n",
      "348/348 [==============================] - 341s 980ms/step - loss: 0.0352 - diceAccuracy: 0.9482 - jaccardDistance: 0.9721 - val_loss: 0.0361 - val_diceAccuracy: 0.9468 - val_jaccardDistance: 0.9909 - lr: 1.9531e-06\n",
      "Epoch 396/1000\n",
      "348/348 [==============================] - ETA: 0s - loss: 0.0355 - diceAccuracy: 0.9478 - jaccardDistance: 0.9788\n",
      "Epoch 396: val_loss did not improve from 0.03572\n",
      "348/348 [==============================] - 343s 985ms/step - loss: 0.0355 - diceAccuracy: 0.9478 - jaccardDistance: 0.9788 - val_loss: 0.0367 - val_diceAccuracy: 0.9459 - val_jaccardDistance: 1.0076 - lr: 1.9531e-06\n",
      "Epoch 397/1000\n",
      "348/348 [==============================] - ETA: 0s - loss: 0.0353 - diceAccuracy: 0.9481 - jaccardDistance: 0.9734\n",
      "Epoch 397: val_loss did not improve from 0.03572\n",
      "348/348 [==============================] - 458s 1s/step - loss: 0.0353 - diceAccuracy: 0.9481 - jaccardDistance: 0.9734 - val_loss: 0.0372 - val_diceAccuracy: 0.9452 - val_jaccardDistance: 1.0192 - lr: 1.9531e-06\n",
      "Epoch 398/1000\n",
      "348/348 [==============================] - ETA: 0s - loss: 0.0348 - diceAccuracy: 0.9489 - jaccardDistance: 0.9600\n",
      "Epoch 398: val_loss did not improve from 0.03572\n",
      "348/348 [==============================] - 369s 1s/step - loss: 0.0348 - diceAccuracy: 0.9489 - jaccardDistance: 0.9600 - val_loss: 0.0363 - val_diceAccuracy: 0.9465 - val_jaccardDistance: 0.9970 - lr: 1.9531e-06\n",
      "Epoch 399/1000\n",
      "348/348 [==============================] - ETA: 0s - loss: 0.0352 - diceAccuracy: 0.9483 - jaccardDistance: 0.9704"
     ]
    },
    {
     "ename": "KeyboardInterrupt",
     "evalue": "",
     "output_type": "error",
     "traceback": [
      "\u001b[1;31m---------------------------------------------------------------------------\u001b[0m",
      "\u001b[1;31mKeyboardInterrupt\u001b[0m                         Traceback (most recent call last)",
      "\u001b[1;32mc:\\Users\\rafae\\OneDrive\\DocumentosOneDrive\\Code\\Python\\TCC-DeepLab\\Keras-DeeplabV3Plus-MobilenetV2\\keras-deeplabv3-cityscapes.ipynb Cell 6\u001b[0m in \u001b[0;36m<cell line: 3>\u001b[1;34m()\u001b[0m\n\u001b[0;32m     <a href='vscode-notebook-cell:/c%3A/Users/rafae/OneDrive/DocumentosOneDrive/Code/Python/TCC-DeepLab/Keras-DeeplabV3Plus-MobilenetV2/keras-deeplabv3-cityscapes.ipynb#X45sZmlsZQ%3D%3D?line=13'>14</a>\u001b[0m MODEL_NAME \u001b[39m=\u001b[39m \u001b[39m\"\u001b[39m\u001b[39mdeeplabv3plus_fold_\u001b[39m\u001b[39m\"\u001b[39m \u001b[39m+\u001b[39m \u001b[39mstr\u001b[39m(i) \u001b[39m+\u001b[39m \u001b[39m\"\u001b[39m\u001b[39m_lr_\u001b[39m\u001b[39m\"\u001b[39m \u001b[39m+\u001b[39m \u001b[39mstr\u001b[39m(lr) \u001b[39m+\u001b[39m \u001b[39m\"\u001b[39m\u001b[39m_alpha_\u001b[39m\u001b[39m\"\u001b[39m \u001b[39m+\u001b[39m \u001b[39mstr\u001b[39m(alpha) \u001b[39m+\u001b[39m \u001b[39m\"\u001b[39m\u001b[39m_binary_\u001b[39m\u001b[39m\"\u001b[39m \u001b[39m+\u001b[39m \u001b[39mstr\u001b[39m(imageSize) \u001b[39m+\u001b[39m \u001b[39m\"\u001b[39m\u001b[39mx\u001b[39m\u001b[39m\"\u001b[39m \u001b[39m+\u001b[39m \u001b[39mstr\u001b[39m(imageSize) \u001b[39m+\u001b[39m \u001b[39m\"\u001b[39m\u001b[39m_deeplayer_\u001b[39m\u001b[39m\"\u001b[39m \u001b[39m+\u001b[39m \u001b[39mstr\u001b[39m(deeplayer)\n\u001b[0;32m     <a href='vscode-notebook-cell:/c%3A/Users/rafae/OneDrive/DocumentosOneDrive/Code/Python/TCC-DeepLab/Keras-DeeplabV3Plus-MobilenetV2/keras-deeplabv3-cityscapes.ipynb#X45sZmlsZQ%3D%3D?line=15'>16</a>\u001b[0m model \u001b[39m=\u001b[39m DeeplabV3(imageSize\u001b[39m=\u001b[39mimageSize, nClasses\u001b[39m=\u001b[39mnClasses, alpha\u001b[39m=\u001b[39malpha, modelName\u001b[39m=\u001b[39mMODEL_NAME, mobileLayers\u001b[39m=\u001b[39mmobileLayers)\n\u001b[1;32m---> <a href='vscode-notebook-cell:/c%3A/Users/rafae/OneDrive/DocumentosOneDrive/Code/Python/TCC-DeepLab/Keras-DeeplabV3Plus-MobilenetV2/keras-deeplabv3-cityscapes.ipynb#X45sZmlsZQ%3D%3D?line=17'>18</a>\u001b[0m model\u001b[39m.\u001b[39;49mrun(trainDataset, valDataset, epochs\u001b[39m=\u001b[39;49m\u001b[39m1000\u001b[39;49m, learningRate\u001b[39m=\u001b[39;49mlr, batchSize\u001b[39m=\u001b[39;49mbatchSize, monitor\u001b[39m=\u001b[39;49m\u001b[39m\"\u001b[39;49m\u001b[39mval_loss\u001b[39;49m\u001b[39m\"\u001b[39;49m, log\u001b[39m=\u001b[39;49m\u001b[39mTrue\u001b[39;49;00m)\n\u001b[0;32m     <a href='vscode-notebook-cell:/c%3A/Users/rafae/OneDrive/DocumentosOneDrive/Code/Python/TCC-DeepLab/Keras-DeeplabV3Plus-MobilenetV2/keras-deeplabv3-cityscapes.ipynb#X45sZmlsZQ%3D%3D?line=19'>20</a>\u001b[0m \u001b[39m# Evaluate the model\u001b[39;00m\n\u001b[0;32m     <a href='vscode-notebook-cell:/c%3A/Users/rafae/OneDrive/DocumentosOneDrive/Code/Python/TCC-DeepLab/Keras-DeeplabV3Plus-MobilenetV2/keras-deeplabv3-cityscapes.ipynb#X45sZmlsZQ%3D%3D?line=20'>21</a>\u001b[0m losses[MODEL_NAME] \u001b[39m=\u001b[39m model\u001b[39m.\u001b[39mevaluate(valDataset)\n",
      "File \u001b[1;32mc:\\Users\\rafae\\OneDrive\\DocumentosOneDrive\\Code\\Python\\TCC-DeepLab\\Keras-DeeplabV3Plus-MobilenetV2\\modelclass.py:107\u001b[0m, in \u001b[0;36mDeeplabV3.run\u001b[1;34m(self, xData, valData, batchSize, learningRate, epochs, monitor, log)\u001b[0m\n\u001b[0;32m    104\u001b[0m \u001b[39mdef\u001b[39;00m \u001b[39mrun\u001b[39m(\u001b[39mself\u001b[39m, xData, valData, batchSize\u001b[39m=\u001b[39m\u001b[39m4\u001b[39m, learningRate\u001b[39m=\u001b[39m\u001b[39m1e-2\u001b[39m, epochs\u001b[39m=\u001b[39m\u001b[39m100\u001b[39m, monitor\u001b[39m=\u001b[39m\u001b[39m\"\u001b[39m\u001b[39mmIOU\u001b[39m\u001b[39m\"\u001b[39m, log\u001b[39m=\u001b[39m\u001b[39mFalse\u001b[39;00m):\n\u001b[0;32m    105\u001b[0m     \u001b[39mself\u001b[39m\u001b[39m.\u001b[39mcompile(learningRate\u001b[39m=\u001b[39mlearningRate)\n\u001b[1;32m--> 107\u001b[0m     \u001b[39mself\u001b[39;49m\u001b[39m.\u001b[39;49mmodel\u001b[39m.\u001b[39;49mfit(x\u001b[39m=\u001b[39;49mxData, validation_data\u001b[39m=\u001b[39;49mvalData, batch_size\u001b[39m=\u001b[39;49mbatchSize,\n\u001b[0;32m    108\u001b[0m                    epochs\u001b[39m=\u001b[39;49mepochs, callbacks\u001b[39m=\u001b[39;49m\u001b[39mself\u001b[39;49m\u001b[39m.\u001b[39;49m__callbacks__(monitor\u001b[39m=\u001b[39;49mmonitor, log\u001b[39m=\u001b[39;49mlog))\n",
      "File \u001b[1;32md:\\Anaconda\\envs\\tf_gpu\\lib\\site-packages\\keras\\utils\\traceback_utils.py:65\u001b[0m, in \u001b[0;36mfilter_traceback.<locals>.error_handler\u001b[1;34m(*args, **kwargs)\u001b[0m\n\u001b[0;32m     63\u001b[0m filtered_tb \u001b[39m=\u001b[39m \u001b[39mNone\u001b[39;00m\n\u001b[0;32m     64\u001b[0m \u001b[39mtry\u001b[39;00m:\n\u001b[1;32m---> 65\u001b[0m     \u001b[39mreturn\u001b[39;00m fn(\u001b[39m*\u001b[39margs, \u001b[39m*\u001b[39m\u001b[39m*\u001b[39mkwargs)\n\u001b[0;32m     66\u001b[0m \u001b[39mexcept\u001b[39;00m \u001b[39mException\u001b[39;00m \u001b[39mas\u001b[39;00m e:\n\u001b[0;32m     67\u001b[0m     filtered_tb \u001b[39m=\u001b[39m _process_traceback_frames(e\u001b[39m.\u001b[39m__traceback__)\n",
      "File \u001b[1;32md:\\Anaconda\\envs\\tf_gpu\\lib\\site-packages\\keras\\engine\\training.py:1606\u001b[0m, in \u001b[0;36mModel.fit\u001b[1;34m(self, x, y, batch_size, epochs, verbose, callbacks, validation_split, validation_data, shuffle, class_weight, sample_weight, initial_epoch, steps_per_epoch, validation_steps, validation_batch_size, validation_freq, max_queue_size, workers, use_multiprocessing)\u001b[0m\n\u001b[0;32m   1591\u001b[0m \u001b[39mif\u001b[39;00m \u001b[39mgetattr\u001b[39m(\u001b[39mself\u001b[39m, \u001b[39m\"\u001b[39m\u001b[39m_eval_data_handler\u001b[39m\u001b[39m\"\u001b[39m, \u001b[39mNone\u001b[39;00m) \u001b[39mis\u001b[39;00m \u001b[39mNone\u001b[39;00m:\n\u001b[0;32m   1592\u001b[0m     \u001b[39mself\u001b[39m\u001b[39m.\u001b[39m_eval_data_handler \u001b[39m=\u001b[39m data_adapter\u001b[39m.\u001b[39mget_data_handler(\n\u001b[0;32m   1593\u001b[0m         x\u001b[39m=\u001b[39mval_x,\n\u001b[0;32m   1594\u001b[0m         y\u001b[39m=\u001b[39mval_y,\n\u001b[1;32m   (...)\u001b[0m\n\u001b[0;32m   1604\u001b[0m         steps_per_execution\u001b[39m=\u001b[39m\u001b[39mself\u001b[39m\u001b[39m.\u001b[39m_steps_per_execution,\n\u001b[0;32m   1605\u001b[0m     )\n\u001b[1;32m-> 1606\u001b[0m val_logs \u001b[39m=\u001b[39m \u001b[39mself\u001b[39;49m\u001b[39m.\u001b[39;49mevaluate(\n\u001b[0;32m   1607\u001b[0m     x\u001b[39m=\u001b[39;49mval_x,\n\u001b[0;32m   1608\u001b[0m     y\u001b[39m=\u001b[39;49mval_y,\n\u001b[0;32m   1609\u001b[0m     sample_weight\u001b[39m=\u001b[39;49mval_sample_weight,\n\u001b[0;32m   1610\u001b[0m     batch_size\u001b[39m=\u001b[39;49mvalidation_batch_size \u001b[39mor\u001b[39;49;00m batch_size,\n\u001b[0;32m   1611\u001b[0m     steps\u001b[39m=\u001b[39;49mvalidation_steps,\n\u001b[0;32m   1612\u001b[0m     callbacks\u001b[39m=\u001b[39;49mcallbacks,\n\u001b[0;32m   1613\u001b[0m     max_queue_size\u001b[39m=\u001b[39;49mmax_queue_size,\n\u001b[0;32m   1614\u001b[0m     workers\u001b[39m=\u001b[39;49mworkers,\n\u001b[0;32m   1615\u001b[0m     use_multiprocessing\u001b[39m=\u001b[39;49muse_multiprocessing,\n\u001b[0;32m   1616\u001b[0m     return_dict\u001b[39m=\u001b[39;49m\u001b[39mTrue\u001b[39;49;00m,\n\u001b[0;32m   1617\u001b[0m     _use_cached_eval_dataset\u001b[39m=\u001b[39;49m\u001b[39mTrue\u001b[39;49;00m,\n\u001b[0;32m   1618\u001b[0m )\n\u001b[0;32m   1619\u001b[0m val_logs \u001b[39m=\u001b[39m {\n\u001b[0;32m   1620\u001b[0m     \u001b[39m\"\u001b[39m\u001b[39mval_\u001b[39m\u001b[39m\"\u001b[39m \u001b[39m+\u001b[39m name: val \u001b[39mfor\u001b[39;00m name, val \u001b[39min\u001b[39;00m val_logs\u001b[39m.\u001b[39mitems()\n\u001b[0;32m   1621\u001b[0m }\n\u001b[0;32m   1622\u001b[0m epoch_logs\u001b[39m.\u001b[39mupdate(val_logs)\n",
      "File \u001b[1;32md:\\Anaconda\\envs\\tf_gpu\\lib\\site-packages\\keras\\utils\\traceback_utils.py:65\u001b[0m, in \u001b[0;36mfilter_traceback.<locals>.error_handler\u001b[1;34m(*args, **kwargs)\u001b[0m\n\u001b[0;32m     63\u001b[0m filtered_tb \u001b[39m=\u001b[39m \u001b[39mNone\u001b[39;00m\n\u001b[0;32m     64\u001b[0m \u001b[39mtry\u001b[39;00m:\n\u001b[1;32m---> 65\u001b[0m     \u001b[39mreturn\u001b[39;00m fn(\u001b[39m*\u001b[39margs, \u001b[39m*\u001b[39m\u001b[39m*\u001b[39mkwargs)\n\u001b[0;32m     66\u001b[0m \u001b[39mexcept\u001b[39;00m \u001b[39mException\u001b[39;00m \u001b[39mas\u001b[39;00m e:\n\u001b[0;32m     67\u001b[0m     filtered_tb \u001b[39m=\u001b[39m _process_traceback_frames(e\u001b[39m.\u001b[39m__traceback__)\n",
      "File \u001b[1;32md:\\Anaconda\\envs\\tf_gpu\\lib\\site-packages\\keras\\engine\\training.py:1947\u001b[0m, in \u001b[0;36mModel.evaluate\u001b[1;34m(self, x, y, batch_size, verbose, sample_weight, steps, callbacks, max_queue_size, workers, use_multiprocessing, return_dict, **kwargs)\u001b[0m\n\u001b[0;32m   1943\u001b[0m \u001b[39mwith\u001b[39;00m tf\u001b[39m.\u001b[39mprofiler\u001b[39m.\u001b[39mexperimental\u001b[39m.\u001b[39mTrace(\n\u001b[0;32m   1944\u001b[0m     \u001b[39m\"\u001b[39m\u001b[39mtest\u001b[39m\u001b[39m\"\u001b[39m, step_num\u001b[39m=\u001b[39mstep, _r\u001b[39m=\u001b[39m\u001b[39m1\u001b[39m\n\u001b[0;32m   1945\u001b[0m ):\n\u001b[0;32m   1946\u001b[0m     callbacks\u001b[39m.\u001b[39mon_test_batch_begin(step)\n\u001b[1;32m-> 1947\u001b[0m     tmp_logs \u001b[39m=\u001b[39m \u001b[39mself\u001b[39;49m\u001b[39m.\u001b[39;49mtest_function(iterator)\n\u001b[0;32m   1948\u001b[0m     \u001b[39mif\u001b[39;00m data_handler\u001b[39m.\u001b[39mshould_sync:\n\u001b[0;32m   1949\u001b[0m         context\u001b[39m.\u001b[39masync_wait()\n",
      "File \u001b[1;32md:\\Anaconda\\envs\\tf_gpu\\lib\\site-packages\\tensorflow\\python\\util\\traceback_utils.py:150\u001b[0m, in \u001b[0;36mfilter_traceback.<locals>.error_handler\u001b[1;34m(*args, **kwargs)\u001b[0m\n\u001b[0;32m    148\u001b[0m filtered_tb \u001b[39m=\u001b[39m \u001b[39mNone\u001b[39;00m\n\u001b[0;32m    149\u001b[0m \u001b[39mtry\u001b[39;00m:\n\u001b[1;32m--> 150\u001b[0m   \u001b[39mreturn\u001b[39;00m fn(\u001b[39m*\u001b[39margs, \u001b[39m*\u001b[39m\u001b[39m*\u001b[39mkwargs)\n\u001b[0;32m    151\u001b[0m \u001b[39mexcept\u001b[39;00m \u001b[39mException\u001b[39;00m \u001b[39mas\u001b[39;00m e:\n\u001b[0;32m    152\u001b[0m   filtered_tb \u001b[39m=\u001b[39m _process_traceback_frames(e\u001b[39m.\u001b[39m__traceback__)\n",
      "File \u001b[1;32md:\\Anaconda\\envs\\tf_gpu\\lib\\site-packages\\tensorflow\\python\\eager\\def_function.py:915\u001b[0m, in \u001b[0;36mFunction.__call__\u001b[1;34m(self, *args, **kwds)\u001b[0m\n\u001b[0;32m    912\u001b[0m compiler \u001b[39m=\u001b[39m \u001b[39m\"\u001b[39m\u001b[39mxla\u001b[39m\u001b[39m\"\u001b[39m \u001b[39mif\u001b[39;00m \u001b[39mself\u001b[39m\u001b[39m.\u001b[39m_jit_compile \u001b[39melse\u001b[39;00m \u001b[39m\"\u001b[39m\u001b[39mnonXla\u001b[39m\u001b[39m\"\u001b[39m\n\u001b[0;32m    914\u001b[0m \u001b[39mwith\u001b[39;00m OptionalXlaContext(\u001b[39mself\u001b[39m\u001b[39m.\u001b[39m_jit_compile):\n\u001b[1;32m--> 915\u001b[0m   result \u001b[39m=\u001b[39m \u001b[39mself\u001b[39m\u001b[39m.\u001b[39m_call(\u001b[39m*\u001b[39margs, \u001b[39m*\u001b[39m\u001b[39m*\u001b[39mkwds)\n\u001b[0;32m    917\u001b[0m new_tracing_count \u001b[39m=\u001b[39m \u001b[39mself\u001b[39m\u001b[39m.\u001b[39mexperimental_get_tracing_count()\n\u001b[0;32m    918\u001b[0m without_tracing \u001b[39m=\u001b[39m (tracing_count \u001b[39m==\u001b[39m new_tracing_count)\n",
      "File \u001b[1;32md:\\Anaconda\\envs\\tf_gpu\\lib\\site-packages\\tensorflow\\python\\eager\\def_function.py:954\u001b[0m, in \u001b[0;36mFunction._call\u001b[1;34m(self, *args, **kwds)\u001b[0m\n\u001b[0;32m    951\u001b[0m \u001b[39mself\u001b[39m\u001b[39m.\u001b[39m_lock\u001b[39m.\u001b[39mrelease()\n\u001b[0;32m    952\u001b[0m \u001b[39m# In this case we have not created variables on the first call. So we can\u001b[39;00m\n\u001b[0;32m    953\u001b[0m \u001b[39m# run the first trace but we should fail if variables are created.\u001b[39;00m\n\u001b[1;32m--> 954\u001b[0m results \u001b[39m=\u001b[39m \u001b[39mself\u001b[39m\u001b[39m.\u001b[39m_stateful_fn(\u001b[39m*\u001b[39margs, \u001b[39m*\u001b[39m\u001b[39m*\u001b[39mkwds)\n\u001b[0;32m    955\u001b[0m \u001b[39mif\u001b[39;00m \u001b[39mself\u001b[39m\u001b[39m.\u001b[39m_created_variables \u001b[39mand\u001b[39;00m \u001b[39mnot\u001b[39;00m ALLOW_DYNAMIC_VARIABLE_CREATION:\n\u001b[0;32m    956\u001b[0m   \u001b[39mraise\u001b[39;00m \u001b[39mValueError\u001b[39;00m(\u001b[39m\"\u001b[39m\u001b[39mCreating variables on a non-first call to a function\u001b[39m\u001b[39m\"\u001b[39m\n\u001b[0;32m    957\u001b[0m                    \u001b[39m\"\u001b[39m\u001b[39m decorated with tf.function.\u001b[39m\u001b[39m\"\u001b[39m)\n",
      "File \u001b[1;32md:\\Anaconda\\envs\\tf_gpu\\lib\\site-packages\\tensorflow\\python\\eager\\function.py:2496\u001b[0m, in \u001b[0;36mFunction.__call__\u001b[1;34m(self, *args, **kwargs)\u001b[0m\n\u001b[0;32m   2493\u001b[0m \u001b[39mwith\u001b[39;00m \u001b[39mself\u001b[39m\u001b[39m.\u001b[39m_lock:\n\u001b[0;32m   2494\u001b[0m   (graph_function,\n\u001b[0;32m   2495\u001b[0m    filtered_flat_args) \u001b[39m=\u001b[39m \u001b[39mself\u001b[39m\u001b[39m.\u001b[39m_maybe_define_function(args, kwargs)\n\u001b[1;32m-> 2496\u001b[0m \u001b[39mreturn\u001b[39;00m graph_function\u001b[39m.\u001b[39;49m_call_flat(\n\u001b[0;32m   2497\u001b[0m     filtered_flat_args, captured_inputs\u001b[39m=\u001b[39;49mgraph_function\u001b[39m.\u001b[39;49mcaptured_inputs)\n",
      "File \u001b[1;32md:\\Anaconda\\envs\\tf_gpu\\lib\\site-packages\\tensorflow\\python\\eager\\function.py:1862\u001b[0m, in \u001b[0;36mConcreteFunction._call_flat\u001b[1;34m(self, args, captured_inputs, cancellation_manager)\u001b[0m\n\u001b[0;32m   1858\u001b[0m possible_gradient_type \u001b[39m=\u001b[39m gradients_util\u001b[39m.\u001b[39mPossibleTapeGradientTypes(args)\n\u001b[0;32m   1859\u001b[0m \u001b[39mif\u001b[39;00m (possible_gradient_type \u001b[39m==\u001b[39m gradients_util\u001b[39m.\u001b[39mPOSSIBLE_GRADIENT_TYPES_NONE\n\u001b[0;32m   1860\u001b[0m     \u001b[39mand\u001b[39;00m executing_eagerly):\n\u001b[0;32m   1861\u001b[0m   \u001b[39m# No tape is watching; skip to running the function.\u001b[39;00m\n\u001b[1;32m-> 1862\u001b[0m   \u001b[39mreturn\u001b[39;00m \u001b[39mself\u001b[39m\u001b[39m.\u001b[39m_build_call_outputs(\u001b[39mself\u001b[39;49m\u001b[39m.\u001b[39;49m_inference_function\u001b[39m.\u001b[39;49mcall(\n\u001b[0;32m   1863\u001b[0m       ctx, args, cancellation_manager\u001b[39m=\u001b[39;49mcancellation_manager))\n\u001b[0;32m   1864\u001b[0m forward_backward \u001b[39m=\u001b[39m \u001b[39mself\u001b[39m\u001b[39m.\u001b[39m_select_forward_and_backward_functions(\n\u001b[0;32m   1865\u001b[0m     args,\n\u001b[0;32m   1866\u001b[0m     possible_gradient_type,\n\u001b[0;32m   1867\u001b[0m     executing_eagerly)\n\u001b[0;32m   1868\u001b[0m forward_function, args_with_tangents \u001b[39m=\u001b[39m forward_backward\u001b[39m.\u001b[39mforward()\n",
      "File \u001b[1;32md:\\Anaconda\\envs\\tf_gpu\\lib\\site-packages\\tensorflow\\python\\eager\\function.py:499\u001b[0m, in \u001b[0;36m_EagerDefinedFunction.call\u001b[1;34m(self, ctx, args, cancellation_manager)\u001b[0m\n\u001b[0;32m    497\u001b[0m \u001b[39mwith\u001b[39;00m _InterpolateFunctionError(\u001b[39mself\u001b[39m):\n\u001b[0;32m    498\u001b[0m   \u001b[39mif\u001b[39;00m cancellation_manager \u001b[39mis\u001b[39;00m \u001b[39mNone\u001b[39;00m:\n\u001b[1;32m--> 499\u001b[0m     outputs \u001b[39m=\u001b[39m execute\u001b[39m.\u001b[39;49mexecute(\n\u001b[0;32m    500\u001b[0m         \u001b[39mstr\u001b[39;49m(\u001b[39mself\u001b[39;49m\u001b[39m.\u001b[39;49msignature\u001b[39m.\u001b[39;49mname),\n\u001b[0;32m    501\u001b[0m         num_outputs\u001b[39m=\u001b[39;49m\u001b[39mself\u001b[39;49m\u001b[39m.\u001b[39;49m_num_outputs,\n\u001b[0;32m    502\u001b[0m         inputs\u001b[39m=\u001b[39;49margs,\n\u001b[0;32m    503\u001b[0m         attrs\u001b[39m=\u001b[39;49mattrs,\n\u001b[0;32m    504\u001b[0m         ctx\u001b[39m=\u001b[39;49mctx)\n\u001b[0;32m    505\u001b[0m   \u001b[39melse\u001b[39;00m:\n\u001b[0;32m    506\u001b[0m     outputs \u001b[39m=\u001b[39m execute\u001b[39m.\u001b[39mexecute_with_cancellation(\n\u001b[0;32m    507\u001b[0m         \u001b[39mstr\u001b[39m(\u001b[39mself\u001b[39m\u001b[39m.\u001b[39msignature\u001b[39m.\u001b[39mname),\n\u001b[0;32m    508\u001b[0m         num_outputs\u001b[39m=\u001b[39m\u001b[39mself\u001b[39m\u001b[39m.\u001b[39m_num_outputs,\n\u001b[1;32m   (...)\u001b[0m\n\u001b[0;32m    511\u001b[0m         ctx\u001b[39m=\u001b[39mctx,\n\u001b[0;32m    512\u001b[0m         cancellation_manager\u001b[39m=\u001b[39mcancellation_manager)\n",
      "File \u001b[1;32md:\\Anaconda\\envs\\tf_gpu\\lib\\site-packages\\tensorflow\\python\\eager\\execute.py:54\u001b[0m, in \u001b[0;36mquick_execute\u001b[1;34m(op_name, num_outputs, inputs, attrs, ctx, name)\u001b[0m\n\u001b[0;32m     52\u001b[0m \u001b[39mtry\u001b[39;00m:\n\u001b[0;32m     53\u001b[0m   ctx\u001b[39m.\u001b[39mensure_initialized()\n\u001b[1;32m---> 54\u001b[0m   tensors \u001b[39m=\u001b[39m pywrap_tfe\u001b[39m.\u001b[39;49mTFE_Py_Execute(ctx\u001b[39m.\u001b[39;49m_handle, device_name, op_name,\n\u001b[0;32m     55\u001b[0m                                       inputs, attrs, num_outputs)\n\u001b[0;32m     56\u001b[0m \u001b[39mexcept\u001b[39;00m core\u001b[39m.\u001b[39m_NotOkStatusException \u001b[39mas\u001b[39;00m e:\n\u001b[0;32m     57\u001b[0m   \u001b[39mif\u001b[39;00m name \u001b[39mis\u001b[39;00m \u001b[39mnot\u001b[39;00m \u001b[39mNone\u001b[39;00m:\n",
      "\u001b[1;31mKeyboardInterrupt\u001b[0m: "
     ]
    }
   ],
   "source": [
    "losses = {}\n",
    "\n",
    "for deeplayer in [6, 7, 8, 9, 10, 11, 12]:\n",
    "    mobileLayers={\"shallowLayer\": \"block_2_project_BN\", \"deepLayer\": \"block_\" + str(deeplayer) + \"_project_BN\"}\n",
    "    \n",
    "    for lr in lrs:\n",
    "        for alpha in alphas:\n",
    "            for i, (trainDataset, valDataset, nClasses) in enumerate(data):\n",
    "                if alpha > 1. and deeplayer > 10:\n",
    "                    continue\n",
    "                \n",
    "                print(\"Fold:\", i, \"learning rate:\", lr, \"alpha:\", alpha)\n",
    "                \n",
    "                MODEL_NAME = \"deeplabv3plus_fold_\" + str(i) + \"_lr_\" + str(lr) + \"_alpha_\" + str(alpha) + \"_binary_\" + str(imageSize) + \"x\" + str(imageSize) + \"_deeplayer_\" + str(deeplayer)\n",
    "\n",
    "                model = DeeplabV3(imageSize=imageSize, nClasses=nClasses, alpha=alpha, modelName=MODEL_NAME, mobileLayers=mobileLayers)\n",
    "                \n",
    "                model.run(trainDataset, valDataset, epochs=1000, learningRate=lr, batchSize=batchSize, monitor=\"val_loss\", log=True)\n",
    "\n",
    "                # Evaluate the model\n",
    "                losses[MODEL_NAME] = model.evaluate(valDataset)\n",
    "                print(\"losses\", losses)"
   ]
  },
  {
   "cell_type": "code",
   "execution_count": null,
   "id": "37b318f7",
   "metadata": {},
   "outputs": [
    {
     "data": {
      "text/plain": [
       "{}"
      ]
     },
     "execution_count": 5,
     "metadata": {},
     "output_type": "execute_result"
    }
   ],
   "source": [
    "losses"
   ]
  },
  {
   "cell_type": "markdown",
   "id": "615a50ac",
   "metadata": {},
   "source": [
    "##### TFLITE Converter\n"
   ]
  },
  {
   "cell_type": "code",
   "execution_count": null,
   "id": "8212d9aa",
   "metadata": {},
   "outputs": [],
   "source": [
    "from utils.imageUtils import representativeDatasetGen\n",
    "\n",
    "representativeData = representativeDatasetGen(path=\"../cityscapes/alldata\")"
   ]
  },
  {
   "cell_type": "code",
   "execution_count": null,
   "id": "5571200f",
   "metadata": {},
   "outputs": [],
   "source": [
    "MODEL_NAME = \"binary_rain_fog.hdf5\"\n",
    "MODEL_PATH = os.path.join(\"model-saved\", MODEL_NAME)\n",
    "\n",
    "import models\n",
    "importlib.reload(models)\n",
    "\n",
    "image_size = 256\n",
    "num_classes = 2\n",
    "alpha = 1\n",
    "\n",
    "model = models.DeeplabV3(image_size, num_classes, alpha, modelName=MODEL_NAME)\n",
    "model.load_weights(MODEL_PATH)\n",
    "\n",
    "model.toTFlite(representative_dataset_gen=representativeData, supported_ops=[tf.lite.OpsSet.TFLITE_BUILTINS])\n",
    "\n",
    "MODEL_NAME = \"binary_rain_fog.hdf5\"\n",
    "MODEL_PATH = os.path.join(\"model-saved\", MODEL_NAME)\n",
    "\n",
    "model = models.DeeplabV3(image_size, num_classes, alpha, modelName=MODEL_NAME)\n",
    "model.load_weights(MODEL_PATH)\n",
    "\n",
    "model.toTFlite(representative_dataset_gen=representativeData)"
   ]
  },
  {
   "cell_type": "code",
   "execution_count": null,
   "id": "5bc8b5cd",
   "metadata": {},
   "outputs": [],
   "source": [
    "MODEL_NAME = \"binary_rain_fog.hdf5\"\n",
    "MODEL_PATH = os.path.join(\"model-saved\", MODEL_NAME)\n",
    "\n",
    "import models\n",
    "importlib.reload(models)\n",
    "\n",
    "image_size = 256\n",
    "num_classes = 2\n",
    "alpha = 1\n",
    "\n",
    "model = models.DeeplabV3(image_size, num_classes, alpha, modelName=MODEL_NAME)\n",
    "\n",
    "model.load_weights(MODEL_PATH)\n",
    "\n"
   ]
  },
  {
   "cell_type": "code",
   "execution_count": null,
   "id": "2cd184ff",
   "metadata": {},
   "outputs": [],
   "source": []
  }
 ],
 "metadata": {
  "kernelspec": {
   "display_name": "Python 3.9.12 ('tf_gpu')",
   "language": "python",
   "name": "python3"
  },
  "language_info": {
   "codemirror_mode": {
    "name": "ipython",
    "version": 3
   },
   "file_extension": ".py",
   "mimetype": "text/x-python",
   "name": "python",
   "nbconvert_exporter": "python",
   "pygments_lexer": "ipython3",
   "version": "3.9.12"
  },
  "vscode": {
   "interpreter": {
    "hash": "23e7a0b0a1ade771721f510eeefb26c42b77578caec684a32e14f7e5228bf389"
   }
  }
 },
 "nbformat": 4,
 "nbformat_minor": 5
}
