{
 "cells": [
  {
   "cell_type": "code",
   "execution_count": 1,
   "metadata": {},
   "outputs": [
    {
     "name": "stdout",
     "output_type": "stream",
     "text": [
      "2.10.1\n",
      "[PhysicalDevice(name='/physical_device:GPU:0', device_type='GPU')]\n"
     ]
    }
   ],
   "source": [
    "import os\n",
    "os.environ['TF_CPP_MIN_LOG_LEVEL'] = '1'\n",
    "\n",
    "# Turn off GPU\n",
    "if False:\n",
    "    os.environ[\"CUDA_VISIBLE_DEVICES\"] = \"-1\"\n",
    "\n",
    "from tensorflow import keras\n",
    "import tensorflow as tf\n",
    "from glob import glob\n",
    "import numpy as np\n",
    "\n",
    "gpus = tf.config.experimental.list_physical_devices('GPU')\n",
    "\n",
    "print(tf.__version__)\n",
    "print(gpus)\n",
    "\n",
    "if len(gpus) > 0:\n",
    "    tf.config.experimental.set_virtual_device_configuration(gpus[0], [tf.config.experimental.VirtualDeviceConfiguration(memory_limit=(1024 * 2))])"
   ]
  },
  {
   "cell_type": "code",
   "execution_count": 2,
   "metadata": {},
   "outputs": [
    {
     "data": {
      "text/plain": [
       "(array(['model-saved\\\\deeplabV3+_mobileNetV2\\\\deeplayer_12_alpha_0.5_lr_0.0001_regularizer_l1_0.0001_l2_1e-05',\n",
       "        'model-saved\\\\deeplabV3+_mobileNetV2\\\\deeplayer_12_alpha_0.5_lr_0.0001_regularizer_l1_1e-05_l2_1e-05',\n",
       "        'model-saved\\\\deeplabV3+_mobileNetV2\\\\deeplayer_12_alpha_0.5_lr_0.001_regularizer_l1_0.0001_l2_1e-05',\n",
       "        'model-saved\\\\deeplabV3+_mobileNetV2\\\\deeplayer_12_alpha_0.5_lr_0.001_regularizer_l1_0.0001_l2_1e-06',\n",
       "        'model-saved\\\\deeplabV3+_mobileNetV2\\\\deeplayer_12_alpha_0.5_lr_0.001_regularizer_l1_1e-05_l2_1e-05'],\n",
       "       dtype='<U98'),\n",
       " array(['model-saved\\\\deeplabV3+_mobileNetV2\\\\deeplayer_12_alpha_1.0_lr_0.0001_regularizer_l1_0.0001_l2_1e-05',\n",
       "        'model-saved\\\\deeplabV3+_mobileNetV2\\\\deeplayer_12_alpha_1.0_lr_0.0001_regularizer_l1_0.0001_l2_1e-06',\n",
       "        'model-saved\\\\deeplabV3+_mobileNetV2\\\\deeplayer_12_alpha_1.0_lr_0.0001_regularizer_l1_1e-05_l2_1e-05',\n",
       "        'model-saved\\\\deeplabV3+_mobileNetV2\\\\deeplayer_12_alpha_1.0_lr_0.0001_regularizer_l1_1e-05_l2_1e-06',\n",
       "        'model-saved\\\\deeplabV3+_mobileNetV2\\\\deeplayer_12_alpha_1.0_lr_0.001_regularizer_l1_0.0001_l2_1e-05',\n",
       "        'model-saved\\\\deeplabV3+_mobileNetV2\\\\deeplayer_12_alpha_1.0_lr_0.001_regularizer_l1_1e-05_l2_1e-06'],\n",
       "       dtype='<U98'))"
      ]
     },
     "execution_count": 2,
     "metadata": {},
     "output_type": "execute_result"
    }
   ],
   "source": [
    "from glob import glob\n",
    "\n",
    "models = np.array(sorted(glob(\"model-saved\\\\deeplabV3+_mobileNetV2\\\\*\")))\n",
    "\n",
    "index_model_0_5 = np.char.find(models, \"_alpha_0.5\") != -1\n",
    "\n",
    "models_0_5 = models[index_model_0_5]\n",
    "models_1_0 = models[~index_model_0_5]\n",
    "\n",
    "models_0_5, models_1_0"
   ]
  },
  {
   "cell_type": "code",
   "execution_count": 13,
   "metadata": {},
   "outputs": [],
   "source": [
    "modelFolder = models_1_0[0]"
   ]
  },
  {
   "cell_type": "code",
   "execution_count": 14,
   "metadata": {},
   "outputs": [
    {
     "name": "stdout",
     "output_type": "stream",
     "text": [
      "WARNING:tensorflow:`input_shape` is undefined or non-square, or `rows` is not in [96, 128, 160, 192, 224]. Weights for input shape (224, 224) will be loaded as the default.\n"
     ]
    },
    {
     "name": "stderr",
     "output_type": "stream",
     "text": [
      "WARNING:tensorflow:`input_shape` is undefined or non-square, or `rows` is not in [96, 128, 160, 192, 224]. Weights for input shape (224, 224) will be loaded as the default.\n"
     ]
    }
   ],
   "source": [
    "from models import deeplabV3\n",
    "\n",
    "imageSize = (256, 256)\n",
    "alpha = float(modelFolder[modelFolder.find(\"alpha_\")+6: modelFolder.find(\"alpha_\")+9])\n",
    "mobileLayers = {\"shallowLayer\": \"block_2_project_BN\",\n",
    "                \"deepLayer\": \"block_12_project_BN\"}\n",
    "\n",
    "model = deeplabV3(imageSize=imageSize, nClasses=2, alpha=alpha, withArgmax=True, mobileLayers=mobileLayers)"
   ]
  },
  {
   "cell_type": "code",
   "execution_count": 15,
   "metadata": {},
   "outputs": [
    {
     "data": {
      "text/plain": [
       "<tensorflow.python.checkpoint.checkpoint.CheckpointLoadStatus at 0x238dd7d9e20>"
      ]
     },
     "execution_count": 15,
     "metadata": {},
     "output_type": "execute_result"
    }
   ],
   "source": [
    "fold = 0\n",
    "\n",
    "model.load_weights(modelFolder + f\"\\\\fold_{fold}.ckpt\")"
   ]
  },
  {
   "cell_type": "code",
   "execution_count": 16,
   "metadata": {},
   "outputs": [
    {
     "name": "stdout",
     "output_type": "stream",
     "text": [
      "2975\n"
     ]
    }
   ],
   "source": [
    "from utils.model_utils import BatchGenerator\n",
    "\n",
    "images = glob(\"utils\\\\split\\\\TrainVal\\\\img\\\\*\")\n",
    "\n",
    "print(len(images))\n",
    "\n",
    "representativeDatasetGen = BatchGenerator(images)"
   ]
  },
  {
   "cell_type": "code",
   "execution_count": 17,
   "metadata": {},
   "outputs": [
    {
     "name": "stderr",
     "output_type": "stream",
     "text": [
      "WARNING:absl:Found untraced functions such as _jit_compiled_convolution_op, _jit_compiled_convolution_op, _jit_compiled_convolution_op, _jit_compiled_convolution_op, _jit_compiled_convolution_op while saving (showing 5 of 46). These functions will not be directly callable after loading.\n"
     ]
    },
    {
     "name": "stdout",
     "output_type": "stream",
     "text": [
      "INFO:tensorflow:Assets written to: C:\\Users\\rafae\\AppData\\Local\\Temp\\tmpbepej2t2\\assets\n"
     ]
    },
    {
     "name": "stderr",
     "output_type": "stream",
     "text": [
      "INFO:tensorflow:Assets written to: C:\\Users\\rafae\\AppData\\Local\\Temp\\tmpbepej2t2\\assets\n",
      "C:\\Users\\rafae\\AppData\\Roaming\\Python\\Python39\\site-packages\\tensorflow\\lite\\python\\convert.py:766: UserWarning: Statistics for quantized inputs were expected, but not specified; continuing anyway.\n",
      "  warnings.warn(\"Statistics for quantized inputs were expected, but not \"\n"
     ]
    }
   ],
   "source": [
    "from utils.model_utils import toTFlite\n",
    "from tensorflow import lite as tflite\n",
    "\n",
    "toTFlite(\n",
    "    model=model,\n",
    "    savePath=modelFolder + f\"\\\\fold_{fold}\",\n",
    "    representativeDatasetGen=representativeDatasetGen,\n",
    "    supportedOps=[\n",
    "        tflite.OpsSet.SELECT_TF_OPS,\n",
    "        tflite.OpsSet.TFLITE_BUILTINS])"
   ]
  },
  {
   "cell_type": "code",
   "execution_count": null,
   "metadata": {},
   "outputs": [],
   "source": []
  }
 ],
 "metadata": {
  "kernelspec": {
   "display_name": "tf_gpu",
   "language": "python",
   "name": "python3"
  },
  "language_info": {
   "codemirror_mode": {
    "name": "ipython",
    "version": 3
   },
   "file_extension": ".py",
   "mimetype": "text/x-python",
   "name": "python",
   "nbconvert_exporter": "python",
   "pygments_lexer": "ipython3",
   "version": "3.9.16"
  },
  "orig_nbformat": 4
 },
 "nbformat": 4,
 "nbformat_minor": 2
}
