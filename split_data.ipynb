{
 "cells": [
  {
   "cell_type": "code",
   "execution_count": null,
   "metadata": {},
   "outputs": [],
   "source": [
    "import numpy as np\n",
    "from glob import glob\n",
    "from utils import image_utils\n",
    "from utils.cityscapesSequence import binary_func\n",
    "from utils import data_utils\n",
    "\n",
    "imagesTrainVal = sorted(glob(\"..\\\\cityscapes\\\\allData\\\\leftImg8bit\\\\train\\\\*\\\\*\"))\n",
    "masksTrainVal = sorted(glob(\"..\\\\cityscapes\\\\allData\\\\gtFine\\\\train\\\\*\\\\*\"))\n",
    "\n",
    "imagesTest = sorted(glob(\"..\\\\cityscapes\\\\allData\\\\leftImg8bit\\\\val\\\\*\\\\*\"))\n",
    "masksTest = sorted(glob(\"..\\\\cityscapes\\\\allData\\\\gtFine\\\\val\\\\*\\\\*\"))\n",
    "\n",
    "len(imagesTrainVal), imagesTrainVal[:3], len(masksTrainVal), masksTrainVal[:3], \\\n",
    "len(imagesTest)    , imagesTest[:3]    , len(masksTest)    , masksTest[:3]"
   ]
  },
  {
   "cell_type": "code",
   "execution_count": null,
   "metadata": {},
   "outputs": [],
   "source": [
    "SIZE = (256, 256)"
   ]
  },
  {
   "cell_type": "code",
   "execution_count": null,
   "metadata": {},
   "outputs": [],
   "source": [
    "folders = [\"split\\\\TrainVal\\\\img\",\n",
    "           \"split\\\\TrainVal\\\\imgFog\",\n",
    "           \"split\\\\TrainVal\\\\mask\",\n",
    "           \"split\\\\Test\\\\img\",\n",
    "           \"split\\\\Test\\\\mask\"]"
   ]
  },
  {
   "cell_type": "code",
   "execution_count": null,
   "metadata": {},
   "outputs": [],
   "source": [
    "# data_utils.create_folder(folders) delete and create folder paths"
   ]
  },
  {
   "cell_type": "code",
   "execution_count": null,
   "metadata": {},
   "outputs": [],
   "source": [
    "from PIL import Image\n",
    "from os import path\n",
    "\n",
    "def getName(path):\n",
    "    return path \\\n",
    "        .replace(\"/\", \"\\\\\") \\\n",
    "        .split(\"\\\\\")[-1] \\\n",
    "        .replace(\"_leftImg8bit\",\"\") \\\n",
    "        .replace(\"_foggy_beta_0.01\",\"\") \\\n",
    "        .replace(\"_gtFine_labelIds\",\"\")"
   ]
  },
  {
   "cell_type": "code",
   "execution_count": null,
   "metadata": {},
   "outputs": [],
   "source": [
    "for image in imagesTrainVal + imagesTest:\n",
    "    pathOut = folders[0]\n",
    "\n",
    "    if image.find(\"foggy\") != -1:\n",
    "        pathOut = folders[1]\n",
    "    if image.find(\"val\") != -1:\n",
    "        pathOut = folders[3]\n",
    "\n",
    "    img = image_utils.load_img(image, size=SIZE)\n",
    "    \n",
    "    Image.fromarray(img, mode=\"RGB\").save(path.join(pathOut, getName(image)))"
   ]
  },
  {
   "cell_type": "code",
   "execution_count": null,
   "metadata": {},
   "outputs": [],
   "source": [
    "for maskPath in masksTrainVal + masksTest:   \n",
    "    pathOut = folders[2]\n",
    "\n",
    "    if maskPath.find(\"val\") != -1:\n",
    "        pathOut = folders[4]\n",
    "\n",
    "    mask = image_utils.load_mask(maskPath, size=SIZE, map_func=binary_func)\n",
    "    \n",
    "    Image.fromarray(mask, mode=\"L\").save(path.join(pathOut, getName(maskPath)))"
   ]
  },
  {
   "cell_type": "code",
   "execution_count": null,
   "metadata": {},
   "outputs": [],
   "source": []
  }
 ],
 "metadata": {
  "kernelspec": {
   "display_name": "tf_gpu",
   "language": "python",
   "name": "python3"
  },
  "language_info": {
   "codemirror_mode": {
    "name": "ipython",
    "version": 3
   },
   "file_extension": ".py",
   "mimetype": "text/x-python",
   "name": "python",
   "nbconvert_exporter": "python",
   "pygments_lexer": "ipython3",
   "version": "3.9.16"
  },
  "orig_nbformat": 4
 },
 "nbformat": 4,
 "nbformat_minor": 2
}
